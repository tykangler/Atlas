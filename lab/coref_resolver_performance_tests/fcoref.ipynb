{
 "cells": [
  {
   "cell_type": "markdown",
   "id": "c179aa1f-e55d-4744-b2ef-0afee51d14ff",
   "metadata": {},
   "source": [
    "> Please run this in python310 and with a spacy kernel."
   ]
  },
  {
   "cell_type": "markdown",
   "id": "feaac42e-66ed-4a78-b662-b94dd8964aa5",
   "metadata": {},
   "source": [
    "## Basic Usage"
   ]
  },
  {
   "cell_type": "code",
   "execution_count": 1,
   "id": "fbfe0c30-8741-465d-a3e1-1ae44326e8ae",
   "metadata": {},
   "outputs": [
    {
     "name": "stderr",
     "output_type": "stream",
     "text": [
      "C:\\Users\\tyler\\projects\\Atlas\\venv\\spacy\\lib\\site-packages\\tqdm\\auto.py:22: TqdmWarning: IProgress not found. Please update jupyter and ipywidgets. See https://ipywidgets.readthedocs.io/en/stable/user_install.html\n",
      "  from .autonotebook import tqdm as notebook_tqdm\n"
     ]
    }
   ],
   "source": [
    "from termcolor import colored\n",
    "import time\n",
    "from fastcoref import spacy_component\n",
    "from fastcoref import FCoref\n",
    "import spacy"
   ]
  },
  {
   "cell_type": "code",
   "execution_count": 2,
   "id": "5784cde9-6eb3-470f-9981-866302409993",
   "metadata": {},
   "outputs": [
    {
     "name": "stderr",
     "output_type": "stream",
     "text": [
      "01/08/2023 19:59:07 - INFO - \t missing_keys: []\n",
      "01/08/2023 19:59:07 - INFO - \t unexpected_keys: []\n",
      "01/08/2023 19:59:07 - INFO - \t mismatched_keys: []\n",
      "01/08/2023 19:59:07 - INFO - \t error_msgs: []\n",
      "01/08/2023 19:59:07 - INFO - \t Model Parameters: 90.5M, Transformer: 82.1M, Coref head: 8.4M\n",
      "01/08/2023 19:59:09 - INFO - \t missing_keys: []\n",
      "01/08/2023 19:59:09 - INFO - \t unexpected_keys: []\n",
      "01/08/2023 19:59:09 - INFO - \t mismatched_keys: []\n",
      "01/08/2023 19:59:09 - INFO - \t error_msgs: []\n",
      "01/08/2023 19:59:09 - INFO - \t Model Parameters: 90.5M, Transformer: 82.1M, Coref head: 8.4M\n",
      "01/08/2023 19:59:15 - INFO - \t missing_keys: []\n",
      "01/08/2023 19:59:15 - INFO - \t unexpected_keys: []\n",
      "01/08/2023 19:59:15 - INFO - \t mismatched_keys: []\n",
      "01/08/2023 19:59:15 - INFO - \t error_msgs: []\n",
      "01/08/2023 19:59:15 - INFO - \t Model Parameters: 590.0M, Transformer: 434.6M, Coref head: 155.4M\n"
     ]
    },
    {
     "data": {
      "text/plain": [
       "<fastcoref.spacy_component.spacy_component.FastCorefResolver at 0x199bedd13f0>"
      ]
     },
     "execution_count": 2,
     "metadata": {},
     "output_type": "execute_result"
    }
   ],
   "source": [
    "sm_nlp = spacy.load(\"en_core_web_sm\", exclude=[\"parser\", \"lemmatizer\", \"ner\", \"textcat\"])\n",
    "sm_nlp.add_pipe(\"fastcoref\")\n",
    "lg_nlp = spacy.load(\"en_core_web_lg\", exclude=[\"parser\", \"lemmatizer\", \"ner\", \"textcat\"])\n",
    "lg_nlp.add_pipe(\"fastcoref\")\n",
    "ling_nlp = spacy.load(\"en_core_web_sm\", exclude=[\"parser\", \"lemmatizer\", \"ner\", \"textcat\"])\n",
    "ling_nlp.add_pipe(\n",
    "   \"fastcoref\", \n",
    "   config={'model_architecture': 'LingMessCoref', 'model_path': 'biu-nlp/lingmess-coref', 'device': 'cpu'}\n",
    ")"
   ]
  },
  {
   "cell_type": "code",
   "execution_count": 3,
   "id": "a5e4bfa9-960f-4f3e-8738-e4698ab98349",
   "metadata": {},
   "outputs": [
    {
     "name": "stderr",
     "output_type": "stream",
     "text": [
      "01/08/2023 19:59:15 - INFO - \t Tokenize 1 inputs...\n",
      "100%|████████████████████████████████████████████████████████████████████████████████████| 1/1 [00:00<00:00, 16.00ba/s]\n",
      "01/08/2023 19:59:16 - INFO - \t ***** Running Inference on 1 texts *****\n",
      "Inference: 100%|█████████████████████████████████████████████████████████████████████████| 1/1 [00:00<00:00, 13.99it/s]\n"
     ]
    },
    {
     "data": {
      "text/plain": [
       "[[(0, 5), (39, 42), (79, 82)]]"
      ]
     },
     "execution_count": 3,
     "metadata": {},
     "output_type": "execute_result"
    }
   ],
   "source": [
    "text = 'Alice goes down the rabbit hole. Where she would discover a new reality beyond her expectations.'\n",
    "doc = sm_nlp(text)\n",
    "doc._.coref_clusters"
   ]
  },
  {
   "cell_type": "markdown",
   "id": "6241b4d5-f139-4073-a672-3673699822f7",
   "metadata": {},
   "source": [
    "## Utility Functions"
   ]
  },
  {
   "cell_type": "code",
   "execution_count": 4,
   "id": "6f966d9f-d519-49ab-8fbb-4c9ac892a1a7",
   "metadata": {},
   "outputs": [],
   "source": [
    "COLORS = ['green', 'red', 'yellow', 'blue', 'magenta', 'cyan']\n",
    "\n",
    "def get_color(index):\n",
    "    return COLORS[index % len(COLORS)]\n",
    "\n",
    "def cprint(text, color, newline=True):\n",
    "    print(colored(text, color), end='\\n' if newline else ' ')\n",
    "    \n",
    "def render_clusters(prediction, text):\n",
    "    corefs = prediction._.coref_clusters\n",
    "    for i, cluster in enumerate(corefs):\n",
    "        cprint(f'Cluster {i}', get_color(i))\n",
    "        for phrase_start, phrase_end in cluster:\n",
    "            cprint(f'{text[phrase_start:phrase_end + 1]} - [{phrase_start}, {phrase_end}]', get_color(i))\n",
    "            \n",
    "def predict_and_time(document, pipeline):\n",
    "    start = time.time()\n",
    "    prediction = pipeline(document)\n",
    "    end = time.time()\n",
    "    print(document)\n",
    "    render_clusters(prediction, document)\n",
    "    print(f\"Elapsed Time: {(end - start) * 1000}ms\");"
   ]
  },
  {
   "cell_type": "markdown",
   "id": "295a16b1-fdac-4401-a1eb-d52161a2f49d",
   "metadata": {},
   "source": [
    "## Excerpt Tests (`sm_nlp`)"
   ]
  },
  {
   "cell_type": "code",
   "execution_count": 5,
   "id": "4aa451c6-b625-48b9-ab10-797970d838c4",
   "metadata": {},
   "outputs": [],
   "source": [
    "short_excerpt = 'In practical terms, anarchy can refer to the curtailment or abolition of traditional forms of government and institutions. ' \\\n",
    "'It can also designate a nation or any inhabited place that has no system of government or central rule. ' \\\n",
    "'Anarchy is primarily advocated by individual anarchists who propose replacing government with voluntary institutions. ' \\\n",
    "'These institutions or free associations are generally modeled on nature.'"
   ]
  },
  {
   "cell_type": "code",
   "execution_count": 6,
   "id": "8541549d-abe0-4702-859d-f691a1ec5334",
   "metadata": {},
   "outputs": [
    {
     "name": "stderr",
     "output_type": "stream",
     "text": [
      "01/08/2023 19:59:16 - INFO - \t Tokenize 1 inputs...\n",
      "100%|████████████████████████████████████████████████████████████████████████████████████| 1/1 [00:00<00:00, 63.99ba/s]\n",
      "01/08/2023 19:59:16 - INFO - \t ***** Running Inference on 1 texts *****\n",
      "Inference: 100%|█████████████████████████████████████████████████████████████████████████| 1/1 [00:00<00:00,  4.26it/s]"
     ]
    },
    {
     "name": "stdout",
     "output_type": "stream",
     "text": [
      "In practical terms, anarchy can refer to the curtailment or abolition of traditional forms of government and institutions. It can also designate a nation or any inhabited place that has no system of government or central rule. Anarchy is primarily advocated by individual anarchists who propose replacing government with voluntary institutions. These institutions or free associations are generally modeled on nature.\n",
      "\u001b[32mCluster 0\u001b[0m\n",
      "\u001b[32manarchy  - [20, 27]\u001b[0m\n",
      "\u001b[32mIt  - [123, 125]\u001b[0m\n",
      "\u001b[31mCluster 1\u001b[0m\n",
      "\u001b[31mvoluntary institutions. - [321, 343]\u001b[0m\n",
      "\u001b[31mThese institutions or free associations  - [345, 384]\u001b[0m\n",
      "Elapsed Time: 344.4647789001465ms\n"
     ]
    },
    {
     "name": "stderr",
     "output_type": "stream",
     "text": [
      "\n"
     ]
    }
   ],
   "source": [
    "predict_and_time(short_excerpt, sm_nlp)"
   ]
  },
  {
   "cell_type": "code",
   "execution_count": 7,
   "id": "37699979-cd0c-42b7-9746-466fd328ede8",
   "metadata": {},
   "outputs": [],
   "source": [
    "longer_article = 'Anarchy is a society without a government. It may also refer to a society or group of people that entirely rejects a set hierarchy. '\\\n",
    "'Anarchy was first used in English in 1539, meaning \"an absence of government\". Pierre-Joseph Proudhon adopted anarchy and anarchist in his 1840 treatise What Is Property? '\\\n",
    "'to refer to anarchism, a new political philosophy and social movement that advocates stateless societies based on free and voluntary associations. '\\\n",
    "'Anarchists seek a system based on the abolition of all coercive hierarchy, in particular the state, and many advocate for the creation of a system of direct democracy, '\\\n",
    "'worker cooperatives or privatization. In practical terms, anarchy can refer to the curtailment or abolition of traditional forms of government and institutions. '\\\n",
    "'It can also designate a nation or any inhabited place that has no system of government or central rule. Anarchy is primarily advocated by individual anarchists '\\\n",
    "'who propose replacing government with voluntary institutions. These institutions or free associations are generally modeled on nature since they can represent '\\\n",
    "'concepts such as community and economic self-reliance, interdependence, or individualism. Although anarchy is often negatively used as a synonym of chaos or '\\\n",
    "'societal collapse or anomie, this is not the meaning that anarchists attribute to anarchy, a society without hierarchies. '\\\n",
    "'Proudhon wrote that anarchy is \"Not the Daughter But the Mother of Order.\"'"
   ]
  },
  {
   "cell_type": "code",
   "execution_count": 8,
   "id": "91d1e13c-1346-4b96-af99-6ad1989e8ba1",
   "metadata": {},
   "outputs": [
    {
     "name": "stderr",
     "output_type": "stream",
     "text": [
      "01/08/2023 19:59:16 - INFO - \t Tokenize 1 inputs...\n",
      "100%|████████████████████████████████████████████████████████████████████████████████████| 1/1 [00:00<00:00, 63.99ba/s]\n",
      "01/08/2023 19:59:16 - INFO - \t ***** Running Inference on 1 texts *****\n",
      "Inference: 100%|█████████████████████████████████████████████████████████████████████████| 1/1 [00:00<00:00,  2.45it/s]"
     ]
    },
    {
     "name": "stdout",
     "output_type": "stream",
     "text": [
      "Anarchy is a society without a government. It may also refer to a society or group of people that entirely rejects a set hierarchy. Anarchy was first used in English in 1539, meaning \"an absence of government\". Pierre-Joseph Proudhon adopted anarchy and anarchist in his 1840 treatise What Is Property? to refer to anarchism, a new political philosophy and social movement that advocates stateless societies based on free and voluntary associations. Anarchists seek a system based on the abolition of all coercive hierarchy, in particular the state, and many advocate for the creation of a system of direct democracy, worker cooperatives or privatization. In practical terms, anarchy can refer to the curtailment or abolition of traditional forms of government and institutions. It can also designate a nation or any inhabited place that has no system of government or central rule. Anarchy is primarily advocated by individual anarchists who propose replacing government with voluntary institutions. These institutions or free associations are generally modeled on nature since they can represent concepts such as community and economic self-reliance, interdependence, or individualism. Although anarchy is often negatively used as a synonym of chaos or societal collapse or anomie, this is not the meaning that anarchists attribute to anarchy, a society without hierarchies. Proudhon wrote that anarchy is \"Not the Daughter But the Mother of Order.\"\n",
      "\u001b[32mCluster 0\u001b[0m\n",
      "\u001b[32mAnarchy  - [0, 7]\u001b[0m\n",
      "\u001b[32mIt  - [43, 45]\u001b[0m\n",
      "\u001b[32mAnarchy  - [132, 139]\u001b[0m\n",
      "\u001b[32manarchism, a new political philosophy and social movement that advocates stateless societies based on free and voluntary associations. - [315, 448]\u001b[0m\n",
      "\u001b[31mCluster 1\u001b[0m\n",
      "\u001b[31mPierre-Joseph Proudhon  - [211, 233]\u001b[0m\n",
      "\u001b[31mhis  - [267, 270]\u001b[0m\n",
      "\u001b[31mProudhon  - [1377, 1385]\u001b[0m\n",
      "\u001b[33mCluster 2\u001b[0m\n",
      "\u001b[33manarchy  - [676, 683]\u001b[0m\n",
      "\u001b[33mIt  - [779, 781]\u001b[0m\n",
      "\u001b[34mCluster 3\u001b[0m\n",
      "\u001b[34mvoluntary institutions. - [977, 999]\u001b[0m\n",
      "\u001b[34mThese institutions or free associations  - [1001, 1040]\u001b[0m\n",
      "\u001b[34mthey  - [1079, 1083]\u001b[0m\n",
      "\u001b[35mCluster 4\u001b[0m\n",
      "\u001b[35ma synonym of chaos or societal collapse or anomie, - [1233, 1282]\u001b[0m\n",
      "\u001b[35mthis  - [1284, 1288]\u001b[0m\n",
      "Elapsed Time: 549.2315292358398ms\n"
     ]
    },
    {
     "name": "stderr",
     "output_type": "stream",
     "text": [
      "\n"
     ]
    }
   ],
   "source": [
    "predict_and_time(longer_article, sm_nlp)"
   ]
  },
  {
   "cell_type": "code",
   "execution_count": 9,
   "id": "06d22926-e3d8-4392-befb-63871d076569",
   "metadata": {},
   "outputs": [],
   "source": [
    "very_long_article = 'Following the outbreak of the civil war in Somalia and the ensuing collapse of the central government, residents reverted to '\\\n",
    "'local forms of conflict resolution, either secular, traditional or Islamic law, with a provision for appeal of all sentences. '\\\n",
    "'The legal structure in the country was divided along three lines, namely civil law, religious law and customary law (xeer). '\\\n",
    "'While Somalia\\'s formal judicial system was largely destroyed after the fall of the Siad Barre regime, it was later gradually rebuilt and '\\\n",
    "'administered under different regional governments such as the autonomous Puntland and Somaliland macro-regions. '\\\n",
    "'In the case of the Transitional National Government and its successor the Transitional Federal Government, '\\\n",
    "'new interim judicial structures were formed through various international conferences. Despite some significant political differences between '\\\n",
    "'them, all of these administrations shared similar legal structures, much of which were predicated on the judicial systems of previous '\\\n",
    "'Somali administrations. These similarities in civil law included a charter which affirms the primacy of Muslim shari\\'a or religious law, '\\\n",
    "'although in practice shari\\'a is applied mainly to matters such as marriage, divorce, inheritance and civil issues. '\\\n",
    "'The charter assured the independence of the judiciary which in turn was protected by a judicial committee; a three-tier judicial system '\\\n",
    "'including a supreme court, a court of appeals and courts of first instance (either divided between district and regional courts, or a single court per region); '\\\n",
    "'and the laws of the civilian government which were in effect prior to the military coup d\\'état that saw the Barre regime into power remain '\\\n",
    "'in forced until the laws are amended. '\\\n",
    "'Economist Alex Tabarrok claimed that Somalia in its stateless period provided a \"unique test of the theory of anarchy\", in some aspects near of '\\\n",
    "'that espoused by anarcho-capitalists such as David D. Friedman and Murray Rothbard. Nonetheless, both anarchists and some anarcho-capitalists '\\\n",
    "'such as Walter Block argue that Somalia was not an anarchist society.'"
   ]
  },
  {
   "cell_type": "code",
   "execution_count": 10,
   "id": "871ee898-59ad-4226-a12c-1d1a976ebdd3",
   "metadata": {},
   "outputs": [
    {
     "name": "stderr",
     "output_type": "stream",
     "text": [
      "01/08/2023 19:59:17 - INFO - \t Tokenize 1 inputs...\n",
      "100%|████████████████████████████████████████████████████████████████████████████████████| 1/1 [00:00<00:00, 62.47ba/s]\n",
      "01/08/2023 19:59:17 - INFO - \t ***** Running Inference on 1 texts *****\n",
      "Inference: 100%|█████████████████████████████████████████████████████████████████████████| 1/1 [00:00<00:00,  2.20it/s]"
     ]
    },
    {
     "name": "stdout",
     "output_type": "stream",
     "text": [
      "Following the outbreak of the civil war in Somalia and the ensuing collapse of the central government, residents reverted to local forms of conflict resolution, either secular, traditional or Islamic law, with a provision for appeal of all sentences. The legal structure in the country was divided along three lines, namely civil law, religious law and customary law (xeer). While Somalia's formal judicial system was largely destroyed after the fall of the Siad Barre regime, it was later gradually rebuilt and administered under different regional governments such as the autonomous Puntland and Somaliland macro-regions. In the case of the Transitional National Government and its successor the Transitional Federal Government, new interim judicial structures were formed through various international conferences. Despite some significant political differences between them, all of these administrations shared similar legal structures, much of which were predicated on the judicial systems of previous Somali administrations. These similarities in civil law included a charter which affirms the primacy of Muslim shari'a or religious law, although in practice shari'a is applied mainly to matters such as marriage, divorce, inheritance and civil issues. The charter assured the independence of the judiciary which in turn was protected by a judicial committee; a three-tier judicial system including a supreme court, a court of appeals and courts of first instance (either divided between district and regional courts, or a single court per region); and the laws of the civilian government which were in effect prior to the military coup d'état that saw the Barre regime into power remain in forced until the laws are amended. Economist Alex Tabarrok claimed that Somalia in its stateless period provided a \"unique test of the theory of anarchy\", in some aspects near of that espoused by anarcho-capitalists such as David D. Friedman and Murray Rothbard. Nonetheless, both anarchists and some anarcho-capitalists such as Walter Block argue that Somalia was not an anarchist society.\n",
      "\u001b[32mCluster 0\u001b[0m\n",
      "\u001b[32mSomalia  - [43, 50]\u001b[0m\n",
      "\u001b[32mthe country  - [274, 285]\u001b[0m\n",
      "\u001b[32mSomalia's  - [381, 390]\u001b[0m\n",
      "\u001b[32mSomalia  - [1769, 1776]\u001b[0m\n",
      "\u001b[32mits  - [1780, 1783]\u001b[0m\n",
      "\u001b[32mSomalia  - [2050, 2057]\u001b[0m\n",
      "\u001b[31mCluster 1\u001b[0m\n",
      "\u001b[31mSomalia's formal judicial system  - [381, 413]\u001b[0m\n",
      "\u001b[31mit  - [477, 479]\u001b[0m\n",
      "\u001b[33mCluster 2\u001b[0m\n",
      "\u001b[33mthe Transitional National Government  - [639, 675]\u001b[0m\n",
      "\u001b[33mits  - [680, 683]\u001b[0m\n",
      "\u001b[34mCluster 3\u001b[0m\n",
      "\u001b[34mnew interim judicial structures  - [731, 762]\u001b[0m\n",
      "\u001b[34mthem, - [873, 877]\u001b[0m\n",
      "\u001b[34mall of these administrations  - [879, 907]\u001b[0m\n",
      "\u001b[35mCluster 4\u001b[0m\n",
      "\u001b[35ma charter which affirms the primacy of Muslim shari'a or religious law, - [1072, 1142]\u001b[0m\n",
      "\u001b[35mThe charter  - [1259, 1270]\u001b[0m\n",
      "\u001b[36mCluster 5\u001b[0m\n",
      "\u001b[36mthe Siad Barre regime, - [454, 475]\u001b[0m\n",
      "\u001b[36mthe Barre regime  - [1659, 1675]\u001b[0m\n",
      "\u001b[32mCluster 6\u001b[0m\n",
      "\u001b[32mSiad Barre  - [458, 468]\u001b[0m\n",
      "\u001b[32mBarre  - [1663, 1668]\u001b[0m\n",
      "\u001b[31mCluster 7\u001b[0m\n",
      "\u001b[31mthe laws of the civilian government which were in effect prior to the military coup d'état that saw the Barre regime into power  - [1559, 1686]\u001b[0m\n",
      "\u001b[31mthe laws  - [1710, 1718]\u001b[0m\n",
      "Elapsed Time: 596.2586402893066ms\n"
     ]
    },
    {
     "name": "stderr",
     "output_type": "stream",
     "text": [
      "\n"
     ]
    }
   ],
   "source": [
    "predict_and_time(very_long_article, sm_nlp)"
   ]
  },
  {
   "cell_type": "code",
   "execution_count": 11,
   "id": "fc290c88-7c31-4190-bdfa-5eb8f7e378d4",
   "metadata": {},
   "outputs": [],
   "source": [
    "angelfish_article = \"The queen angelfish (Holacanthus ciliaris), also known as the blue angelfish, \"\\\n",
    "\"golden angelfish, or yellow angelfish, is a species of marine angelfish found in the western Atlantic Ocean. \"\\\n",
    "\"It is a benthic (ocean floor) warm-water species that lives in coral reefs. \"\\\n",
    "\"It is recognized by its blue and yellow coloration and a distinctive spot or 'crown' on its forehead. \"\\\n",
    "\"This crown distinguishes it from the closely related and similar-looking Bermuda \"\\\n",
    "\"blue angelfish (Holacanthus bermudensis), with which it overlaps in range and can interbreed. \"\\\n",
    "\"Adult queen angelfish are selective feeders and primarily eat sponges. Their social structure consists \"\\\n",
    "\"of harems which include one male and up to four females. \"\\\n",
    "\"They live within a territory where the females forage separately and are tended to by the male. \"\\\n",
    "\"Breeding in the species occurs near a full moon. The transparent eggs float in the water until they hatch. \"\\\n",
    "\"Juveniles of the species have different coloration than adults and act as cleaner fish.\"\\\n",
    "\"Adult queen angelfish are selective feeders and primarily eat sponges. \"\\\n",
    "\"Their social structure consists of harems which include one male and up to four females. \"\\\n",
    "\"They live within a territory where the females forage separately and are tended to by the male. \"\\\n",
    "\"Breeding in the species occurs near a full moon. The transparent eggs float in the water until they hatch. \"\\\n",
    "\"Juveniles of the species have different coloration than adults and act as cleaner fish. \"\\\n",
    "\"The queen angelfish is popular in the aquarium trade and has been a particularly common exported \"\\\n",
    "\"species from Brazil. In 2010, the queen angelfish was assessed as least concern by the International \"\\\n",
    "\"Union for Conservation of Nature as the wild population appeared to be stable.\" "
   ]
  },
  {
   "cell_type": "code",
   "execution_count": 12,
   "id": "3f7404eb-5f04-49dd-9e9d-a0864b5e629c",
   "metadata": {},
   "outputs": [
    {
     "name": "stderr",
     "output_type": "stream",
     "text": [
      "01/08/2023 19:59:17 - INFO - \t Tokenize 1 inputs...\n",
      "100%|████████████████████████████████████████████████████████████████████████████████████| 1/1 [00:00<00:00, 63.99ba/s]\n",
      "01/08/2023 19:59:17 - INFO - \t ***** Running Inference on 1 texts *****\n",
      "Inference: 100%|█████████████████████████████████████████████████████████████████████████| 1/1 [00:00<00:00,  3.18it/s]"
     ]
    },
    {
     "name": "stdout",
     "output_type": "stream",
     "text": [
      "The queen angelfish (Holacanthus ciliaris), also known as the blue angelfish, golden angelfish, or yellow angelfish, is a species of marine angelfish found in the western Atlantic Ocean. It is a benthic (ocean floor) warm-water species that lives in coral reefs. It is recognized by its blue and yellow coloration and a distinctive spot or 'crown' on its forehead. This crown distinguishes it from the closely related and similar-looking Bermuda blue angelfish (Holacanthus bermudensis), with which it overlaps in range and can interbreed. Adult queen angelfish are selective feeders and primarily eat sponges. Their social structure consists of harems which include one male and up to four females. They live within a territory where the females forage separately and are tended to by the male. Breeding in the species occurs near a full moon. The transparent eggs float in the water until they hatch. Juveniles of the species have different coloration than adults and act as cleaner fish.\n",
      "\u001b[32mCluster 0\u001b[0m\n",
      "\u001b[32mThe queen angelfish (Holacanthus ciliaris), - [0, 42]\u001b[0m\n",
      "\u001b[32mIt  - [187, 189]\u001b[0m\n",
      "\u001b[32mIt  - [263, 265]\u001b[0m\n",
      "\u001b[32mits  - [283, 286]\u001b[0m\n",
      "\u001b[32mits  - [351, 354]\u001b[0m\n",
      "\u001b[32mit  - [390, 392]\u001b[0m\n",
      "\u001b[32mit  - [499, 501]\u001b[0m\n",
      "\u001b[32mthe species  - [808, 819]\u001b[0m\n",
      "\u001b[32mthe species  - [916, 927]\u001b[0m\n",
      "\u001b[31mCluster 1\u001b[0m\n",
      "\u001b[31ma distinctive spot or 'crown' on its forehead. - [318, 363]\u001b[0m\n",
      "\u001b[31mThis crown  - [365, 375]\u001b[0m\n",
      "\u001b[33mCluster 2\u001b[0m\n",
      "\u001b[33mAdult queen angelfish  - [540, 561]\u001b[0m\n",
      "\u001b[33mTheir  - [611, 616]\u001b[0m\n",
      "\u001b[33mThey  - [700, 704]\u001b[0m\n",
      "\u001b[34mCluster 3\u001b[0m\n",
      "\u001b[34mup to four females. - [680, 698]\u001b[0m\n",
      "\u001b[34mthe females  - [735, 746]\u001b[0m\n",
      "\u001b[35mCluster 4\u001b[0m\n",
      "\u001b[35mone male  - [667, 675]\u001b[0m\n",
      "\u001b[35mthe male. - [786, 794]\u001b[0m\n",
      "\u001b[36mCluster 5\u001b[0m\n",
      "\u001b[36mThe transparent eggs  - [845, 865]\u001b[0m\n",
      "\u001b[36mthey  - [891, 895]\u001b[0m\n",
      "Elapsed Time: 439.4395351409912ms\n"
     ]
    },
    {
     "name": "stderr",
     "output_type": "stream",
     "text": [
      "\n"
     ]
    }
   ],
   "source": [
    "predict_and_time(angelfish_article, sm_nlp)"
   ]
  },
  {
   "cell_type": "markdown",
   "id": "dcb28262-4454-4ca8-8868-aee1b6ef82de",
   "metadata": {},
   "source": [
    "## Excerpt Tests (`lg_nlp`)"
   ]
  },
  {
   "cell_type": "code",
   "execution_count": 13,
   "id": "63d0e0f9-8f40-40db-8b0b-5f9dee9e813f",
   "metadata": {},
   "outputs": [
    {
     "name": "stderr",
     "output_type": "stream",
     "text": [
      "01/08/2023 19:59:18 - INFO - \t Tokenize 1 inputs...\n",
      "100%|████████████████████████████████████████████████████████████████████████████████████| 1/1 [00:00<00:00, 64.01ba/s]\n",
      "01/08/2023 19:59:20 - INFO - \t ***** Running Inference on 1 texts *****\n",
      "Inference: 100%|█████████████████████████████████████████████████████████████████████████| 1/1 [00:00<00:00,  6.20it/s]"
     ]
    },
    {
     "name": "stdout",
     "output_type": "stream",
     "text": [
      "In practical terms, anarchy can refer to the curtailment or abolition of traditional forms of government and institutions. It can also designate a nation or any inhabited place that has no system of government or central rule. Anarchy is primarily advocated by individual anarchists who propose replacing government with voluntary institutions. These institutions or free associations are generally modeled on nature.\n",
      "\u001b[32mCluster 0\u001b[0m\n",
      "\u001b[32manarchy  - [20, 27]\u001b[0m\n",
      "\u001b[32mIt  - [123, 125]\u001b[0m\n",
      "\u001b[31mCluster 1\u001b[0m\n",
      "\u001b[31mvoluntary institutions. - [321, 343]\u001b[0m\n",
      "\u001b[31mThese institutions or free associations  - [345, 384]\u001b[0m\n",
      "Elapsed Time: 2310.854196548462ms\n"
     ]
    },
    {
     "name": "stderr",
     "output_type": "stream",
     "text": [
      "\n"
     ]
    }
   ],
   "source": [
    "predict_and_time(short_excerpt, lg_nlp)"
   ]
  },
  {
   "cell_type": "code",
   "execution_count": 14,
   "id": "327087bb-a1f1-4c8e-9877-43d1cba56c0d",
   "metadata": {},
   "outputs": [
    {
     "name": "stderr",
     "output_type": "stream",
     "text": [
      "01/08/2023 19:59:20 - INFO - \t Tokenize 1 inputs...\n",
      "100%|████████████████████████████████████████████████████████████████████████████████████| 1/1 [00:00<00:00, 60.14ba/s]\n",
      "01/08/2023 19:59:22 - INFO - \t ***** Running Inference on 1 texts *****\n",
      "Inference: 100%|█████████████████████████████████████████████████████████████████████████| 1/1 [00:00<00:00,  2.90it/s]"
     ]
    },
    {
     "name": "stdout",
     "output_type": "stream",
     "text": [
      "Anarchy is a society without a government. It may also refer to a society or group of people that entirely rejects a set hierarchy. Anarchy was first used in English in 1539, meaning \"an absence of government\". Pierre-Joseph Proudhon adopted anarchy and anarchist in his 1840 treatise What Is Property? to refer to anarchism, a new political philosophy and social movement that advocates stateless societies based on free and voluntary associations. Anarchists seek a system based on the abolition of all coercive hierarchy, in particular the state, and many advocate for the creation of a system of direct democracy, worker cooperatives or privatization. In practical terms, anarchy can refer to the curtailment or abolition of traditional forms of government and institutions. It can also designate a nation or any inhabited place that has no system of government or central rule. Anarchy is primarily advocated by individual anarchists who propose replacing government with voluntary institutions. These institutions or free associations are generally modeled on nature since they can represent concepts such as community and economic self-reliance, interdependence, or individualism. Although anarchy is often negatively used as a synonym of chaos or societal collapse or anomie, this is not the meaning that anarchists attribute to anarchy, a society without hierarchies. Proudhon wrote that anarchy is \"Not the Daughter But the Mother of Order.\"\n",
      "\u001b[32mCluster 0\u001b[0m\n",
      "\u001b[32mAnarchy  - [0, 7]\u001b[0m\n",
      "\u001b[32mIt  - [43, 45]\u001b[0m\n",
      "\u001b[32mAnarchy  - [132, 139]\u001b[0m\n",
      "\u001b[32manarchism, a new political philosophy and social movement that advocates stateless societies based on free and voluntary associations. - [315, 448]\u001b[0m\n",
      "\u001b[31mCluster 1\u001b[0m\n",
      "\u001b[31mPierre-Joseph Proudhon  - [211, 233]\u001b[0m\n",
      "\u001b[31mhis  - [267, 270]\u001b[0m\n",
      "\u001b[31mProudhon  - [1377, 1385]\u001b[0m\n",
      "\u001b[33mCluster 2\u001b[0m\n",
      "\u001b[33manarchy  - [676, 683]\u001b[0m\n",
      "\u001b[33mIt  - [779, 781]\u001b[0m\n",
      "\u001b[34mCluster 3\u001b[0m\n",
      "\u001b[34mvoluntary institutions. - [977, 999]\u001b[0m\n",
      "\u001b[34mThese institutions or free associations  - [1001, 1040]\u001b[0m\n",
      "\u001b[34mthey  - [1079, 1083]\u001b[0m\n",
      "\u001b[35mCluster 4\u001b[0m\n",
      "\u001b[35ma synonym of chaos or societal collapse or anomie, - [1233, 1282]\u001b[0m\n",
      "\u001b[35mthis  - [1284, 1288]\u001b[0m\n",
      "Elapsed Time: 2071.7995166778564ms\n"
     ]
    },
    {
     "name": "stderr",
     "output_type": "stream",
     "text": [
      "\n"
     ]
    }
   ],
   "source": [
    "predict_and_time(longer_article, lg_nlp)"
   ]
  },
  {
   "cell_type": "code",
   "execution_count": 15,
   "id": "6c72bbae-d4f2-4f41-9889-94aa68b031ff",
   "metadata": {},
   "outputs": [
    {
     "name": "stderr",
     "output_type": "stream",
     "text": [
      "01/08/2023 19:59:22 - INFO - \t Tokenize 1 inputs...\n",
      "100%|████████████████████████████████████████████████████████████████████████████████████| 1/1 [00:00<00:00, 30.89ba/s]\n",
      "01/08/2023 19:59:24 - INFO - \t ***** Running Inference on 1 texts *****\n",
      "Inference: 100%|█████████████████████████████████████████████████████████████████████████| 1/1 [00:00<00:00,  2.12it/s]"
     ]
    },
    {
     "name": "stdout",
     "output_type": "stream",
     "text": [
      "Following the outbreak of the civil war in Somalia and the ensuing collapse of the central government, residents reverted to local forms of conflict resolution, either secular, traditional or Islamic law, with a provision for appeal of all sentences. The legal structure in the country was divided along three lines, namely civil law, religious law and customary law (xeer). While Somalia's formal judicial system was largely destroyed after the fall of the Siad Barre regime, it was later gradually rebuilt and administered under different regional governments such as the autonomous Puntland and Somaliland macro-regions. In the case of the Transitional National Government and its successor the Transitional Federal Government, new interim judicial structures were formed through various international conferences. Despite some significant political differences between them, all of these administrations shared similar legal structures, much of which were predicated on the judicial systems of previous Somali administrations. These similarities in civil law included a charter which affirms the primacy of Muslim shari'a or religious law, although in practice shari'a is applied mainly to matters such as marriage, divorce, inheritance and civil issues. The charter assured the independence of the judiciary which in turn was protected by a judicial committee; a three-tier judicial system including a supreme court, a court of appeals and courts of first instance (either divided between district and regional courts, or a single court per region); and the laws of the civilian government which were in effect prior to the military coup d'état that saw the Barre regime into power remain in forced until the laws are amended. Economist Alex Tabarrok claimed that Somalia in its stateless period provided a \"unique test of the theory of anarchy\", in some aspects near of that espoused by anarcho-capitalists such as David D. Friedman and Murray Rothbard. Nonetheless, both anarchists and some anarcho-capitalists such as Walter Block argue that Somalia was not an anarchist society.\n",
      "\u001b[32mCluster 0\u001b[0m\n",
      "\u001b[32mSomalia  - [43, 50]\u001b[0m\n",
      "\u001b[32mthe country  - [274, 285]\u001b[0m\n",
      "\u001b[32mSomalia's  - [381, 390]\u001b[0m\n",
      "\u001b[32mSomalia  - [1769, 1776]\u001b[0m\n",
      "\u001b[32mits  - [1780, 1783]\u001b[0m\n",
      "\u001b[32mSomalia  - [2050, 2057]\u001b[0m\n",
      "\u001b[31mCluster 1\u001b[0m\n",
      "\u001b[31mSomalia's formal judicial system  - [381, 413]\u001b[0m\n",
      "\u001b[31mit  - [477, 479]\u001b[0m\n",
      "\u001b[33mCluster 2\u001b[0m\n",
      "\u001b[33mthe Transitional National Government  - [639, 675]\u001b[0m\n",
      "\u001b[33mits  - [680, 683]\u001b[0m\n",
      "\u001b[34mCluster 3\u001b[0m\n",
      "\u001b[34mnew interim judicial structures  - [731, 762]\u001b[0m\n",
      "\u001b[34mthem, - [873, 877]\u001b[0m\n",
      "\u001b[34mall of these administrations  - [879, 907]\u001b[0m\n",
      "\u001b[35mCluster 4\u001b[0m\n",
      "\u001b[35ma charter which affirms the primacy of Muslim shari'a or religious law, - [1072, 1142]\u001b[0m\n",
      "\u001b[35mThe charter  - [1259, 1270]\u001b[0m\n",
      "\u001b[36mCluster 5\u001b[0m\n",
      "\u001b[36mthe Siad Barre regime, - [454, 475]\u001b[0m\n",
      "\u001b[36mthe Barre regime  - [1659, 1675]\u001b[0m\n",
      "\u001b[32mCluster 6\u001b[0m\n",
      "\u001b[32mSiad Barre  - [458, 468]\u001b[0m\n",
      "\u001b[32mBarre  - [1663, 1668]\u001b[0m\n",
      "\u001b[31mCluster 7\u001b[0m\n",
      "\u001b[31mthe laws of the civilian government which were in effect prior to the military coup d'état that saw the Barre regime into power  - [1559, 1686]\u001b[0m\n",
      "\u001b[31mthe laws  - [1710, 1718]\u001b[0m\n",
      "Elapsed Time: 2060.4984760284424ms\n"
     ]
    },
    {
     "name": "stderr",
     "output_type": "stream",
     "text": [
      "\n"
     ]
    }
   ],
   "source": [
    "predict_and_time(very_long_article, lg_nlp)"
   ]
  },
  {
   "cell_type": "markdown",
   "id": "3b48b7e8-9958-4760-8a21-5fa60da4c02d",
   "metadata": {},
   "source": [
    "## Excerpt Tests (`lingmess`)"
   ]
  },
  {
   "cell_type": "code",
   "execution_count": 16,
   "id": "51b2123c-3e6f-4f2e-ba76-4f33267cd097",
   "metadata": {},
   "outputs": [
    {
     "name": "stderr",
     "output_type": "stream",
     "text": [
      "01/08/2023 19:59:24 - INFO - \t Tokenize 1 inputs...\n",
      "100%|████████████████████████████████████████████████████████████████████████████████████████████| 1/1 [00:00<?, ?ba/s]\n",
      "01/08/2023 19:59:24 - INFO - \t ***** Running Inference on 1 texts *****\n",
      "Inference: 100%|█████████████████████████████████████████████████████████████████████████| 1/1 [00:03<00:00,  3.83s/it]"
     ]
    },
    {
     "name": "stdout",
     "output_type": "stream",
     "text": [
      "In practical terms, anarchy can refer to the curtailment or abolition of traditional forms of government and institutions. It can also designate a nation or any inhabited place that has no system of government or central rule. Anarchy is primarily advocated by individual anarchists who propose replacing government with voluntary institutions. These institutions or free associations are generally modeled on nature.\n",
      "\u001b[32mCluster 0\u001b[0m\n",
      "\u001b[32manarchy  - [20, 27]\u001b[0m\n",
      "\u001b[32mIt  - [123, 125]\u001b[0m\n",
      "\u001b[31mCluster 1\u001b[0m\n",
      "\u001b[31mvoluntary institutions. - [321, 343]\u001b[0m\n",
      "\u001b[31mThese institutions or free associations  - [345, 384]\u001b[0m\n",
      "Elapsed Time: 3938.4689331054688ms\n"
     ]
    },
    {
     "name": "stderr",
     "output_type": "stream",
     "text": [
      "\n"
     ]
    }
   ],
   "source": [
    "predict_and_time(short_excerpt, ling_nlp)"
   ]
  },
  {
   "cell_type": "code",
   "execution_count": 17,
   "id": "37fa0bb2-acf6-4c38-99a6-e5013028e770",
   "metadata": {},
   "outputs": [
    {
     "name": "stderr",
     "output_type": "stream",
     "text": [
      "01/08/2023 19:59:28 - INFO - \t Tokenize 1 inputs...\n",
      "100%|████████████████████████████████████████████████████████████████████████████████████| 1/1 [00:00<00:00, 64.01ba/s]\n",
      "01/08/2023 19:59:28 - INFO - \t ***** Running Inference on 1 texts *****\n",
      "Inference: 100%|█████████████████████████████████████████████████████████████████████████| 1/1 [00:03<00:00,  3.87s/it]"
     ]
    },
    {
     "name": "stdout",
     "output_type": "stream",
     "text": [
      "Anarchy is a society without a government. It may also refer to a society or group of people that entirely rejects a set hierarchy. Anarchy was first used in English in 1539, meaning \"an absence of government\". Pierre-Joseph Proudhon adopted anarchy and anarchist in his 1840 treatise What Is Property? to refer to anarchism, a new political philosophy and social movement that advocates stateless societies based on free and voluntary associations. Anarchists seek a system based on the abolition of all coercive hierarchy, in particular the state, and many advocate for the creation of a system of direct democracy, worker cooperatives or privatization. In practical terms, anarchy can refer to the curtailment or abolition of traditional forms of government and institutions. It can also designate a nation or any inhabited place that has no system of government or central rule. Anarchy is primarily advocated by individual anarchists who propose replacing government with voluntary institutions. These institutions or free associations are generally modeled on nature since they can represent concepts such as community and economic self-reliance, interdependence, or individualism. Although anarchy is often negatively used as a synonym of chaos or societal collapse or anomie, this is not the meaning that anarchists attribute to anarchy, a society without hierarchies. Proudhon wrote that anarchy is \"Not the Daughter But the Mother of Order.\"\n",
      "\u001b[32mCluster 0\u001b[0m\n",
      "\u001b[32mAnarchy  - [0, 7]\u001b[0m\n",
      "\u001b[32mIt  - [43, 45]\u001b[0m\n",
      "\u001b[31mCluster 1\u001b[0m\n",
      "\u001b[31mPierre-Joseph Proudhon  - [211, 233]\u001b[0m\n",
      "\u001b[31mhis  - [267, 270]\u001b[0m\n",
      "\u001b[31mProudhon  - [1377, 1385]\u001b[0m\n",
      "\u001b[33mCluster 2\u001b[0m\n",
      "\u001b[33manarchy  - [676, 683]\u001b[0m\n",
      "\u001b[33mIt  - [779, 781]\u001b[0m\n",
      "\u001b[34mCluster 3\u001b[0m\n",
      "\u001b[34mvoluntary institutions. - [977, 999]\u001b[0m\n",
      "\u001b[34mThese institutions or free associations  - [1001, 1040]\u001b[0m\n",
      "\u001b[34mthey  - [1079, 1083]\u001b[0m\n",
      "Elapsed Time: 3991.285800933838ms\n"
     ]
    },
    {
     "name": "stderr",
     "output_type": "stream",
     "text": [
      "\n"
     ]
    }
   ],
   "source": [
    "predict_and_time(longer_article, ling_nlp)"
   ]
  },
  {
   "cell_type": "code",
   "execution_count": 18,
   "id": "cd8799c3-b6fc-4acc-9844-2d72c77b1331",
   "metadata": {},
   "outputs": [
    {
     "name": "stderr",
     "output_type": "stream",
     "text": [
      "01/08/2023 19:59:32 - INFO - \t Tokenize 1 inputs...\n",
      "100%|████████████████████████████████████████████████████████████████████████████████████| 1/1 [00:00<00:00, 62.46ba/s]\n",
      "01/08/2023 19:59:32 - INFO - \t ***** Running Inference on 1 texts *****\n",
      "Inference: 100%|█████████████████████████████████████████████████████████████████████████| 1/1 [00:03<00:00,  3.87s/it]"
     ]
    },
    {
     "name": "stdout",
     "output_type": "stream",
     "text": [
      "Following the outbreak of the civil war in Somalia and the ensuing collapse of the central government, residents reverted to local forms of conflict resolution, either secular, traditional or Islamic law, with a provision for appeal of all sentences. The legal structure in the country was divided along three lines, namely civil law, religious law and customary law (xeer). While Somalia's formal judicial system was largely destroyed after the fall of the Siad Barre regime, it was later gradually rebuilt and administered under different regional governments such as the autonomous Puntland and Somaliland macro-regions. In the case of the Transitional National Government and its successor the Transitional Federal Government, new interim judicial structures were formed through various international conferences. Despite some significant political differences between them, all of these administrations shared similar legal structures, much of which were predicated on the judicial systems of previous Somali administrations. These similarities in civil law included a charter which affirms the primacy of Muslim shari'a or religious law, although in practice shari'a is applied mainly to matters such as marriage, divorce, inheritance and civil issues. The charter assured the independence of the judiciary which in turn was protected by a judicial committee; a three-tier judicial system including a supreme court, a court of appeals and courts of first instance (either divided between district and regional courts, or a single court per region); and the laws of the civilian government which were in effect prior to the military coup d'état that saw the Barre regime into power remain in forced until the laws are amended. Economist Alex Tabarrok claimed that Somalia in its stateless period provided a \"unique test of the theory of anarchy\", in some aspects near of that espoused by anarcho-capitalists such as David D. Friedman and Murray Rothbard. Nonetheless, both anarchists and some anarcho-capitalists such as Walter Block argue that Somalia was not an anarchist society.\n",
      "\u001b[32mCluster 0\u001b[0m\n",
      "\u001b[32mSomalia  - [43, 50]\u001b[0m\n",
      "\u001b[32mthe country  - [274, 285]\u001b[0m\n",
      "\u001b[32mSomalia's  - [381, 390]\u001b[0m\n",
      "\u001b[32mSomalia  - [1769, 1776]\u001b[0m\n",
      "\u001b[32mits  - [1780, 1783]\u001b[0m\n",
      "\u001b[32mSomalia  - [2050, 2057]\u001b[0m\n",
      "\u001b[31mCluster 1\u001b[0m\n",
      "\u001b[31mSomalia's formal judicial system  - [381, 413]\u001b[0m\n",
      "\u001b[31mit  - [477, 479]\u001b[0m\n",
      "\u001b[33mCluster 2\u001b[0m\n",
      "\u001b[33mthe Transitional National Government  - [639, 675]\u001b[0m\n",
      "\u001b[33mits  - [680, 683]\u001b[0m\n",
      "\u001b[34mCluster 3\u001b[0m\n",
      "\u001b[34mthe Transitional National Government and its successor the Transitional Federal Government, - [639, 729]\u001b[0m\n",
      "\u001b[34mthem, - [873, 877]\u001b[0m\n",
      "\u001b[35mCluster 4\u001b[0m\n",
      "\u001b[35ma charter which affirms the primacy of Muslim shari'a or religious law, - [1072, 1142]\u001b[0m\n",
      "\u001b[35mThe charter  - [1259, 1270]\u001b[0m\n",
      "\u001b[36mCluster 5\u001b[0m\n",
      "\u001b[36mthe Siad Barre regime, - [454, 475]\u001b[0m\n",
      "\u001b[36mthe Barre regime  - [1659, 1675]\u001b[0m\n",
      "\u001b[32mCluster 6\u001b[0m\n",
      "\u001b[32mSiad Barre  - [458, 468]\u001b[0m\n",
      "\u001b[32mBarre  - [1663, 1668]\u001b[0m\n",
      "\u001b[31mCluster 7\u001b[0m\n",
      "\u001b[31mthe laws of the civilian government which were in effect prior to the military coup d'état that saw the Barre regime into power  - [1559, 1686]\u001b[0m\n",
      "\u001b[31mthe laws  - [1710, 1718]\u001b[0m\n",
      "Elapsed Time: 3992.194414138794ms\n"
     ]
    },
    {
     "name": "stderr",
     "output_type": "stream",
     "text": [
      "\n"
     ]
    }
   ],
   "source": [
    "predict_and_time(very_long_article, ling_nlp)"
   ]
  },
  {
   "cell_type": "markdown",
   "id": "5a6f6d65-a877-4b60-80d0-bc24361224ee",
   "metadata": {},
   "source": [
    "## Without using Spacy"
   ]
  },
  {
   "cell_type": "code",
   "execution_count": 19,
   "id": "0745556f-b75e-4a19-b059-e1f1a5dd2121",
   "metadata": {},
   "outputs": [
    {
     "name": "stderr",
     "output_type": "stream",
     "text": [
      "01/08/2023 19:59:38 - INFO - \t missing_keys: []\n",
      "01/08/2023 19:59:38 - INFO - \t unexpected_keys: []\n",
      "01/08/2023 19:59:38 - INFO - \t mismatched_keys: []\n",
      "01/08/2023 19:59:38 - INFO - \t error_msgs: []\n",
      "01/08/2023 19:59:38 - INFO - \t Model Parameters: 90.5M, Transformer: 82.1M, Coref head: 8.4M\n"
     ]
    }
   ],
   "source": [
    "model = FCoref()"
   ]
  },
  {
   "cell_type": "code",
   "execution_count": 20,
   "id": "e11e6761-a8f5-4007-9ab6-24c1623932ad",
   "metadata": {},
   "outputs": [],
   "source": [
    "COLORS = ['green', 'red', 'yellow', 'blue', 'magenta', 'cyan']\n",
    "\n",
    "def get_color(index):\n",
    "    return COLORS[index % len(COLORS)]\n",
    "\n",
    "def cprint(text, color, newline=True):\n",
    "    print(colored(text, color), end='\\n' if newline else ' ')\n",
    "    \n",
    "def render_clusters(prediction, text):\n",
    "    corefs = prediction.get_clusters(as_strings=False)\n",
    "    for i, cluster in enumerate(corefs):\n",
    "        cprint(f'Cluster {i}', get_color(i))\n",
    "        for phrase_start, phrase_end in cluster:\n",
    "            cprint(f'{text[phrase_start:phrase_end + 1]} - [{phrase_start}, {phrase_end}]', get_color(i))\n",
    "            \n",
    "def predict_and_time(document, pipeline):\n",
    "    start = time.time()\n",
    "    prediction = pipeline.predict(document)\n",
    "    end = time.time()\n",
    "    print(document)\n",
    "    render_clusters(prediction, document)\n",
    "    print(f\"Elapsed Time: {(end - start) * 1000}ms\");"
   ]
  },
  {
   "cell_type": "code",
   "execution_count": 21,
   "id": "f92cc833-5c56-4cf6-a116-02f1c046d8df",
   "metadata": {},
   "outputs": [],
   "source": [
    "angelfish_article = \"The queen angelfish (Holacanthus ciliaris), also known as the blue angelfish, \"\\\n",
    "\"golden angelfish, or yellow angelfish, is a species of marine angelfish found in the western Atlantic Ocean. \"\\\n",
    "\"It is a benthic (ocean floor) warm-water species that lives in coral reefs. \"\\\n",
    "\"It is recognized by its blue and yellow coloration and a distinctive spot or 'crown' on its forehead. \"\\\n",
    "\"This crown distinguishes it from the closely related and similar-looking Bermuda \"\\\n",
    "\"blue angelfish (Holacanthus bermudensis), with which it overlaps in range and can interbreed. \"\\\n",
    "\"Adult queen angelfish are selective feeders and primarily eat sponges. Their social structure consists \"\\\n",
    "\"of harems which include one male and up to four females. \"\\\n",
    "\"They live within a territory where the females forage separately and are tended to by the male. \"\\\n",
    "\"Breeding in the species occurs near a full moon. The transparent eggs float in the water until they hatch. \"\\\n",
    "\"Juveniles of the species have different coloration than adults and act as cleaner fish.\"\\\n",
    "\"Adult queen angelfish are selective feeders and primarily eat sponges. \"\\\n",
    "\"Their social structure consists of harems which include one male and up to four females. \"\\\n",
    "\"They live within a territory where the females forage separately and are tended to by the male. \"\\\n",
    "\"Breeding in the species occurs near a full moon. The transparent eggs float in the water until they hatch. \"\\\n",
    "\"Juveniles of the species have different coloration than adults and act as cleaner fish. \"\\\n",
    "\"The queen angelfish is popular in the aquarium trade and has been a particularly common exported \"\\\n",
    "\"species from Brazil. In 2010, the queen angelfish was assessed as least concern by the International \"\\\n",
    "\"Union for Conservation of Nature as the wild population appeared to be stable.\" "
   ]
  },
  {
   "cell_type": "code",
   "execution_count": 22,
   "id": "84137b8d-e5b5-4f3f-b571-5d84b2eed6aa",
   "metadata": {},
   "outputs": [
    {
     "name": "stderr",
     "output_type": "stream",
     "text": [
      "01/08/2023 19:59:38 - INFO - \t Tokenize 1 inputs...\n",
      "100%|████████████████████████████████████████████████████████████████████████████████████| 1/1 [00:00<00:00, 33.75ba/s]\n",
      "01/08/2023 19:59:38 - INFO - \t ***** Running Inference on 1 texts *****\n",
      "Inference: 100%|█████████████████████████████████████████████████████████████████████████| 1/1 [00:00<00:00,  2.06it/s]"
     ]
    },
    {
     "name": "stdout",
     "output_type": "stream",
     "text": [
      "The queen angelfish (Holacanthus ciliaris), also known as the blue angelfish, golden angelfish, or yellow angelfish, is a species of marine angelfish found in the western Atlantic Ocean. It is a benthic (ocean floor) warm-water species that lives in coral reefs. It is recognized by its blue and yellow coloration and a distinctive spot or 'crown' on its forehead. This crown distinguishes it from the closely related and similar-looking Bermuda blue angelfish (Holacanthus bermudensis), with which it overlaps in range and can interbreed. Adult queen angelfish are selective feeders and primarily eat sponges. Their social structure consists of harems which include one male and up to four females. They live within a territory where the females forage separately and are tended to by the male. Breeding in the species occurs near a full moon. The transparent eggs float in the water until they hatch. Juveniles of the species have different coloration than adults and act as cleaner fish.Adult queen angelfish are selective feeders and primarily eat sponges. Their social structure consists of harems which include one male and up to four females. They live within a territory where the females forage separately and are tended to by the male. Breeding in the species occurs near a full moon. The transparent eggs float in the water until they hatch. Juveniles of the species have different coloration than adults and act as cleaner fish. The queen angelfish is popular in the aquarium trade and has been a particularly common exported species from Brazil. In 2010, the queen angelfish was assessed as least concern by the International Union for Conservation of Nature as the wild population appeared to be stable.\n",
      "\u001b[32mCluster 0\u001b[0m\n",
      "\u001b[32mThe queen angelfish (Holacanthus ciliaris), - [0, 42]\u001b[0m\n",
      "\u001b[32mIt  - [187, 189]\u001b[0m\n",
      "\u001b[32mIt  - [263, 265]\u001b[0m\n",
      "\u001b[32mits  - [283, 286]\u001b[0m\n",
      "\u001b[32mits  - [351, 354]\u001b[0m\n",
      "\u001b[32mit  - [390, 392]\u001b[0m\n",
      "\u001b[32mit  - [499, 501]\u001b[0m\n",
      "\u001b[32mthe species  - [808, 819]\u001b[0m\n",
      "\u001b[32mthe species  - [916, 927]\u001b[0m\n",
      "\u001b[32mthe species  - [1258, 1269]\u001b[0m\n",
      "\u001b[32mthe species  - [1366, 1377]\u001b[0m\n",
      "\u001b[32mThe queen angelfish  - [1441, 1460]\u001b[0m\n",
      "\u001b[31mCluster 1\u001b[0m\n",
      "\u001b[31ma distinctive spot or 'crown' on its forehead. - [318, 363]\u001b[0m\n",
      "\u001b[31mThis crown  - [365, 375]\u001b[0m\n",
      "\u001b[33mCluster 2\u001b[0m\n",
      "\u001b[33mAdult queen angelfish  - [540, 561]\u001b[0m\n",
      "\u001b[33mTheir  - [611, 616]\u001b[0m\n",
      "\u001b[33mThey  - [700, 704]\u001b[0m\n",
      "\u001b[34mCluster 3\u001b[0m\n",
      "\u001b[34mone male  - [667, 675]\u001b[0m\n",
      "\u001b[34mthe male. - [786, 794]\u001b[0m\n",
      "\u001b[34mthe male. - [1236, 1244]\u001b[0m\n",
      "\u001b[35mCluster 4\u001b[0m\n",
      "\u001b[35mThe transparent eggs  - [845, 865]\u001b[0m\n",
      "\u001b[35mthey  - [891, 895]\u001b[0m\n",
      "\u001b[35mThe transparent eggs  - [1295, 1315]\u001b[0m\n",
      "\u001b[35mthey  - [1341, 1345]\u001b[0m\n",
      "\u001b[36mCluster 5\u001b[0m\n",
      "\u001b[36mAdult queen angelfish  - [990, 1011]\u001b[0m\n",
      "\u001b[36mTheir  - [1061, 1066]\u001b[0m\n",
      "\u001b[36mThey  - [1150, 1154]\u001b[0m\n",
      "Elapsed Time: 596.1205959320068ms\n"
     ]
    },
    {
     "name": "stderr",
     "output_type": "stream",
     "text": [
      "\n"
     ]
    }
   ],
   "source": [
    "predict_and_time(angelfish_article, model)"
   ]
  },
  {
   "cell_type": "markdown",
   "id": "0dae3c04-5213-4bf5-9566-c77841e2c7b1",
   "metadata": {},
   "source": [
    "## Full Article Test"
   ]
  },
  {
   "cell_type": "code",
   "execution_count": 24,
   "id": "03a31ed0-a312-4902-a1b7-7b8f3dc6c682",
   "metadata": {},
   "outputs": [],
   "source": [
    "angelfish_article = \"The queen angelfish (Holacanthus ciliaris), also known as the blue angelfish, \"\\\n",
    "\"golden angelfish, or yellow angelfish, is a species of marine angelfish found in the western Atlantic Ocean. \"\\\n",
    "\"It is a benthic (ocean floor) warm-water species that lives in coral reefs. \"\\\n",
    "\"It is recognized by its blue and yellow coloration and a distinctive spot or 'crown' on its forehead. \"\\\n",
    "\"This crown distinguishes it from the closely related and similar-looking Bermuda \"\\\n",
    "\"blue angelfish (Holacanthus bermudensis), with which it overlaps in range and can interbreed. \"\\\n",
    "\"Adult queen angelfish are selective feeders and primarily eat sponges. Their social structure consists \"\\\n",
    "\"of harems which include one male and up to four females. \"\\\n",
    "\"They live within a territory where the females forage separately and are tended to by the male. \"\\\n",
    "\"Breeding in the species occurs near a full moon. The transparent eggs float in the water until they hatch. \"\\\n",
    "\"Juveniles of the species have different coloration than adults and act as cleaner fish.\"\\\n",
    "\"Adult queen angelfish are selective feeders and primarily eat sponges. \"\\\n",
    "\"Their social structure consists of harems which include one male and up to four females. \"\\\n",
    "\"They live within a territory where the females forage separately and are tended to by the male. \"\\\n",
    "\"Breeding in the species occurs near a full moon. The transparent eggs float in the water until they hatch. \"\\\n",
    "\"Juveniles of the species have different coloration than adults and act as cleaner fish. \"\\\n",
    "\"The queen angelfish is popular in the aquarium trade and has been a particularly common exported \"\\\n",
    "\"species from Brazil. In 2010, the queen angelfish was assessed as least concern by the International \"\\\n",
    "\"Union for Conservation of Nature as the wild population appeared to be stable. \" \\\n",
    "\"The queen angelfish was first described as Chaetodon ciliaris in 1758 by Carl Linnaeus in the 10th edition \"\\\n",
    "\"of his Systema Naturae, with the type locality given as the 'Western Atlantic/Caribbean'. \"\\\n",
    "\"In 1802 it was moved by French naturalist Bernard Germain de Lacépède to the genus Holacanthus, \"\\\n",
    "\"the name of which is derived from the Ancient Greek words 'holos' (full) and 'akantha' (thorn). \"\\\n",
    "\"Its specific name ciliaris means 'fringed', a reference to its squamis ciliatis ('ciliate scales'). \"\\\n",
    "\"Other common names for the species include 'blue angelfish', 'golden angelfish' and 'yellow angelfish'. \"\\\n",
    "\"Marine angelfish of the genus Holacanthus likely emerged between 10.2 and 7.6 million years ago (mya). \"\\\n",
    "\"The most basal species is the Guinean angelfish (Holacanthus africanus) off the coast of West Africa, \"\\\n",
    "\"indicating that the lineage colonized the Atlantic from the Indian Ocean. \"\\\n",
    "\"The closure of the Isthmus of Panama 3.5–3.1 mya led to the splitting off of the Tropical Eastern \"\\\n",
    "\"Pacific species. The closest relative and sister species of the queen angelfish is the sympatric \"\\\n",
    "\"and similar Bermuda blue angelfish (H. bermudensis), from which it split around 1.5 mya. \"\\\n",
    "\"They are known to interbreed, producing a hybrid known as the Townsend angelfish which has \"\\\n",
    "\"features similar to both parent species. The Townsend angelfish is fertile, and individuals \"\\\n",
    "\"can breed both with each other and with the two parent species.\""
   ]
  },
  {
   "cell_type": "code",
   "execution_count": 25,
   "id": "a530b7ae-28ad-49c6-bf2d-b02908581901",
   "metadata": {},
   "outputs": [
    {
     "name": "stderr",
     "output_type": "stream",
     "text": [
      "01/08/2023 20:05:07 - INFO - \t Tokenize 1 inputs...\n",
      "100%|████████████████████████████████████████████████████████████████████████████████████| 1/1 [00:00<00:00, 32.00ba/s]\n",
      "01/08/2023 20:05:07 - INFO - \t ***** Running Inference on 1 texts *****\n",
      "Inference: 100%|█████████████████████████████████████████████████████████████████████████| 1/1 [00:00<00:00,  1.41it/s]"
     ]
    },
    {
     "name": "stdout",
     "output_type": "stream",
     "text": [
      "The queen angelfish (Holacanthus ciliaris), also known as the blue angelfish, golden angelfish, or yellow angelfish, is a species of marine angelfish found in the western Atlantic Ocean. It is a benthic (ocean floor) warm-water species that lives in coral reefs. It is recognized by its blue and yellow coloration and a distinctive spot or 'crown' on its forehead. This crown distinguishes it from the closely related and similar-looking Bermuda blue angelfish (Holacanthus bermudensis), with which it overlaps in range and can interbreed. Adult queen angelfish are selective feeders and primarily eat sponges. Their social structure consists of harems which include one male and up to four females. They live within a territory where the females forage separately and are tended to by the male. Breeding in the species occurs near a full moon. The transparent eggs float in the water until they hatch. Juveniles of the species have different coloration than adults and act as cleaner fish.Adult queen angelfish are selective feeders and primarily eat sponges. Their social structure consists of harems which include one male and up to four females. They live within a territory where the females forage separately and are tended to by the male. Breeding in the species occurs near a full moon. The transparent eggs float in the water until they hatch. Juveniles of the species have different coloration than adults and act as cleaner fish. The queen angelfish is popular in the aquarium trade and has been a particularly common exported species from Brazil. In 2010, the queen angelfish was assessed as least concern by the International Union for Conservation of Nature as the wild population appeared to be stable. The queen angelfish was first described as Chaetodon ciliaris in 1758 by Carl Linnaeus in the 10th edition of his Systema Naturae, with the type locality given as the 'Western Atlantic/Caribbean'. In 1802 it was moved by French naturalist Bernard Germain de Lacépède to the genus Holacanthus, the name of which is derived from the Ancient Greek words 'holos' (full) and 'akantha' (thorn). Its specific name ciliaris means 'fringed', a reference to its squamis ciliatis ('ciliate scales'). Other common names for the species include 'blue angelfish', 'golden angelfish' and 'yellow angelfish'. Marine angelfish of the genus Holacanthus likely emerged between 10.2 and 7.6 million years ago (mya). The most basal species is the Guinean angelfish (Holacanthus africanus) off the coast of West Africa, indicating that the lineage colonized the Atlantic from the Indian Ocean. The closure of the Isthmus of Panama 3.5–3.1 mya led to the splitting off of the Tropical Eastern Pacific species. The closest relative and sister species of the queen angelfish is the sympatric and similar Bermuda blue angelfish (H. bermudensis), from which it split around 1.5 mya. They are known to interbreed, producing a hybrid known as the Townsend angelfish which has features similar to both parent species. The Townsend angelfish is fertile, and individuals can breed both with each other and with the two parent species.\n",
      "\u001b[32mCluster 0\u001b[0m\n",
      "\u001b[32mIt  - [187, 189]\u001b[0m\n",
      "\u001b[32mIt  - [263, 265]\u001b[0m\n",
      "\u001b[32mits  - [283, 286]\u001b[0m\n",
      "\u001b[32mits  - [351, 354]\u001b[0m\n",
      "\u001b[32mit  - [390, 392]\u001b[0m\n",
      "\u001b[32mit  - [499, 501]\u001b[0m\n",
      "\u001b[32mthe species  - [808, 819]\u001b[0m\n",
      "\u001b[32mthe species  - [916, 927]\u001b[0m\n",
      "\u001b[32mthe species  - [1258, 1269]\u001b[0m\n",
      "\u001b[32mthe species  - [1366, 1377]\u001b[0m\n",
      "\u001b[32mThe queen angelfish  - [1718, 1737]\u001b[0m\n",
      "\u001b[32mit  - [1923, 1925]\u001b[0m\n",
      "\u001b[32mIts  - [2107, 2110]\u001b[0m\n",
      "\u001b[32mits  - [2166, 2169]\u001b[0m\n",
      "\u001b[32mthe species  - [2230, 2241]\u001b[0m\n",
      "\u001b[31mCluster 1\u001b[0m\n",
      "\u001b[31ma distinctive spot or 'crown' on its forehead. - [318, 363]\u001b[0m\n",
      "\u001b[31mThis crown  - [365, 375]\u001b[0m\n",
      "\u001b[33mCluster 2\u001b[0m\n",
      "\u001b[33mAdult queen angelfish  - [540, 561]\u001b[0m\n",
      "\u001b[33mTheir  - [611, 616]\u001b[0m\n",
      "\u001b[33mThey  - [700, 704]\u001b[0m\n",
      "\u001b[34mCluster 3\u001b[0m\n",
      "\u001b[34mone male  - [667, 675]\u001b[0m\n",
      "\u001b[34mthe male. - [786, 794]\u001b[0m\n",
      "\u001b[34mthe male. - [1236, 1244]\u001b[0m\n",
      "\u001b[35mCluster 4\u001b[0m\n",
      "\u001b[35mThe transparent eggs  - [845, 865]\u001b[0m\n",
      "\u001b[35mthey  - [891, 895]\u001b[0m\n",
      "\u001b[35mThe transparent eggs  - [1295, 1315]\u001b[0m\n",
      "\u001b[35mthey  - [1341, 1345]\u001b[0m\n",
      "\u001b[36mCluster 5\u001b[0m\n",
      "\u001b[36mAdult queen angelfish  - [990, 1011]\u001b[0m\n",
      "\u001b[36mTheir  - [1061, 1066]\u001b[0m\n",
      "\u001b[36mThey  - [1150, 1154]\u001b[0m\n",
      "\u001b[32mCluster 6\u001b[0m\n",
      "\u001b[32mCarl Linnaeus  - [1791, 1804]\u001b[0m\n",
      "\u001b[32mhis  - [1828, 1831]\u001b[0m\n",
      "\u001b[31mCluster 7\u001b[0m\n",
      "\u001b[31mthe queen angelfish  - [2748, 2767]\u001b[0m\n",
      "\u001b[31mit  - [2849, 2851]\u001b[0m\n",
      "\u001b[33mCluster 8\u001b[0m\n",
      "\u001b[33mboth parent species. - [2985, 3004]\u001b[0m\n",
      "\u001b[33mboth parent species. The Townsend angelfish is fertile, and individuals can breed both with each other and with the two parent species. - [2985, 3119]\u001b[0m\n",
      "\u001b[33mthe two parent species. - [3097, 3119]\u001b[0m\n",
      "\u001b[34mCluster 9\u001b[0m\n",
      "\u001b[34ma hybrid known as the Townsend angelfish which has features similar to both parent species. - [2914, 3004]\u001b[0m\n",
      "\u001b[34mThe Townsend angelfish  - [3006, 3028]\u001b[0m\n",
      "Elapsed Time: 894.9356079101562ms\n"
     ]
    },
    {
     "name": "stderr",
     "output_type": "stream",
     "text": [
      "\n"
     ]
    }
   ],
   "source": [
    "predict_and_time(angelfish_article, model)"
   ]
  },
  {
   "cell_type": "markdown",
   "id": "15904d3a-7fb0-42d0-80eb-d4ed35b635cc",
   "metadata": {},
   "source": [
    "## Conclusion"
   ]
  },
  {
   "cell_type": "markdown",
   "id": "1c249144-fb5e-41db-8899-eb5472237809",
   "metadata": {},
   "source": [
    "The lingmess model is definitely more accurate, but too slow. "
   ]
  },
  {
   "cell_type": "markdown",
   "id": "4ea492fc-8ce3-4fe6-bc15-4b9cec763e8b",
   "metadata": {},
   "source": [
    "The speed is very inconsistent."
   ]
  }
 ],
 "metadata": {
  "kernelspec": {
   "display_name": "spacy",
   "language": "python",
   "name": "spacy"
  },
  "language_info": {
   "codemirror_mode": {
    "name": "ipython",
    "version": 3
   },
   "file_extension": ".py",
   "mimetype": "text/x-python",
   "name": "python",
   "nbconvert_exporter": "python",
   "pygments_lexer": "ipython3",
   "version": "3.10.9"
  },
  "vscode": {
   "interpreter": {
    "hash": "bbf4e029a63f0f00d260c57b4e351352de3dbac3eafa4aa3e0f894a18bb228ef"
   }
  }
 },
 "nbformat": 4,
 "nbformat_minor": 5
}
