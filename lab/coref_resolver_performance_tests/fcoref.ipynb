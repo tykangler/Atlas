{
 "cells": [
  {
   "cell_type": "markdown",
   "id": "c179aa1f-e55d-4744-b2ef-0afee51d14ff",
   "metadata": {},
   "source": [
    "> Please run this in python310 and with a spacy kernel."
   ]
  },
  {
   "cell_type": "markdown",
   "id": "feaac42e-66ed-4a78-b662-b94dd8964aa5",
   "metadata": {},
   "source": [
    "## Basic Usage"
   ]
  },
  {
   "cell_type": "code",
   "execution_count": 1,
   "id": "fbfe0c30-8741-465d-a3e1-1ae44326e8ae",
   "metadata": {},
   "outputs": [
    {
     "name": "stderr",
     "output_type": "stream",
     "text": [
      "C:\\Users\\tyler\\projects\\Atlas\\venv\\spacy\\lib\\site-packages\\tqdm\\auto.py:22: TqdmWarning: IProgress not found. Please update jupyter and ipywidgets. See https://ipywidgets.readthedocs.io/en/stable/user_install.html\n",
      "  from .autonotebook import tqdm as notebook_tqdm\n"
     ]
    }
   ],
   "source": [
    "from termcolor import colored\n",
    "import time\n",
    "from fastcoref import spacy_component\n",
    "import spacy"
   ]
  },
  {
   "cell_type": "code",
   "execution_count": 2,
   "id": "5784cde9-6eb3-470f-9981-866302409993",
   "metadata": {},
   "outputs": [
    {
     "name": "stderr",
     "output_type": "stream",
     "text": [
      "01/02/2023 22:01:04 - INFO - \t missing_keys: []\n",
      "01/02/2023 22:01:04 - INFO - \t unexpected_keys: []\n",
      "01/02/2023 22:01:04 - INFO - \t mismatched_keys: []\n",
      "01/02/2023 22:01:04 - INFO - \t error_msgs: []\n",
      "01/02/2023 22:01:04 - INFO - \t Model Parameters: 90.5M, Transformer: 82.1M, Coref head: 8.4M\n"
     ]
    },
    {
     "data": {
      "text/plain": [
       "<fastcoref.spacy_component.spacy_component.FastCorefResolver at 0x1b3fec34100>"
      ]
     },
     "execution_count": 2,
     "metadata": {},
     "output_type": "execute_result"
    }
   ],
   "source": [
    "sm_nlp = spacy.load(\"en_core_web_sm\", exclude=[\"parser\", \"lemmatizer\", \"ner\", \"textcat\"])\n",
    "sm_nlp.add_pipe(\"fastcoref\")\n",
    "# lg_nlp = spacy.load(\"en_core_web_lg\", exclude=[\"parser\", \"lemmatizer\", \"ner\", \"textcat\"])\n",
    "# lg_nlp.add_pipe(\"fastcoref\")\n",
    "# ling_nlp = spacy.load(\"en_core_web_sm\", exclude=[\"parser\", \"lemmatizer\", \"ner\", \"textcat\"])\n",
    "# ling_nlp.add_pipe(\n",
    "#    \"fastcoref\", \n",
    "#    config={'model_architecture': 'LingMessCoref', 'model_path': 'biu-nlp/lingmess-coref', 'device': 'cpu'}\n",
    "# )"
   ]
  },
  {
   "cell_type": "code",
   "execution_count": 3,
   "id": "a5e4bfa9-960f-4f3e-8738-e4698ab98349",
   "metadata": {},
   "outputs": [
    {
     "name": "stderr",
     "output_type": "stream",
     "text": [
      "01/02/2023 22:01:04 - INFO - \t Tokenize 1 inputs...\n",
      "100%|████████████████████████████████████████████████████████████████████████████████████████████| 1/1 [00:00<?, ?ba/s]\n",
      "01/02/2023 22:01:04 - INFO - \t ***** Running Inference on 1 texts *****\n",
      "Inference: 100%|█████████████████████████████████████████████████████████████████████████| 1/1 [00:00<00:00, 64.01it/s]\n"
     ]
    },
    {
     "data": {
      "text/plain": [
       "[[(0, 5), (39, 42), (79, 82)]]"
      ]
     },
     "execution_count": 3,
     "metadata": {},
     "output_type": "execute_result"
    }
   ],
   "source": [
    "text = 'Alice goes down the rabbit hole. Where she would discover a new reality beyond her expectations.'\n",
    "doc = sm_nlp(text)\n",
    "doc._.coref_clusters"
   ]
  },
  {
   "cell_type": "markdown",
   "id": "6241b4d5-f139-4073-a672-3673699822f7",
   "metadata": {},
   "source": [
    "## Utility Functions"
   ]
  },
  {
   "cell_type": "code",
   "execution_count": 4,
   "id": "6f966d9f-d519-49ab-8fbb-4c9ac892a1a7",
   "metadata": {},
   "outputs": [],
   "source": [
    "COLORS = ['green', 'red', 'yellow', 'blue', 'magenta', 'cyan']\n",
    "\n",
    "def get_color(index):\n",
    "    return COLORS[index % len(COLORS)]\n",
    "\n",
    "def cprint(text, color, newline=True):\n",
    "    print(colored(text, color), end='\\n' if newline else ' ')\n",
    "    \n",
    "def render_clusters(prediction, text):\n",
    "    corefs = prediction._.coref_clusters\n",
    "    for i, cluster in enumerate(corefs):\n",
    "        cprint(f'Cluster {i}', get_color(i))\n",
    "        for phrase_start, phrase_end in cluster:\n",
    "            cprint(f'{text[phrase_start:phrase_end + 1]} - [{phrase_start}, {phrase_end}]', get_color(i))\n",
    "            \n",
    "def predict_and_time(document, pipeline):\n",
    "    start = time.time()\n",
    "    prediction = pipeline(document)\n",
    "    end = time.time()\n",
    "    print(document)\n",
    "    render_clusters(prediction, document)\n",
    "    print(f\"Elapsed Time: {(end - start) * 1000}ms\");"
   ]
  },
  {
   "cell_type": "markdown",
   "id": "295a16b1-fdac-4401-a1eb-d52161a2f49d",
   "metadata": {},
   "source": [
    "## Excerpt Tests (`sm_nlp`)"
   ]
  },
  {
   "cell_type": "code",
   "execution_count": 5,
   "id": "4aa451c6-b625-48b9-ab10-797970d838c4",
   "metadata": {},
   "outputs": [],
   "source": [
    "short_excerpt = 'In practical terms, anarchy can refer to the curtailment or abolition of traditional forms of government and institutions. ' \\\n",
    "'It can also designate a nation or any inhabited place that has no system of government or central rule. ' \\\n",
    "'Anarchy is primarily advocated by individual anarchists who propose replacing government with voluntary institutions. ' \\\n",
    "'These institutions or free associations are generally modeled on nature.'"
   ]
  },
  {
   "cell_type": "code",
   "execution_count": 14,
   "id": "8541549d-abe0-4702-859d-f691a1ec5334",
   "metadata": {},
   "outputs": [
    {
     "name": "stderr",
     "output_type": "stream",
     "text": [
      "01/02/2023 22:02:49 - INFO - \t Tokenize 1 inputs...\n",
      "100%|████████████████████████████████████████████████████████████████████████████████████████████| 1/1 [00:00<?, ?ba/s]\n",
      "01/02/2023 22:02:49 - INFO - \t ***** Running Inference on 1 texts *****\n",
      "Inference: 100%|█████████████████████████████████████████████████████████████████████████| 1/1 [00:00<00:00,  5.31it/s]"
     ]
    },
    {
     "name": "stdout",
     "output_type": "stream",
     "text": [
      "In practical terms, anarchy can refer to the curtailment or abolition of traditional forms of government and institutions. It can also designate a nation or any inhabited place that has no system of government or central rule. Anarchy is primarily advocated by individual anarchists who propose replacing government with voluntary institutions. These institutions or free associations are generally modeled on nature.\n",
      "\u001b[32mCluster 0\u001b[0m\n",
      "\u001b[32manarchy  - [20, 27]\u001b[0m\n",
      "\u001b[32mIt  - [123, 125]\u001b[0m\n",
      "\u001b[31mCluster 1\u001b[0m\n",
      "\u001b[31mvoluntary institutions. - [321, 343]\u001b[0m\n",
      "\u001b[31mThese institutions or free associations  - [345, 384]\u001b[0m\n",
      "Elapsed Time: 298.2664108276367ms\n"
     ]
    },
    {
     "name": "stderr",
     "output_type": "stream",
     "text": [
      "\n"
     ]
    }
   ],
   "source": [
    "predict_and_time(short_excerpt, sm_nlp)"
   ]
  },
  {
   "cell_type": "code",
   "execution_count": 7,
   "id": "37699979-cd0c-42b7-9746-466fd328ede8",
   "metadata": {},
   "outputs": [],
   "source": [
    "longer_article = 'Anarchy is a society without a government. It may also refer to a society or group of people that entirely rejects a set hierarchy. '\\\n",
    "'Anarchy was first used in English in 1539, meaning \"an absence of government\". Pierre-Joseph Proudhon adopted anarchy and anarchist in his 1840 treatise What Is Property? '\\\n",
    "'to refer to anarchism, a new political philosophy and social movement that advocates stateless societies based on free and voluntary associations. '\\\n",
    "'Anarchists seek a system based on the abolition of all coercive hierarchy, in particular the state, and many advocate for the creation of a system of direct democracy, '\\\n",
    "'worker cooperatives or privatization. In practical terms, anarchy can refer to the curtailment or abolition of traditional forms of government and institutions. '\\\n",
    "'It can also designate a nation or any inhabited place that has no system of government or central rule. Anarchy is primarily advocated by individual anarchists '\\\n",
    "'who propose replacing government with voluntary institutions. These institutions or free associations are generally modeled on nature since they can represent '\\\n",
    "'concepts such as community and economic self-reliance, interdependence, or individualism. Although anarchy is often negatively used as a synonym of chaos or '\\\n",
    "'societal collapse or anomie, this is not the meaning that anarchists attribute to anarchy, a society without hierarchies. '\\\n",
    "'Proudhon wrote that anarchy is \"Not the Daughter But the Mother of Order.\"'"
   ]
  },
  {
   "cell_type": "code",
   "execution_count": 13,
   "id": "91d1e13c-1346-4b96-af99-6ad1989e8ba1",
   "metadata": {},
   "outputs": [
    {
     "name": "stderr",
     "output_type": "stream",
     "text": [
      "01/02/2023 22:02:46 - INFO - \t Tokenize 1 inputs...\n",
      "100%|████████████████████████████████████████████████████████████████████████████████████| 1/1 [00:00<00:00, 64.01ba/s]\n",
      "01/02/2023 22:02:46 - INFO - \t ***** Running Inference on 1 texts *****\n",
      "Inference: 100%|█████████████████████████████████████████████████████████████████████████| 1/1 [00:00<00:00,  2.55it/s]"
     ]
    },
    {
     "name": "stdout",
     "output_type": "stream",
     "text": [
      "Anarchy is a society without a government. It may also refer to a society or group of people that entirely rejects a set hierarchy. Anarchy was first used in English in 1539, meaning \"an absence of government\". Pierre-Joseph Proudhon adopted anarchy and anarchist in his 1840 treatise What Is Property? to refer to anarchism, a new political philosophy and social movement that advocates stateless societies based on free and voluntary associations. Anarchists seek a system based on the abolition of all coercive hierarchy, in particular the state, and many advocate for the creation of a system of direct democracy, worker cooperatives or privatization. In practical terms, anarchy can refer to the curtailment or abolition of traditional forms of government and institutions. It can also designate a nation or any inhabited place that has no system of government or central rule. Anarchy is primarily advocated by individual anarchists who propose replacing government with voluntary institutions. These institutions or free associations are generally modeled on nature since they can represent concepts such as community and economic self-reliance, interdependence, or individualism. Although anarchy is often negatively used as a synonym of chaos or societal collapse or anomie, this is not the meaning that anarchists attribute to anarchy, a society without hierarchies. Proudhon wrote that anarchy is \"Not the Daughter But the Mother of Order.\"\n",
      "\u001b[32mCluster 0\u001b[0m\n",
      "\u001b[32mAnarchy  - [0, 7]\u001b[0m\n",
      "\u001b[32mIt  - [43, 45]\u001b[0m\n",
      "\u001b[32mAnarchy  - [132, 139]\u001b[0m\n",
      "\u001b[32manarchism, a new political philosophy and social movement that advocates stateless societies based on free and voluntary associations. - [315, 448]\u001b[0m\n",
      "\u001b[31mCluster 1\u001b[0m\n",
      "\u001b[31mPierre-Joseph Proudhon  - [211, 233]\u001b[0m\n",
      "\u001b[31mhis  - [267, 270]\u001b[0m\n",
      "\u001b[31mProudhon  - [1377, 1385]\u001b[0m\n",
      "\u001b[33mCluster 2\u001b[0m\n",
      "\u001b[33manarchy  - [676, 683]\u001b[0m\n",
      "\u001b[33mIt  - [779, 781]\u001b[0m\n",
      "\u001b[34mCluster 3\u001b[0m\n",
      "\u001b[34mvoluntary institutions. - [977, 999]\u001b[0m\n",
      "\u001b[34mThese institutions or free associations  - [1001, 1040]\u001b[0m\n",
      "\u001b[34mthey  - [1079, 1083]\u001b[0m\n",
      "\u001b[35mCluster 4\u001b[0m\n",
      "\u001b[35ma synonym of chaos or societal collapse or anomie, - [1233, 1282]\u001b[0m\n",
      "\u001b[35mthis  - [1284, 1288]\u001b[0m\n",
      "Elapsed Time: 518.2745456695557ms\n"
     ]
    },
    {
     "name": "stderr",
     "output_type": "stream",
     "text": [
      "\n"
     ]
    }
   ],
   "source": [
    "predict_and_time(longer_article, sm_nlp)"
   ]
  },
  {
   "cell_type": "code",
   "execution_count": 9,
   "id": "06d22926-e3d8-4392-befb-63871d076569",
   "metadata": {},
   "outputs": [],
   "source": [
    "very_long_article = 'Following the outbreak of the civil war in Somalia and the ensuing collapse of the central government, residents reverted to '\\\n",
    "'local forms of conflict resolution, either secular, traditional or Islamic law, with a provision for appeal of all sentences. '\\\n",
    "'The legal structure in the country was divided along three lines, namely civil law, religious law and customary law (xeer). '\\\n",
    "'While Somalia\\'s formal judicial system was largely destroyed after the fall of the Siad Barre regime, it was later gradually rebuilt and '\\\n",
    "'administered under different regional governments such as the autonomous Puntland and Somaliland macro-regions. '\\\n",
    "'In the case of the Transitional National Government and its successor the Transitional Federal Government, '\\\n",
    "'new interim judicial structures were formed through various international conferences. Despite some significant political differences between '\\\n",
    "'them, all of these administrations shared similar legal structures, much of which were predicated on the judicial systems of previous '\\\n",
    "'Somali administrations. These similarities in civil law included a charter which affirms the primacy of Muslim shari\\'a or religious law, '\\\n",
    "'although in practice shari\\'a is applied mainly to matters such as marriage, divorce, inheritance and civil issues. '\\\n",
    "'The charter assured the independence of the judiciary which in turn was protected by a judicial committee; a three-tier judicial system '\\\n",
    "'including a supreme court, a court of appeals and courts of first instance (either divided between district and regional courts, or a single court per region); '\\\n",
    "'and the laws of the civilian government which were in effect prior to the military coup d\\'état that saw the Barre regime into power remain '\\\n",
    "'in forced until the laws are amended. '\\\n",
    "'Economist Alex Tabarrok claimed that Somalia in its stateless period provided a \"unique test of the theory of anarchy\", in some aspects near of '\\\n",
    "'that espoused by anarcho-capitalists such as David D. Friedman and Murray Rothbard. Nonetheless, both anarchists and some anarcho-capitalists '\\\n",
    "'such as Walter Block argue that Somalia was not an anarchist society.'"
   ]
  },
  {
   "cell_type": "code",
   "execution_count": 12,
   "id": "871ee898-59ad-4226-a12c-1d1a976ebdd3",
   "metadata": {},
   "outputs": [
    {
     "name": "stderr",
     "output_type": "stream",
     "text": [
      "01/02/2023 22:02:41 - INFO - \t Tokenize 1 inputs...\n",
      "100%|████████████████████████████████████████████████████████████████████████████████████| 1/1 [00:00<00:00, 64.00ba/s]\n",
      "01/02/2023 22:02:42 - INFO - \t ***** Running Inference on 1 texts *****\n",
      "Inference: 100%|█████████████████████████████████████████████████████████████████████████| 1/1 [00:00<00:00,  1.99it/s]"
     ]
    },
    {
     "name": "stdout",
     "output_type": "stream",
     "text": [
      "Following the outbreak of the civil war in Somalia and the ensuing collapse of the central government, residents reverted to local forms of conflict resolution, either secular, traditional or Islamic law, with a provision for appeal of all sentences. The legal structure in the country was divided along three lines, namely civil law, religious law and customary law (xeer). While Somalia's formal judicial system was largely destroyed after the fall of the Siad Barre regime, it was later gradually rebuilt and administered under different regional governments such as the autonomous Puntland and Somaliland macro-regions. In the case of the Transitional National Government and its successor the Transitional Federal Government, new interim judicial structures were formed through various international conferences. Despite some significant political differences between them, all of these administrations shared similar legal structures, much of which were predicated on the judicial systems of previous Somali administrations. These similarities in civil law included a charter which affirms the primacy of Muslim shari'a or religious law, although in practice shari'a is applied mainly to matters such as marriage, divorce, inheritance and civil issues. The charter assured the independence of the judiciary which in turn was protected by a judicial committee; a three-tier judicial system including a supreme court, a court of appeals and courts of first instance (either divided between district and regional courts, or a single court per region); and the laws of the civilian government which were in effect prior to the military coup d'état that saw the Barre regime into power remain in forced until the laws are amended. Economist Alex Tabarrok claimed that Somalia in its stateless period provided a \"unique test of the theory of anarchy\", in some aspects near of that espoused by anarcho-capitalists such as David D. Friedman and Murray Rothbard. Nonetheless, both anarchists and some anarcho-capitalists such as Walter Block argue that Somalia was not an anarchist society.\n",
      "\u001b[32mCluster 0\u001b[0m\n",
      "\u001b[32mSomalia  - [43, 50]\u001b[0m\n",
      "\u001b[32mthe country  - [274, 285]\u001b[0m\n",
      "\u001b[32mSomalia's  - [381, 390]\u001b[0m\n",
      "\u001b[32mSomalia  - [1769, 1776]\u001b[0m\n",
      "\u001b[32mits  - [1780, 1783]\u001b[0m\n",
      "\u001b[32mSomalia  - [2050, 2057]\u001b[0m\n",
      "\u001b[31mCluster 1\u001b[0m\n",
      "\u001b[31mSomalia's formal judicial system  - [381, 413]\u001b[0m\n",
      "\u001b[31mit  - [477, 479]\u001b[0m\n",
      "\u001b[33mCluster 2\u001b[0m\n",
      "\u001b[33mthe Transitional National Government  - [639, 675]\u001b[0m\n",
      "\u001b[33mits  - [680, 683]\u001b[0m\n",
      "\u001b[34mCluster 3\u001b[0m\n",
      "\u001b[34mnew interim judicial structures  - [731, 762]\u001b[0m\n",
      "\u001b[34mthem, - [873, 877]\u001b[0m\n",
      "\u001b[34mall of these administrations  - [879, 907]\u001b[0m\n",
      "\u001b[35mCluster 4\u001b[0m\n",
      "\u001b[35ma charter which affirms the primacy of Muslim shari'a or religious law, - [1072, 1142]\u001b[0m\n",
      "\u001b[35mThe charter  - [1259, 1270]\u001b[0m\n",
      "\u001b[36mCluster 5\u001b[0m\n",
      "\u001b[36mthe Siad Barre regime, - [454, 475]\u001b[0m\n",
      "\u001b[36mthe Barre regime  - [1659, 1675]\u001b[0m\n",
      "\u001b[32mCluster 6\u001b[0m\n",
      "\u001b[32mSiad Barre  - [458, 468]\u001b[0m\n",
      "\u001b[32mBarre  - [1663, 1668]\u001b[0m\n",
      "\u001b[31mCluster 7\u001b[0m\n",
      "\u001b[31mthe laws of the civilian government which were in effect prior to the military coup d'état that saw the Barre regime into power  - [1559, 1686]\u001b[0m\n",
      "\u001b[31mthe laws  - [1710, 1718]\u001b[0m\n",
      "Elapsed Time: 627.671480178833ms\n"
     ]
    },
    {
     "name": "stderr",
     "output_type": "stream",
     "text": [
      "\n"
     ]
    }
   ],
   "source": [
    "predict_and_time(very_long_article, sm_nlp)"
   ]
  },
  {
   "cell_type": "markdown",
   "id": "dcb28262-4454-4ca8-8868-aee1b6ef82de",
   "metadata": {},
   "source": [
    "## Excerpt Tests (`lg_nlp`)"
   ]
  },
  {
   "cell_type": "code",
   "execution_count": 11,
   "id": "63d0e0f9-8f40-40db-8b0b-5f9dee9e813f",
   "metadata": {},
   "outputs": [
    {
     "ename": "NameError",
     "evalue": "name 'lg_nlp' is not defined",
     "output_type": "error",
     "traceback": [
      "\u001b[1;31m---------------------------------------------------------------------------\u001b[0m",
      "\u001b[1;31mNameError\u001b[0m                                 Traceback (most recent call last)",
      "Cell \u001b[1;32mIn[11], line 1\u001b[0m\n\u001b[1;32m----> 1\u001b[0m predict_and_time(short_excerpt, \u001b[43mlg_nlp\u001b[49m)\n",
      "\u001b[1;31mNameError\u001b[0m: name 'lg_nlp' is not defined"
     ]
    }
   ],
   "source": [
    "predict_and_time(short_excerpt, lg_nlp)"
   ]
  },
  {
   "cell_type": "code",
   "execution_count": null,
   "id": "327087bb-a1f1-4c8e-9877-43d1cba56c0d",
   "metadata": {},
   "outputs": [],
   "source": [
    "predict_and_time(longer_article, lg_nlp)"
   ]
  },
  {
   "cell_type": "code",
   "execution_count": null,
   "id": "6c72bbae-d4f2-4f41-9889-94aa68b031ff",
   "metadata": {},
   "outputs": [],
   "source": [
    "predict_and_time(very_long_article, lg_nlp)"
   ]
  },
  {
   "cell_type": "markdown",
   "id": "3b48b7e8-9958-4760-8a21-5fa60da4c02d",
   "metadata": {},
   "source": [
    "## Excerpt Tests (`lingmess`)"
   ]
  },
  {
   "cell_type": "code",
   "execution_count": null,
   "id": "51b2123c-3e6f-4f2e-ba76-4f33267cd097",
   "metadata": {},
   "outputs": [],
   "source": [
    "predict_and_time(short_excerpt, ling_nlp)"
   ]
  },
  {
   "cell_type": "code",
   "execution_count": null,
   "id": "37fa0bb2-acf6-4c38-99a6-e5013028e770",
   "metadata": {},
   "outputs": [],
   "source": [
    "predict_and_time(longer_article, ling_nlp)"
   ]
  },
  {
   "cell_type": "code",
   "execution_count": null,
   "id": "cd8799c3-b6fc-4acc-9844-2d72c77b1331",
   "metadata": {},
   "outputs": [],
   "source": [
    "predict_and_time(very_long_article, ling_nlp)"
   ]
  },
  {
   "cell_type": "markdown",
   "id": "15904d3a-7fb0-42d0-80eb-d4ed35b635cc",
   "metadata": {},
   "source": [
    "## Conclusion"
   ]
  },
  {
   "cell_type": "markdown",
   "id": "1c249144-fb5e-41db-8899-eb5472237809",
   "metadata": {},
   "source": [
    "The lingmess model is definitely more accurate, but too slow. "
   ]
  },
  {
   "cell_type": "markdown",
   "id": "4ea492fc-8ce3-4fe6-bc15-4b9cec763e8b",
   "metadata": {},
   "source": [
    "The speed is very inconsistent."
   ]
  },
  {
   "cell_type": "code",
   "execution_count": null,
   "id": "6cc343aa-db0d-49e5-b38c-966ba28ea150",
   "metadata": {},
   "outputs": [],
   "source": []
  }
 ],
 "metadata": {
  "kernelspec": {
   "display_name": "spacy",
   "language": "python",
   "name": "spacy"
  },
  "language_info": {
   "codemirror_mode": {
    "name": "ipython",
    "version": 3
   },
   "file_extension": ".py",
   "mimetype": "text/x-python",
   "name": "python",
   "nbconvert_exporter": "python",
   "pygments_lexer": "ipython3",
   "version": "3.10.9"
  }
 },
 "nbformat": 4,
 "nbformat_minor": 5
}
