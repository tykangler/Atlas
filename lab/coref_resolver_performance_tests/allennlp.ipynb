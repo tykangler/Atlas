{
 "cells": [
  {
   "cell_type": "markdown",
   "id": "341b7b7a-1661-4698-8301-7194b57c0c8a",
   "metadata": {},
   "source": [
    "> Please run this notebook in python310 and in an isolated virtualenv."
   ]
  },
  {
   "cell_type": "markdown",
   "id": "dd7a447e-69c0-406c-a6fe-eb90d8d5036b",
   "metadata": {},
   "source": [
    "## Basic Usage"
   ]
  },
  {
   "cell_type": "code",
   "execution_count": 1,
   "id": "b262a90f-a6ed-4d54-b440-21289d3b4a6a",
   "metadata": {},
   "outputs": [
    {
     "name": "stderr",
     "output_type": "stream",
     "text": [
      "C:\\Users\\tyler\\projects\\Atlas\\venv\\allennlp\\lib\\site-packages\\tqdm\\auto.py:22: TqdmWarning: IProgress not found. Please update jupyter and ipywidgets. See https://ipywidgets.readthedocs.io/en/stable/user_install.html\n",
      "  from .autonotebook import tqdm as notebook_tqdm\n"
     ]
    }
   ],
   "source": [
    "from termcolor import colored\n",
    "import time\n",
    "from allennlp.predictors.predictor import Predictor"
   ]
  },
  {
   "cell_type": "code",
   "execution_count": 2,
   "id": "402919ab-a93d-4511-bbca-00ea9543950c",
   "metadata": {},
   "outputs": [
    {
     "name": "stderr",
     "output_type": "stream",
     "text": [
      "error loading _jsonnet (this is expected on Windows), treating C:\\Users\\tyler\\AppData\\Local\\Temp\\tmp4d_8v0qy\\config.json as plain json\n",
      "Some weights of BertModel were not initialized from the model checkpoint at SpanBERT/spanbert-large-cased and are newly initialized: ['bert.pooler.dense.weight', 'bert.pooler.dense.bias']\n",
      "You should probably TRAIN this model on a down-stream task to be able to use it for predictions and inference.\n"
     ]
    }
   ],
   "source": [
    "predictor = Predictor.from_path(\"https://storage.googleapis.com/allennlp-public-models/coref-spanbert-large-2021.03.10.tar.gz\")"
   ]
  },
  {
   "cell_type": "code",
   "execution_count": 3,
   "id": "f8d2ee10-43bc-4fff-a65d-bae4f1e2437b",
   "metadata": {},
   "outputs": [
    {
     "data": {
      "text/plain": [
       "{'top_spans': [[0, 0],\n",
       "  [3, 3],\n",
       "  [7, 7],\n",
       "  [10, 10],\n",
       "  [11, 11],\n",
       "  [13, 13],\n",
       "  [16, 16],\n",
       "  [19, 19],\n",
       "  [21, 22]],\n",
       " 'antecedent_indices': [[0, 1, 2, 3, 4, 5, 6, 7, 8],\n",
       "  [0, 1, 2, 3, 4, 5, 6, 7, 8],\n",
       "  [0, 1, 2, 3, 4, 5, 6, 7, 8],\n",
       "  [0, 1, 2, 3, 4, 5, 6, 7, 8],\n",
       "  [0, 1, 2, 3, 4, 5, 6, 7, 8],\n",
       "  [0, 1, 2, 3, 4, 5, 6, 7, 8],\n",
       "  [0, 1, 2, 3, 4, 5, 6, 7, 8],\n",
       "  [0, 1, 2, 3, 4, 5, 6, 7, 8],\n",
       "  [0, 1, 2, 3, 4, 5, 6, 7, 8]],\n",
       " 'predicted_antecedents': [-1, -1, -1, 2, -1, -1, 0, -1, -1],\n",
       " 'document': ['Harry',\n",
       "  'wanted',\n",
       "  'to',\n",
       "  'cook',\n",
       "  'a',\n",
       "  'meal',\n",
       "  'for',\n",
       "  'Sally',\n",
       "  '.',\n",
       "  'But',\n",
       "  'she',\n",
       "  'had',\n",
       "  'to',\n",
       "  'go',\n",
       "  'home',\n",
       "  '.',\n",
       "  'He',\n",
       "  'decided',\n",
       "  'to',\n",
       "  'go',\n",
       "  'for',\n",
       "  'a',\n",
       "  'walk',\n",
       "  '.'],\n",
       " 'clusters': [[[7, 7], [10, 10]], [[0, 0], [16, 16]]]}"
      ]
     },
     "execution_count": 3,
     "metadata": {},
     "output_type": "execute_result"
    }
   ],
   "source": [
    "prediction = predictor.predict(document=\"Harry wanted to cook a meal for Sally. But she had to go home. He decided to go for a walk.\")\n",
    "prediction"
   ]
  },
  {
   "cell_type": "markdown",
   "id": "0a96de1a-fd02-42bf-8838-964388bca57b",
   "metadata": {},
   "source": [
    "## Some Utility Functions"
   ]
  },
  {
   "cell_type": "code",
   "execution_count": 4,
   "id": "8972ba6f-39e2-4620-a00d-4a624dc455eb",
   "metadata": {},
   "outputs": [],
   "source": [
    "COLORS = ['green', 'red', 'yellow', 'blue', 'magenta', 'cyan']\n",
    "\n",
    "def get_color(index):\n",
    "    return COLORS[index % len(COLORS)]\n",
    "\n",
    "def cprint(text, color, newline=True):\n",
    "    print(colored(text, color), end='\\n' if newline else ' ')\n",
    "    \n",
    "def render_clusters(prediction):\n",
    "    for i, cluster in enumerate(prediction['clusters']):\n",
    "        cprint(f'Cluster {i}', get_color(i))\n",
    "        for phrase_start, phrase_end in cluster:\n",
    "            cprint(' '.join(prediction['document'][phrase_start:phrase_end + 1]), get_color(i), newline=False)\n",
    "            cprint(f' - [{phrase_start}, {phrase_end}]', get_color(i), newline=True)\n",
    "            \n",
    "def predict_and_time(document):\n",
    "    start = time.time()\n",
    "    pred = predictor.predict(document)\n",
    "    end = time.time()\n",
    "    print(document)\n",
    "    render_clusters(pred)\n",
    "    print(f\"Elapsed Time: {(end - start) * 1000}ms\");"
   ]
  },
  {
   "cell_type": "code",
   "execution_count": 5,
   "id": "34c8c1c2-d37d-4a7a-a4d2-3253093a04a6",
   "metadata": {},
   "outputs": [
    {
     "name": "stdout",
     "output_type": "stream",
     "text": [
      "\u001b[32mCluster 0\u001b[0m\n",
      "\u001b[32mSally\u001b[0m \u001b[32m - [7, 7]\u001b[0m\n",
      "\u001b[32mshe\u001b[0m \u001b[32m - [10, 10]\u001b[0m\n",
      "\u001b[31mCluster 1\u001b[0m\n",
      "\u001b[31mHarry\u001b[0m \u001b[31m - [0, 0]\u001b[0m\n",
      "\u001b[31mHe\u001b[0m \u001b[31m - [16, 16]\u001b[0m\n"
     ]
    }
   ],
   "source": [
    "render_clusters(prediction)"
   ]
  },
  {
   "cell_type": "markdown",
   "id": "3ac1af12-557a-410c-a588-027493fc37f1",
   "metadata": {},
   "source": [
    "## Excerpt Tests"
   ]
  },
  {
   "cell_type": "code",
   "execution_count": 6,
   "id": "75fdb1bf-6e5b-4f16-be3f-d8e58122f28c",
   "metadata": {},
   "outputs": [],
   "source": [
    "short_excerpt = 'In practical terms, anarchy can refer to the curtailment or abolition of traditional forms of government and institutions. ' \\\n",
    "'It can also designate a nation or any inhabited place that has no system of government or central rule. ' \\\n",
    "'Anarchy is primarily advocated by individual anarchists who propose replacing government with voluntary institutions. ' \\\n",
    "'These institutions or free associations are generally modeled on nature.'"
   ]
  },
  {
   "cell_type": "code",
   "execution_count": 7,
   "id": "1dbac564-31fd-4c63-938b-3c5295a9b0fe",
   "metadata": {},
   "outputs": [
    {
     "name": "stdout",
     "output_type": "stream",
     "text": [
      "In practical terms, anarchy can refer to the curtailment or abolition of traditional forms of government and institutions. It can also designate a nation or any inhabited place that has no system of government or central rule. Anarchy is primarily advocated by individual anarchists who propose replacing government with voluntary institutions. These institutions or free associations are generally modeled on nature.\n",
      "\u001b[32mCluster 0\u001b[0m\n",
      "\u001b[32manarchy\u001b[0m \u001b[32m - [4, 4]\u001b[0m\n",
      "\u001b[32mIt\u001b[0m \u001b[32m - [20, 20]\u001b[0m\n",
      "\u001b[31mCluster 1\u001b[0m\n",
      "\u001b[31mvoluntary institutions\u001b[0m \u001b[31m - [52, 53]\u001b[0m\n",
      "\u001b[31mThese institutions or free associations\u001b[0m \u001b[31m - [55, 59]\u001b[0m\n",
      "Elapsed Time: 822.8700160980225ms\n"
     ]
    }
   ],
   "source": [
    "predict_and_time(short_excerpt)"
   ]
  },
  {
   "cell_type": "code",
   "execution_count": 8,
   "id": "8da72248-3eb7-4d11-8229-77d6f09230aa",
   "metadata": {},
   "outputs": [],
   "source": [
    "longer_article = 'Anarchy is a society without a government. It may also refer to a society or group of people that entirely rejects a set hierarchy. '\\\n",
    "'Anarchy was first used in English in 1539, meaning \"an absence of government\". Pierre-Joseph Proudhon adopted anarchy and anarchist in his 1840 treatise What Is Property? '\\\n",
    "'to refer to anarchism, a new political philosophy and social movement that advocates stateless societies based on free and voluntary associations. '\\\n",
    "'Anarchists seek a system based on the abolition of all coercive hierarchy, in particular the state, and many advocate for the creation of a system of direct democracy, '\\\n",
    "'worker cooperatives or privatization. In practical terms, anarchy can refer to the curtailment or abolition of traditional forms of government and institutions. '\\\n",
    "'It can also designate a nation or any inhabited place that has no system of government or central rule. Anarchy is primarily advocated by individual anarchists '\\\n",
    "'who propose replacing government with voluntary institutions. These institutions or free associations are generally modeled on nature since they can represent '\\\n",
    "'concepts such as community and economic self-reliance, interdependence, or individualism. Although anarchy is often negatively used as a synonym of chaos or '\\\n",
    "'societal collapse or anomie, this is not the meaning that anarchists attribute to anarchy, a society without hierarchies. '\\\n",
    "'Proudhon wrote that anarchy is \"Not the Daughter But the Mother of Order.\"'"
   ]
  },
  {
   "cell_type": "code",
   "execution_count": 9,
   "id": "bf65357b-eaa9-4ca7-80e6-9461b64e690a",
   "metadata": {},
   "outputs": [
    {
     "name": "stdout",
     "output_type": "stream",
     "text": [
      "Anarchy is a society without a government. It may also refer to a society or group of people that entirely rejects a set hierarchy. Anarchy was first used in English in 1539, meaning \"an absence of government\". Pierre-Joseph Proudhon adopted anarchy and anarchist in his 1840 treatise What Is Property? to refer to anarchism, a new political philosophy and social movement that advocates stateless societies based on free and voluntary associations. Anarchists seek a system based on the abolition of all coercive hierarchy, in particular the state, and many advocate for the creation of a system of direct democracy, worker cooperatives or privatization. In practical terms, anarchy can refer to the curtailment or abolition of traditional forms of government and institutions. It can also designate a nation or any inhabited place that has no system of government or central rule. Anarchy is primarily advocated by individual anarchists who propose replacing government with voluntary institutions. These institutions or free associations are generally modeled on nature since they can represent concepts such as community and economic self-reliance, interdependence, or individualism. Although anarchy is often negatively used as a synonym of chaos or societal collapse or anomie, this is not the meaning that anarchists attribute to anarchy, a society without hierarchies. Proudhon wrote that anarchy is \"Not the Daughter But the Mother of Order.\"\n",
      "\u001b[32mCluster 0\u001b[0m\n",
      "\u001b[32mAnarchy\u001b[0m \u001b[32m - [0, 0]\u001b[0m\n",
      "\u001b[32mIt\u001b[0m \u001b[32m - [8, 8]\u001b[0m\n",
      "\u001b[31mCluster 1\u001b[0m\n",
      "\u001b[31mPierre - Joseph Proudhon\u001b[0m \u001b[31m - [43, 46]\u001b[0m\n",
      "\u001b[31mhis\u001b[0m \u001b[31m - [52, 52]\u001b[0m\n",
      "\u001b[31mProudhon\u001b[0m \u001b[31m - [235, 235]\u001b[0m\n",
      "\u001b[33mCluster 2\u001b[0m\n",
      "\u001b[33manarchy\u001b[0m \u001b[33m - [122, 122]\u001b[0m\n",
      "\u001b[33mIt\u001b[0m \u001b[33m - [138, 138]\u001b[0m\n",
      "\u001b[34mCluster 3\u001b[0m\n",
      "\u001b[34mvoluntary institutions\u001b[0m \u001b[34m - [170, 171]\u001b[0m\n",
      "\u001b[34mThese institutions or free associations\u001b[0m \u001b[34m - [173, 177]\u001b[0m\n",
      "\u001b[34mthey\u001b[0m \u001b[34m - [184, 184]\u001b[0m\n",
      "\u001b[35mCluster 4\u001b[0m\n",
      "\u001b[35mAnarchy\u001b[0m \u001b[35m - [26, 26]\u001b[0m\n",
      "\u001b[35manarchy\u001b[0m \u001b[35m - [203, 203]\u001b[0m\n",
      "Elapsed Time: 3924.966812133789ms\n"
     ]
    }
   ],
   "source": [
    "predict_and_time(longer_article)"
   ]
  },
  {
   "cell_type": "code",
   "execution_count": 10,
   "id": "faa5f855-5d97-4789-8c19-7b7857b957b4",
   "metadata": {},
   "outputs": [],
   "source": [
    "very_long_article = 'Following the outbreak of the civil war in Somalia and the ensuing collapse of the central government, residents reverted to '\\\n",
    "'local forms of conflict resolution, either secular, traditional or Islamic law, with a provision for appeal of all sentences. '\\\n",
    "'The legal structure in the country was divided along three lines, namely civil law, religious law and customary law (xeer). '\\\n",
    "'While Somalia\\'s formal judicial system was largely destroyed after the fall of the Siad Barre regime, it was later gradually rebuilt and '\\\n",
    "'administered under different regional governments such as the autonomous Puntland and Somaliland macro-regions. '\\\n",
    "'In the case of the Transitional National Government and its successor the Transitional Federal Government, '\\\n",
    "'new interim judicial structures were formed through various international conferences. Despite some significant political differences between '\\\n",
    "'them, all of these administrations shared similar legal structures, much of which were predicated on the judicial systems of previous '\\\n",
    "'Somali administrations. These similarities in civil law included a charter which affirms the primacy of Muslim shari\\'a or religious law, '\\\n",
    "'although in practice shari\\'a is applied mainly to matters such as marriage, divorce, inheritance and civil issues. '\\\n",
    "'The charter assured the independence of the judiciary which in turn was protected by a judicial committee; a three-tier judicial system '\\\n",
    "'including a supreme court, a court of appeals and courts of first instance (either divided between district and regional courts, or a single court per region); '\\\n",
    "'and the laws of the civilian government which were in effect prior to the military coup d\\'état that saw the Barre regime into power remain '\\\n",
    "'in forced until the laws are amended. '\\\n",
    "'Economist Alex Tabarrok claimed that Somalia in its stateless period provided a \"unique test of the theory of anarchy\", in some aspects near of '\\\n",
    "'that espoused by anarcho-capitalists such as David D. Friedman and Murray Rothbard. Nonetheless, both anarchists and some anarcho-capitalists '\\\n",
    "'such as Walter Block argue that Somalia was not an anarchist society.'"
   ]
  },
  {
   "cell_type": "code",
   "execution_count": 11,
   "id": "6fffdb75-9128-48b8-9907-b02025fcda4f",
   "metadata": {},
   "outputs": [
    {
     "name": "stdout",
     "output_type": "stream",
     "text": [
      "Following the outbreak of the civil war in Somalia and the ensuing collapse of the central government, residents reverted to local forms of conflict resolution, either secular, traditional or Islamic law, with a provision for appeal of all sentences. The legal structure in the country was divided along three lines, namely civil law, religious law and customary law (xeer). While Somalia's formal judicial system was largely destroyed after the fall of the Siad Barre regime, it was later gradually rebuilt and administered under different regional governments such as the autonomous Puntland and Somaliland macro-regions. In the case of the Transitional National Government and its successor the Transitional Federal Government, new interim judicial structures were formed through various international conferences. Despite some significant political differences between them, all of these administrations shared similar legal structures, much of which were predicated on the judicial systems of previous Somali administrations. These similarities in civil law included a charter which affirms the primacy of Muslim shari'a or religious law, although in practice shari'a is applied mainly to matters such as marriage, divorce, inheritance and civil issues. The charter assured the independence of the judiciary which in turn was protected by a judicial committee; a three-tier judicial system including a supreme court, a court of appeals and courts of first instance (either divided between district and regional courts, or a single court per region); and the laws of the civilian government which were in effect prior to the military coup d'état that saw the Barre regime into power remain in forced until the laws are amended. Economist Alex Tabarrok claimed that Somalia in its stateless period provided a \"unique test of the theory of anarchy\", in some aspects near of that espoused by anarcho-capitalists such as David D. Friedman and Murray Rothbard. Nonetheless, both anarchists and some anarcho-capitalists such as Walter Block argue that Somalia was not an anarchist society.\n",
      "\u001b[32mCluster 0\u001b[0m\n",
      "\u001b[32mSomalia\u001b[0m \u001b[32m - [8, 8]\u001b[0m\n",
      "\u001b[32mthe country\u001b[0m \u001b[32m - [48, 49]\u001b[0m\n",
      "\u001b[32mSomalia 's\u001b[0m \u001b[32m - [70, 71]\u001b[0m\n",
      "\u001b[32mSomalia\u001b[0m \u001b[32m - [299, 299]\u001b[0m\n",
      "\u001b[32mits\u001b[0m \u001b[32m - [301, 301]\u001b[0m\n",
      "\u001b[32mSomalia\u001b[0m \u001b[32m - [351, 351]\u001b[0m\n",
      "\u001b[31mCluster 1\u001b[0m\n",
      "\u001b[31mSomalia 's formal judicial system\u001b[0m \u001b[31m - [70, 74]\u001b[0m\n",
      "\u001b[31mit\u001b[0m \u001b[31m - [87, 87]\u001b[0m\n",
      "\u001b[33mCluster 2\u001b[0m\n",
      "\u001b[33mthe Transitional National Government\u001b[0m \u001b[33m - [113, 116]\u001b[0m\n",
      "\u001b[33mits\u001b[0m \u001b[33m - [118, 118]\u001b[0m\n",
      "\u001b[34mCluster 3\u001b[0m\n",
      "\u001b[34mthe Transitional National Government and its successor the Transitional Federal Government\u001b[0m \u001b[34m - [113, 123]\u001b[0m\n",
      "\u001b[34mthem\u001b[0m \u001b[34m - [142, 142]\u001b[0m\n",
      "\u001b[34mall of these administrations\u001b[0m \u001b[34m - [144, 147]\u001b[0m\n",
      "\u001b[35mCluster 4\u001b[0m\n",
      "\u001b[35mMuslim shari'a or religious law\u001b[0m \u001b[35m - [180, 184]\u001b[0m\n",
      "\u001b[35mshari'a\u001b[0m \u001b[35m - [189, 189]\u001b[0m\n",
      "\u001b[36mCluster 5\u001b[0m\n",
      "\u001b[36mthe Siad Barre regime\u001b[0m \u001b[36m - [82, 85]\u001b[0m\n",
      "\u001b[36mthe Barre regime\u001b[0m \u001b[36m - [280, 282]\u001b[0m\n",
      "\u001b[32mCluster 6\u001b[0m\n",
      "\u001b[32mSiad Barre\u001b[0m \u001b[32m - [83, 84]\u001b[0m\n",
      "\u001b[32mBarre\u001b[0m \u001b[32m - [281, 281]\u001b[0m\n",
      "\u001b[31mCluster 7\u001b[0m\n",
      "\u001b[31mthe laws of the civilian government which were in effect prior to the military coup d'état that saw the Barre regime into power\u001b[0m \u001b[31m - [262, 284]\u001b[0m\n",
      "\u001b[31mthe laws\u001b[0m \u001b[31m - [289, 290]\u001b[0m\n",
      "Elapsed Time: 5871.188402175903ms\n"
     ]
    }
   ],
   "source": [
    "predict_and_time(very_long_article)"
   ]
  },
  {
   "cell_type": "markdown",
   "id": "bb421129-f4f0-48b9-b389-5312d254272a",
   "metadata": {},
   "source": [
    "## Conclusion"
   ]
  },
  {
   "cell_type": "markdown",
   "id": "9fe727d5-12fc-4f62-a6c7-0c1e101f130e",
   "metadata": {},
   "source": [
    "While AllenNLP is very accurate, it is also very slow."
   ]
  },
  {
   "cell_type": "code",
   "execution_count": null,
   "id": "0cf42e5a-3a7a-4cfe-838a-a421d4bf756f",
   "metadata": {},
   "outputs": [],
   "source": []
  }
 ],
 "metadata": {
  "kernelspec": {
   "display_name": "allennlp",
   "language": "python",
   "name": "allennlp"
  },
  "language_info": {
   "codemirror_mode": {
    "name": "ipython",
    "version": 3
   },
   "file_extension": ".py",
   "mimetype": "text/x-python",
   "name": "python",
   "nbconvert_exporter": "python",
   "pygments_lexer": "ipython3",
   "version": "3.10.9"
  }
 },
 "nbformat": 4,
 "nbformat_minor": 5
}
