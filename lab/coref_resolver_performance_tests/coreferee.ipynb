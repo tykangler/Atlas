{
 "cells": [
  {
   "cell_type": "markdown",
   "id": "6e8dbe9b-0eaa-4df4-97e5-6fb1b09c0eee",
   "metadata": {},
   "source": [
    "> Please run this in python310 and with a spacy kernel."
   ]
  },
  {
   "cell_type": "markdown",
   "id": "6773e04c-7d0b-4243-9004-21a27abad9f1",
   "metadata": {},
   "source": [
    "## Basic Usage"
   ]
  },
  {
   "cell_type": "code",
   "execution_count": 106,
   "id": "9c3437d4-d98a-4c3d-a083-90376238802f",
   "metadata": {},
   "outputs": [],
   "source": [
    "import time\n",
    "from termcolor import colored\n",
    "import coreferee, spacy\n",
    "from spacy import displacy"
   ]
  },
  {
   "cell_type": "code",
   "execution_count": 174,
   "id": "708b538b-c303-45c9-80e8-17bcbe04cbb1",
   "metadata": {},
   "outputs": [
    {
     "data": {
      "text/plain": [
       "<coreferee.manager.CorefereeBroker at 0x2666db3ff10>"
      ]
     },
     "execution_count": 174,
     "metadata": {},
     "output_type": "execute_result"
    }
   ],
   "source": [
    "trf_nlp = spacy.load('en_core_web_trf')\n",
    "sm_nlp = spacy.load('en_core_web_sm')\n",
    "lg_nlp = spacy.load('en_core_web_lg')\n",
    "trf_nlp.add_pipe('coreferee')\n",
    "sm_nlp.add_pipe('coreferee')\n",
    "lg_nlp.add_pipe('coreferee')"
   ]
  },
  {
   "cell_type": "code",
   "execution_count": 154,
   "id": "c845665c-383a-44e4-8cce-79beee8952a5",
   "metadata": {},
   "outputs": [
    {
     "name": "stdout",
     "output_type": "stream",
     "text": [
      "0: Harry(0), He(16)\n",
      "1: Sally(7), she(10)\n"
     ]
    }
   ],
   "source": [
    "doc = sm_nlp(\"Harry wanted to cook a meal for Sally. But she had to go home. He decided to go for a walk.\")\n",
    "doc._.coref_chains.print()"
   ]
  },
  {
   "cell_type": "code",
   "execution_count": 155,
   "id": "8e0e536a-7f33-44d9-b2ad-594a22a9ee1b",
   "metadata": {},
   "outputs": [
    {
     "name": "stdout",
     "output_type": "stream",
     "text": [
      "0: Harry(0), He(16)\n",
      "1: Sally(7), she(10)\n"
     ]
    }
   ],
   "source": [
    "doc_trf = trf_nlp(\"Harry wanted to cook a meal for Sally. But she had to go home. He decided to go for a walk.\")\n",
    "doc_trf._.coref_chains.print()"
   ]
  },
  {
   "cell_type": "markdown",
   "id": "d349b3bf-8fa5-4764-8a0b-524fe7e0b5d7",
   "metadata": {},
   "source": [
    "## Utility Functions"
   ]
  },
  {
   "cell_type": "code",
   "execution_count": 156,
   "id": "74f4b535-15b7-4f70-9a52-d1c77490e8a2",
   "metadata": {},
   "outputs": [],
   "source": [
    "COLORS = ['green', 'red', 'yellow', 'blue', 'magenta', 'cyan']\n",
    "\n",
    "def get_color(index):\n",
    "    return COLORS[index % len(COLORS)]\n",
    "\n",
    "def cprint(text, color, newline=True):\n",
    "    print(colored(text, color), end='\\n' if newline else ' ')\n",
    "    \n",
    "def get_repr_from_mention(mention, prediction):\n",
    "    if len(mention) > 1:\n",
    "        return f'{prediction[mention[0]:mention[1] + 1]} - [{mention[0]}, {mention[1]}]'\n",
    "    else:\n",
    "        return f'{prediction[mention[0]]} - [{mention[0]}, {mention[0]}]'\n",
    "    \n",
    "def render_clusters(prediction):\n",
    "    corefs = prediction._.coref_chains\n",
    "    for i, cluster in enumerate(corefs):\n",
    "        antecedent = get_repr_from_mention(cluster[cluster.most_specific_mention_index], prediction)\n",
    "        cprint(f'Cluster {i} - Antecedent: {antecedent}', get_color(i))\n",
    "        for mention in cluster:\n",
    "            phrase = get_repr_from_mention(mention, prediction)\n",
    "            cprint(phrase, get_color(i))\n",
    "            \n",
    "def predict_and_time(document, pipeline):\n",
    "    start = time.time()\n",
    "    prediction = pipeline(document)\n",
    "    end = time.time()\n",
    "    print(document)\n",
    "    render_clusters(prediction)\n",
    "    print(f\"Elapsed Time: {(end - start) * 1000}ms\");"
   ]
  },
  {
   "cell_type": "code",
   "execution_count": 157,
   "id": "a204f1db-2ac9-4021-818b-26552e2a7e69",
   "metadata": {},
   "outputs": [
    {
     "name": "stdout",
     "output_type": "stream",
     "text": [
      "Although he was very busy with his work, Peter had had enough of it. He and his wife decided they needed a holiday. They travelled to Spain because they loved the country very much.\n",
      "\u001b[32mCluster 0 - Antecedent: Peter - [9, 9]\u001b[0m\n",
      "\u001b[32mhe - [1, 1]\u001b[0m\n",
      "\u001b[32mhis - [6, 6]\u001b[0m\n",
      "\u001b[32mPeter - [9, 9]\u001b[0m\n",
      "\u001b[32mHe - [16, 16]\u001b[0m\n",
      "\u001b[32mhis - [18, 18]\u001b[0m\n",
      "\u001b[31mCluster 1 - Antecedent: work - [7, 7]\u001b[0m\n",
      "\u001b[31mwork - [7, 7]\u001b[0m\n",
      "\u001b[31mit - [14, 14]\u001b[0m\n",
      "\u001b[33mCluster 2 - Antecedent: He and his wife - [16, 19]\u001b[0m\n",
      "\u001b[33mHe and his wife - [16, 19]\u001b[0m\n",
      "\u001b[33mthey - [21, 21]\u001b[0m\n",
      "\u001b[33mThey - [26, 26]\u001b[0m\n",
      "\u001b[33mthey - [31, 31]\u001b[0m\n",
      "\u001b[34mCluster 3 - Antecedent: Spain - [29, 29]\u001b[0m\n",
      "\u001b[34mSpain - [29, 29]\u001b[0m\n",
      "\u001b[34mcountry - [34, 34]\u001b[0m\n",
      "Elapsed Time: 93.6577320098877ms\n"
     ]
    }
   ],
   "source": [
    "predict_and_time(\"Although he was very busy with his work, Peter had had enough of it. He and his wife decided they needed a holiday. They travelled to Spain because they loved the country very much.\", trf_nlp)"
   ]
  },
  {
   "cell_type": "markdown",
   "id": "23785e90-d0c7-4aeb-b5ec-7c7403c9e01d",
   "metadata": {},
   "source": [
    "> Already much quicker than AllenNLP"
   ]
  },
  {
   "cell_type": "markdown",
   "id": "a584caf9-6e61-4a8c-9f7a-939a7cb83cf2",
   "metadata": {},
   "source": [
    "## Excerpt Tests (`sm_nlp`)"
   ]
  },
  {
   "cell_type": "code",
   "execution_count": 158,
   "id": "aa801f58-09e1-44df-a5eb-dada0616d671",
   "metadata": {},
   "outputs": [],
   "source": [
    "short_excerpt = 'In practical terms, anarchy can refer to the curtailment or abolition of traditional forms of government and institutions. ' \\\n",
    "'It can also designate a nation or any inhabited place that has no system of government or central rule. ' \\\n",
    "'Anarchy is primarily advocated by individual anarchists who propose replacing government with voluntary institutions. ' \\\n",
    "'These institutions or free associations are generally modeled on nature.'"
   ]
  },
  {
   "cell_type": "code",
   "execution_count": 159,
   "id": "8dfae072-90e8-414a-a04a-5a985ec31208",
   "metadata": {},
   "outputs": [
    {
     "name": "stdout",
     "output_type": "stream",
     "text": [
      "In practical terms, anarchy can refer to the curtailment or abolition of traditional forms of government and institutions. It can also designate a nation or any inhabited place that has no system of government or central rule. Anarchy is primarily advocated by individual anarchists who propose replacing government with voluntary institutions. These institutions or free associations are generally modeled on nature.\n",
      "\u001b[32mCluster 0 - Antecedent: anarchy - [4, 4]\u001b[0m\n",
      "\u001b[32manarchy - [4, 4]\u001b[0m\n",
      "\u001b[32mIt - [20, 20]\u001b[0m\n",
      "Elapsed Time: 31.24690055847168ms\n"
     ]
    }
   ],
   "source": [
    "predict_and_time(short_excerpt, sm_nlp)"
   ]
  },
  {
   "cell_type": "code",
   "execution_count": 160,
   "id": "117c2a44-4fed-43b4-908f-ca43dbeded9d",
   "metadata": {},
   "outputs": [],
   "source": [
    "longer_article = 'Anarchy is a society without a government. It may also refer to a society or group of people that entirely rejects a set hierarchy. '\\\n",
    "'Anarchy was first used in English in 1539, meaning \"an absence of government\". Pierre-Joseph Proudhon adopted anarchy and anarchist in his 1840 treatise What Is Property? '\\\n",
    "'to refer to anarchism, a new political philosophy and social movement that advocates stateless societies based on free and voluntary associations. '\\\n",
    "'Anarchists seek a system based on the abolition of all coercive hierarchy, in particular the state, and many advocate for the creation of a system of direct democracy, '\\\n",
    "'worker cooperatives or privatization. In practical terms, anarchy can refer to the curtailment or abolition of traditional forms of government and institutions. '\\\n",
    "'It can also designate a nation or any inhabited place that has no system of government or central rule. Anarchy is primarily advocated by individual anarchists '\\\n",
    "'who propose replacing government with voluntary institutions. These institutions or free associations are generally modeled on nature since they can represent '\\\n",
    "'concepts such as community and economic self-reliance, interdependence, or individualism. Although anarchy is often negatively used as a synonym of chaos or '\\\n",
    "'societal collapse or anomie, this is not the meaning that anarchists attribute to anarchy, a society without hierarchies. '\\\n",
    "'Proudhon wrote that anarchy is \"Not the Daughter But the Mother of Order.\"'"
   ]
  },
  {
   "cell_type": "code",
   "execution_count": 161,
   "id": "6b3362d9-c48d-4866-b74f-7a06b29b56b8",
   "metadata": {},
   "outputs": [
    {
     "name": "stdout",
     "output_type": "stream",
     "text": [
      "Anarchy is a society without a government. It may also refer to a society or group of people that entirely rejects a set hierarchy. Anarchy was first used in English in 1539, meaning \"an absence of government\". Pierre-Joseph Proudhon adopted anarchy and anarchist in his 1840 treatise What Is Property? to refer to anarchism, a new political philosophy and social movement that advocates stateless societies based on free and voluntary associations. Anarchists seek a system based on the abolition of all coercive hierarchy, in particular the state, and many advocate for the creation of a system of direct democracy, worker cooperatives or privatization. In practical terms, anarchy can refer to the curtailment or abolition of traditional forms of government and institutions. It can also designate a nation or any inhabited place that has no system of government or central rule. Anarchy is primarily advocated by individual anarchists who propose replacing government with voluntary institutions. These institutions or free associations are generally modeled on nature since they can represent concepts such as community and economic self-reliance, interdependence, or individualism. Although anarchy is often negatively used as a synonym of chaos or societal collapse or anomie, this is not the meaning that anarchists attribute to anarchy, a society without hierarchies. Proudhon wrote that anarchy is \"Not the Daughter But the Mother of Order.\"\n",
      "\u001b[32mCluster 0 - Antecedent: Anarchy - [0, 0]\u001b[0m\n",
      "\u001b[32mAnarchy - [0, 0]\u001b[0m\n",
      "\u001b[32mIt - [8, 8]\u001b[0m\n",
      "\u001b[32mAnarchy - [26, 26]\u001b[0m\n",
      "\u001b[31mCluster 1 - Antecedent: Proudhon - [46, 46]\u001b[0m\n",
      "\u001b[31mProudhon - [46, 46]\u001b[0m\n",
      "\u001b[31mhis - [52, 52]\u001b[0m\n",
      "\u001b[33mCluster 2 - Antecedent: anarchy - [122, 122]\u001b[0m\n",
      "\u001b[33manarchy - [122, 122]\u001b[0m\n",
      "\u001b[33mIt - [138, 138]\u001b[0m\n",
      "\u001b[34mCluster 3 - Antecedent: institutions or free associations - [174, 177]\u001b[0m\n",
      "\u001b[34minstitutions or free associations - [174, 177]\u001b[0m\n",
      "\u001b[34mthey - [184, 184]\u001b[0m\n",
      "Elapsed Time: 157.17506408691406ms\n"
     ]
    }
   ],
   "source": [
    "predict_and_time(longer_article, sm_nlp)"
   ]
  },
  {
   "cell_type": "code",
   "execution_count": 162,
   "id": "5b2e9a97-e39c-4c8e-8982-7ecad5346e19",
   "metadata": {},
   "outputs": [],
   "source": [
    "very_long_article = 'Following the outbreak of the civil war in Somalia and the ensuing collapse of the central government, residents reverted to '\\\n",
    "'local forms of conflict resolution, either secular, traditional or Islamic law, with a provision for appeal of all sentences. '\\\n",
    "'The legal structure in the country was divided along three lines, namely civil law, religious law and customary law (xeer). '\\\n",
    "'While Somalia\\'s formal judicial system was largely destroyed after the fall of the Siad Barre regime, it was later gradually rebuilt and '\\\n",
    "'administered under different regional governments such as the autonomous Puntland and Somaliland macro-regions. '\\\n",
    "'In the case of the Transitional National Government and its successor the Transitional Federal Government, '\\\n",
    "'new interim judicial structures were formed through various international conferences. Despite some significant political differences between '\\\n",
    "'them, all of these administrations shared similar legal structures, much of which were predicated on the judicial systems of previous '\\\n",
    "'Somali administrations. These similarities in civil law included a charter which affirms the primacy of Muslim shari\\'a or religious law, '\\\n",
    "'although in practice shari\\'a is applied mainly to matters such as marriage, divorce, inheritance and civil issues. '\\\n",
    "'The charter assured the independence of the judiciary which in turn was protected by a judicial committee; a three-tier judicial system '\\\n",
    "'including a supreme court, a court of appeals and courts of first instance (either divided between district and regional courts, or a single court per region); '\\\n",
    "'and the laws of the civilian government which were in effect prior to the military coup d\\'état that saw the Barre regime into power remain '\\\n",
    "'in forced until the laws are amended. '\\\n",
    "'Economist Alex Tabarrok claimed that Somalia in its stateless period provided a \"unique test of the theory of anarchy\", in some aspects near of '\\\n",
    "'that espoused by anarcho-capitalists such as David D. Friedman and Murray Rothbard. Nonetheless, both anarchists and some anarcho-capitalists '\\\n",
    "'such as Walter Block argue that Somalia was not an anarchist society.'"
   ]
  },
  {
   "cell_type": "code",
   "execution_count": 163,
   "id": "12035ccc-547a-44d1-af25-5431009f7875",
   "metadata": {},
   "outputs": [
    {
     "name": "stdout",
     "output_type": "stream",
     "text": [
      "Following the outbreak of the civil war in Somalia and the ensuing collapse of the central government, residents reverted to local forms of conflict resolution, either secular, traditional or Islamic law, with a provision for appeal of all sentences. The legal structure in the country was divided along three lines, namely civil law, religious law and customary law (xeer). While Somalia's formal judicial system was largely destroyed after the fall of the Siad Barre regime, it was later gradually rebuilt and administered under different regional governments such as the autonomous Puntland and Somaliland macro-regions. In the case of the Transitional National Government and its successor the Transitional Federal Government, new interim judicial structures were formed through various international conferences. Despite some significant political differences between them, all of these administrations shared similar legal structures, much of which were predicated on the judicial systems of previous Somali administrations. These similarities in civil law included a charter which affirms the primacy of Muslim shari'a or religious law, although in practice shari'a is applied mainly to matters such as marriage, divorce, inheritance and civil issues. The charter assured the independence of the judiciary which in turn was protected by a judicial committee; a three-tier judicial system including a supreme court, a court of appeals and courts of first instance (either divided between district and regional courts, or a single court per region); and the laws of the civilian government which were in effect prior to the military coup d'état that saw the Barre regime into power remain in forced until the laws are amended. Economist Alex Tabarrok claimed that Somalia in its stateless period provided a \"unique test of the theory of anarchy\", in some aspects near of that espoused by anarcho-capitalists such as David D. Friedman and Murray Rothbard. Nonetheless, both anarchists and some anarcho-capitalists such as Walter Block argue that Somalia was not an anarchist society.\n",
      "\u001b[32mCluster 0 - Antecedent: Somalia - [8, 8]\u001b[0m\n",
      "\u001b[32mSomalia - [8, 8]\u001b[0m\n",
      "\u001b[32mcountry - [49, 49]\u001b[0m\n",
      "\u001b[32mSomalia - [70, 70]\u001b[0m\n",
      "\u001b[31mCluster 1 - Antecedent: macro - [105, 105]\u001b[0m\n",
      "\u001b[31mmacro - [105, 105]\u001b[0m\n",
      "\u001b[31mits - [118, 118]\u001b[0m\n",
      "\u001b[33mCluster 2 - Antecedent: structures - [128, 128]\u001b[0m\n",
      "\u001b[33mstructures - [128, 128]\u001b[0m\n",
      "\u001b[33mthem - [142, 142]\u001b[0m\n",
      "\u001b[34mCluster 3 - Antecedent: charter - [174, 174]\u001b[0m\n",
      "\u001b[34mcharter - [174, 174]\u001b[0m\n",
      "\u001b[34mcharter - [207, 207]\u001b[0m\n",
      "\u001b[35mCluster 4 - Antecedent: laws - [263, 263]\u001b[0m\n",
      "\u001b[35mlaws - [263, 263]\u001b[0m\n",
      "\u001b[35mlaws - [290, 290]\u001b[0m\n",
      "\u001b[36mCluster 5 - Antecedent: Somalia - [299, 299]\u001b[0m\n",
      "\u001b[36mSomalia - [299, 299]\u001b[0m\n",
      "\u001b[36mits - [301, 301]\u001b[0m\n",
      "\u001b[36mSomalia - [351, 351]\u001b[0m\n",
      "Elapsed Time: 266.99352264404297ms\n"
     ]
    }
   ],
   "source": [
    "predict_and_time(very_long_article, sm_nlp)"
   ]
  },
  {
   "cell_type": "markdown",
   "id": "8921eb2d-0a6b-4c95-b2ef-e1e9678c3a51",
   "metadata": {},
   "source": [
    "> Overall much faster than Allennlp, but there are some inconsistencies."
   ]
  },
  {
   "cell_type": "markdown",
   "id": "b968697e-23df-40e2-b37b-7b429ff9eea0",
   "metadata": {},
   "source": [
    "## Excerpt Tests (`trf_nlp`)"
   ]
  },
  {
   "cell_type": "code",
   "execution_count": 164,
   "id": "514cbbaf-eab3-4d40-978c-28b2f4589809",
   "metadata": {},
   "outputs": [
    {
     "name": "stdout",
     "output_type": "stream",
     "text": [
      "In practical terms, anarchy can refer to the curtailment or abolition of traditional forms of government and institutions. It can also designate a nation or any inhabited place that has no system of government or central rule. Anarchy is primarily advocated by individual anarchists who propose replacing government with voluntary institutions. These institutions or free associations are generally modeled on nature.\n",
      "\u001b[32mCluster 0 - Antecedent: anarchy - [4, 4]\u001b[0m\n",
      "\u001b[32manarchy - [4, 4]\u001b[0m\n",
      "\u001b[32mIt - [20, 20]\u001b[0m\n",
      "Elapsed Time: 136.85345649719238ms\n"
     ]
    }
   ],
   "source": [
    "predict_and_time(short_excerpt, trf_nlp)"
   ]
  },
  {
   "cell_type": "code",
   "execution_count": 165,
   "id": "4b2da44e-3bb1-4c12-88fb-b5ef44a34d72",
   "metadata": {},
   "outputs": [
    {
     "name": "stdout",
     "output_type": "stream",
     "text": [
      "Anarchy is a society without a government. It may also refer to a society or group of people that entirely rejects a set hierarchy. Anarchy was first used in English in 1539, meaning \"an absence of government\". Pierre-Joseph Proudhon adopted anarchy and anarchist in his 1840 treatise What Is Property? to refer to anarchism, a new political philosophy and social movement that advocates stateless societies based on free and voluntary associations. Anarchists seek a system based on the abolition of all coercive hierarchy, in particular the state, and many advocate for the creation of a system of direct democracy, worker cooperatives or privatization. In practical terms, anarchy can refer to the curtailment or abolition of traditional forms of government and institutions. It can also designate a nation or any inhabited place that has no system of government or central rule. Anarchy is primarily advocated by individual anarchists who propose replacing government with voluntary institutions. These institutions or free associations are generally modeled on nature since they can represent concepts such as community and economic self-reliance, interdependence, or individualism. Although anarchy is often negatively used as a synonym of chaos or societal collapse or anomie, this is not the meaning that anarchists attribute to anarchy, a society without hierarchies. Proudhon wrote that anarchy is \"Not the Daughter But the Mother of Order.\"\n",
      "\u001b[32mCluster 0 - Antecedent: Anarchy - [0, 0]\u001b[0m\n",
      "\u001b[32mAnarchy - [0, 0]\u001b[0m\n",
      "\u001b[32mIt - [8, 8]\u001b[0m\n",
      "\u001b[31mCluster 1 - Antecedent: Proudhon - [46, 46]\u001b[0m\n",
      "\u001b[31mProudhon - [46, 46]\u001b[0m\n",
      "\u001b[31mhis - [52, 52]\u001b[0m\n",
      "\u001b[33mCluster 2 - Antecedent: anarchy - [122, 122]\u001b[0m\n",
      "\u001b[33manarchy - [122, 122]\u001b[0m\n",
      "\u001b[33mIt - [138, 138]\u001b[0m\n",
      "\u001b[34mCluster 3 - Antecedent: institutions - [174, 174]\u001b[0m\n",
      "\u001b[34minstitutions - [174, 174]\u001b[0m\n",
      "\u001b[34mthey - [184, 184]\u001b[0m\n",
      "Elapsed Time: 768.9125537872314ms\n"
     ]
    }
   ],
   "source": [
    "predict_and_time(longer_article, trf_nlp)"
   ]
  },
  {
   "cell_type": "code",
   "execution_count": 166,
   "id": "d9afbfe2-0e66-4369-8cf2-73b9d6e6fbd0",
   "metadata": {},
   "outputs": [
    {
     "name": "stdout",
     "output_type": "stream",
     "text": [
      "Following the outbreak of the civil war in Somalia and the ensuing collapse of the central government, residents reverted to local forms of conflict resolution, either secular, traditional or Islamic law, with a provision for appeal of all sentences. The legal structure in the country was divided along three lines, namely civil law, religious law and customary law (xeer). While Somalia's formal judicial system was largely destroyed after the fall of the Siad Barre regime, it was later gradually rebuilt and administered under different regional governments such as the autonomous Puntland and Somaliland macro-regions. In the case of the Transitional National Government and its successor the Transitional Federal Government, new interim judicial structures were formed through various international conferences. Despite some significant political differences between them, all of these administrations shared similar legal structures, much of which were predicated on the judicial systems of previous Somali administrations. These similarities in civil law included a charter which affirms the primacy of Muslim shari'a or religious law, although in practice shari'a is applied mainly to matters such as marriage, divorce, inheritance and civil issues. The charter assured the independence of the judiciary which in turn was protected by a judicial committee; a three-tier judicial system including a supreme court, a court of appeals and courts of first instance (either divided between district and regional courts, or a single court per region); and the laws of the civilian government which were in effect prior to the military coup d'état that saw the Barre regime into power remain in forced until the laws are amended. Economist Alex Tabarrok claimed that Somalia in its stateless period provided a \"unique test of the theory of anarchy\", in some aspects near of that espoused by anarcho-capitalists such as David D. Friedman and Murray Rothbard. Nonetheless, both anarchists and some anarcho-capitalists such as Walter Block argue that Somalia was not an anarchist society.\n",
      "\u001b[32mCluster 0 - Antecedent: Somalia - [8, 8]\u001b[0m\n",
      "\u001b[32mSomalia - [8, 8]\u001b[0m\n",
      "\u001b[32mcountry - [49, 49]\u001b[0m\n",
      "\u001b[32mSomalia - [70, 70]\u001b[0m\n",
      "\u001b[31mCluster 1 - Antecedent: Somaliland - [104, 104]\u001b[0m\n",
      "\u001b[31mSomaliland - [104, 104]\u001b[0m\n",
      "\u001b[31mits - [118, 118]\u001b[0m\n",
      "\u001b[33mCluster 2 - Antecedent: structures - [128, 128]\u001b[0m\n",
      "\u001b[33mstructures - [128, 128]\u001b[0m\n",
      "\u001b[33mthem - [142, 142]\u001b[0m\n",
      "\u001b[34mCluster 3 - Antecedent: charter - [174, 174]\u001b[0m\n",
      "\u001b[34mcharter - [174, 174]\u001b[0m\n",
      "\u001b[34mcharter - [207, 207]\u001b[0m\n",
      "\u001b[35mCluster 4 - Antecedent: laws - [263, 263]\u001b[0m\n",
      "\u001b[35mlaws - [263, 263]\u001b[0m\n",
      "\u001b[35mlaws - [290, 290]\u001b[0m\n",
      "\u001b[36mCluster 5 - Antecedent: Somalia - [299, 299]\u001b[0m\n",
      "\u001b[36mSomalia - [299, 299]\u001b[0m\n",
      "\u001b[36mits - [301, 301]\u001b[0m\n",
      "\u001b[36mSomalia - [351, 351]\u001b[0m\n",
      "Elapsed Time: 1068.3777332305908ms\n"
     ]
    }
   ],
   "source": [
    "predict_and_time(very_long_article, trf_nlp)"
   ]
  },
  {
   "cell_type": "markdown",
   "id": "7b964e5f-f0ff-4c33-8ec2-1309179a9f9b",
   "metadata": {},
   "source": [
    "> There are still some inaccuracies here, maybe even more than `sm_nlp`. However, coreferee only references the head. Get the whole subtree."
   ]
  },
  {
   "cell_type": "markdown",
   "id": "b584498d-53fd-4000-87d8-8c4d63806ddb",
   "metadata": {},
   "source": [
    "Taking an example from the long article above, using `charter [174, 174]`."
   ]
  },
  {
   "cell_type": "code",
   "execution_count": 167,
   "id": "d34a72b2-3f99-48c0-a7ef-e0606a1832a9",
   "metadata": {},
   "outputs": [],
   "source": [
    "prediction = sm_nlp(very_long_article)"
   ]
  },
  {
   "cell_type": "code",
   "execution_count": 168,
   "id": "248f526f-973c-4621-aed3-6f83cad5fa71",
   "metadata": {},
   "outputs": [
    {
     "data": {
      "text/plain": [
       "\"a charter which affirms the primacy of Muslim shari'a or religious law\""
      ]
     },
     "execution_count": 168,
     "metadata": {},
     "output_type": "execute_result"
    }
   ],
   "source": [
    "' '.join(map(str, prediction[174].subtree))"
   ]
  },
  {
   "cell_type": "markdown",
   "id": "d2470471-220a-4f1b-9d74-6255d8831294",
   "metadata": {},
   "source": [
    "Honestly seems like the small pipeline is more accurate."
   ]
  },
  {
   "cell_type": "markdown",
   "id": "6f4e2c82-a333-4a24-915a-1cd72358df08",
   "metadata": {},
   "source": [
    "## Utility Functions Revisited"
   ]
  },
  {
   "cell_type": "code",
   "execution_count": 171,
   "id": "bd4ed5f5-a361-4773-a1b4-afbb03ec02cb",
   "metadata": {},
   "outputs": [],
   "source": [
    "COLORS = ['green', 'red', 'yellow', 'blue', 'magenta', 'cyan']\n",
    "\n",
    "def get_color(index):\n",
    "    return COLORS[index % len(COLORS)]\n",
    "\n",
    "def cprint(text, color, newline=True):\n",
    "    print(colored(text, color), end='\\n' if newline else ' ')\n",
    "    \n",
    "def get_repr_from_mention(mention, prediction):\n",
    "    if len(mention) > 1:\n",
    "        return f'{prediction[mention[0]:mention[1] + 1]} - mention indices [{mention[0]}, {mention[1]}]'\n",
    "    else:\n",
    "        left = prediction[mention[0]].left_edge.i\n",
    "        right = prediction[mention[0]].right_edge.i\n",
    "        merged_phrase_subtree = str(prediction[left:right + 1])\n",
    "        return f'{merged_phrase_subtree} - mention indices [{mention[0]}, {mention[0]}] - subtree indices [{left}, {right}]'\n",
    "    \n",
    "def render_clusters(prediction):\n",
    "    corefs = prediction._.coref_chains\n",
    "    for i, cluster in enumerate(corefs):\n",
    "        antecedent = get_repr_from_mention(cluster[cluster.most_specific_mention_index], prediction)\n",
    "        cprint(f'Cluster {i} - {antecedent}', get_color(i))\n",
    "        for mention in cluster:\n",
    "            phrase = get_repr_from_mention(mention, prediction)\n",
    "            cprint(phrase, get_color(i))\n",
    "            \n",
    "def predict_and_time(document, pipeline):\n",
    "    start = time.time()\n",
    "    prediction = pipeline(document)\n",
    "    end = time.time()\n",
    "    print(document)\n",
    "    render_clusters(prediction)\n",
    "    print(f\"Elapsed Time: {(end - start) * 1000}ms\");"
   ]
  },
  {
   "cell_type": "markdown",
   "id": "f5b3f75d-470b-4aaf-9922-b107e9bc079b",
   "metadata": {},
   "source": [
    "## More Testing with Noun Phrases and `lg_nlp`"
   ]
  },
  {
   "cell_type": "code",
   "execution_count": 178,
   "id": "9f79f7e6-b050-4436-8dab-ea69c45509ed",
   "metadata": {},
   "outputs": [
    {
     "name": "stdout",
     "output_type": "stream",
     "text": [
      "Following the outbreak of the civil war in Somalia and the ensuing collapse of the central government, residents reverted to local forms of conflict resolution, either secular, traditional or Islamic law, with a provision for appeal of all sentences. The legal structure in the country was divided along three lines, namely civil law, religious law and customary law (xeer). While Somalia's formal judicial system was largely destroyed after the fall of the Siad Barre regime, it was later gradually rebuilt and administered under different regional governments such as the autonomous Puntland and Somaliland macro-regions. In the case of the Transitional National Government and its successor the Transitional Federal Government, new interim judicial structures were formed through various international conferences. Despite some significant political differences between them, all of these administrations shared similar legal structures, much of which were predicated on the judicial systems of previous Somali administrations. These similarities in civil law included a charter which affirms the primacy of Muslim shari'a or religious law, although in practice shari'a is applied mainly to matters such as marriage, divorce, inheritance and civil issues. The charter assured the independence of the judiciary which in turn was protected by a judicial committee; a three-tier judicial system including a supreme court, a court of appeals and courts of first instance (either divided between district and regional courts, or a single court per region); and the laws of the civilian government which were in effect prior to the military coup d'état that saw the Barre regime into power remain in forced until the laws are amended. Economist Alex Tabarrok claimed that Somalia in its stateless period provided a \"unique test of the theory of anarchy\", in some aspects near of that espoused by anarcho-capitalists such as David D. Friedman and Murray Rothbard. Nonetheless, both anarchists and some anarcho-capitalists such as Walter Block argue that Somalia was not an anarchist society.\n",
      "\u001b[32mCluster 0 - Somalia - mention indices [8, 8] - subtree indices [8, 8]\u001b[0m\n",
      "\u001b[32mSomalia - mention indices [8, 8] - subtree indices [8, 8]\u001b[0m\n",
      "\u001b[32mthe country - mention indices [49, 49] - subtree indices [48, 49]\u001b[0m\n",
      "\u001b[32mSomalia's - mention indices [70, 70] - subtree indices [70, 71]\u001b[0m\n",
      "\u001b[31mCluster 1 - the autonomous Puntland and Somaliland macro - mention indices [105, 105] - subtree indices [100, 105]\u001b[0m\n",
      "\u001b[31mthe autonomous Puntland and Somaliland macro - mention indices [105, 105] - subtree indices [100, 105]\u001b[0m\n",
      "\u001b[31mits - mention indices [118, 118] - subtree indices [118, 118]\u001b[0m\n",
      "\u001b[33mCluster 2 - various international conferences - mention indices [134, 134] - subtree indices [132, 134]\u001b[0m\n",
      "\u001b[33mvarious international conferences - mention indices [134, 134] - subtree indices [132, 134]\u001b[0m\n",
      "\u001b[33mthem - mention indices [142, 142] - subtree indices [142, 142]\u001b[0m\n",
      "\u001b[34mCluster 3 - a charter which affirms the primacy of Muslim shari'a or religious law - mention indices [174, 174] - subtree indices [173, 184]\u001b[0m\n",
      "\u001b[34ma charter which affirms the primacy of Muslim shari'a or religious law - mention indices [174, 174] - subtree indices [173, 184]\u001b[0m\n",
      "\u001b[34mThe charter - mention indices [207, 207] - subtree indices [206, 207]\u001b[0m\n",
      "\u001b[35mCluster 4 - the laws of the civilian government which were in effect prior to the military coup d'état that saw the Barre regime into power - mention indices [263, 263] - subtree indices [262, 284]\u001b[0m\n",
      "\u001b[35mthe laws of the civilian government which were in effect prior to the military coup d'état that saw the Barre regime into power - mention indices [263, 263] - subtree indices [262, 284]\u001b[0m\n",
      "\u001b[35mthe laws - mention indices [290, 290] - subtree indices [289, 290]\u001b[0m\n",
      "\u001b[36mCluster 5 - Somalia in its stateless period - mention indices [299, 299] - subtree indices [299, 303]\u001b[0m\n",
      "\u001b[36mSomalia in its stateless period - mention indices [299, 299] - subtree indices [299, 303]\u001b[0m\n",
      "\u001b[36mits - mention indices [301, 301] - subtree indices [301, 301]\u001b[0m\n",
      "\u001b[36mSomalia - mention indices [351, 351] - subtree indices [351, 351]\u001b[0m\n",
      "Elapsed Time: 241.43385887145996ms\n"
     ]
    }
   ],
   "source": [
    "predict_and_time(very_long_article, lg_nlp)"
   ]
  },
  {
   "cell_type": "code",
   "execution_count": 177,
   "id": "2403dab0-c695-40f1-bb16-0e1417f16b90",
   "metadata": {},
   "outputs": [
    {
     "name": "stdout",
     "output_type": "stream",
     "text": [
      "Following the outbreak of the civil war in Somalia and the ensuing collapse of the central government, residents reverted to local forms of conflict resolution, either secular, traditional or Islamic law, with a provision for appeal of all sentences. The legal structure in the country was divided along three lines, namely civil law, religious law and customary law (xeer). While Somalia's formal judicial system was largely destroyed after the fall of the Siad Barre regime, it was later gradually rebuilt and administered under different regional governments such as the autonomous Puntland and Somaliland macro-regions. In the case of the Transitional National Government and its successor the Transitional Federal Government, new interim judicial structures were formed through various international conferences. Despite some significant political differences between them, all of these administrations shared similar legal structures, much of which were predicated on the judicial systems of previous Somali administrations. These similarities in civil law included a charter which affirms the primacy of Muslim shari'a or religious law, although in practice shari'a is applied mainly to matters such as marriage, divorce, inheritance and civil issues. The charter assured the independence of the judiciary which in turn was protected by a judicial committee; a three-tier judicial system including a supreme court, a court of appeals and courts of first instance (either divided between district and regional courts, or a single court per region); and the laws of the civilian government which were in effect prior to the military coup d'état that saw the Barre regime into power remain in forced until the laws are amended. Economist Alex Tabarrok claimed that Somalia in its stateless period provided a \"unique test of the theory of anarchy\", in some aspects near of that espoused by anarcho-capitalists such as David D. Friedman and Murray Rothbard. Nonetheless, both anarchists and some anarcho-capitalists such as Walter Block argue that Somalia was not an anarchist society.\n",
      "\u001b[32mCluster 0 - Somalia and - mention indices [8, 8] - subtree indices [8, 9]\u001b[0m\n",
      "\u001b[32mSomalia and - mention indices [8, 8] - subtree indices [8, 9]\u001b[0m\n",
      "\u001b[32mthe country - mention indices [49, 49] - subtree indices [48, 49]\u001b[0m\n",
      "\u001b[32mSomalia's - mention indices [70, 70] - subtree indices [70, 71]\u001b[0m\n",
      "\u001b[31mCluster 1 - the autonomous Puntland and Somaliland macro - mention indices [105, 105] - subtree indices [100, 105]\u001b[0m\n",
      "\u001b[31mthe autonomous Puntland and Somaliland macro - mention indices [105, 105] - subtree indices [100, 105]\u001b[0m\n",
      "\u001b[31mits - mention indices [118, 118] - subtree indices [118, 118]\u001b[0m\n",
      "\u001b[33mCluster 2 - new interim judicial structures - mention indices [128, 128] - subtree indices [125, 128]\u001b[0m\n",
      "\u001b[33mnew interim judicial structures - mention indices [128, 128] - subtree indices [125, 128]\u001b[0m\n",
      "\u001b[33mthem - mention indices [142, 142] - subtree indices [142, 142]\u001b[0m\n",
      "\u001b[34mCluster 3 - a charter which affirms the primacy of Muslim shari'a or religious law - mention indices [174, 174] - subtree indices [173, 184]\u001b[0m\n",
      "\u001b[34ma charter which affirms the primacy of Muslim shari'a or religious law - mention indices [174, 174] - subtree indices [173, 184]\u001b[0m\n",
      "\u001b[34mThe charter - mention indices [207, 207] - subtree indices [206, 207]\u001b[0m\n",
      "\u001b[35mCluster 4 - the laws of the civilian government which were in effect prior to the military coup d'état that saw the Barre regime into power remain in forced until the laws are amended - mention indices [263, 263] - subtree indices [262, 292]\u001b[0m\n",
      "\u001b[35mthe laws of the civilian government which were in effect prior to the military coup d'état that saw the Barre regime into power remain in forced until the laws are amended - mention indices [263, 263] - subtree indices [262, 292]\u001b[0m\n",
      "\u001b[35mthe laws - mention indices [290, 290] - subtree indices [289, 290]\u001b[0m\n",
      "\u001b[36mCluster 5 - Somalia in its stateless period - mention indices [299, 299] - subtree indices [299, 303]\u001b[0m\n",
      "\u001b[36mSomalia in its stateless period - mention indices [299, 299] - subtree indices [299, 303]\u001b[0m\n",
      "\u001b[36mits - mention indices [301, 301] - subtree indices [301, 301]\u001b[0m\n",
      "\u001b[36mSomalia - mention indices [351, 351] - subtree indices [351, 351]\u001b[0m\n",
      "Elapsed Time: 251.44672393798828ms\n"
     ]
    }
   ],
   "source": [
    "predict_and_time(very_long_article, sm_nlp)"
   ]
  },
  {
   "cell_type": "markdown",
   "id": "53d36c84-8747-4c60-9caa-3e7aaa0d61d4",
   "metadata": {},
   "source": [
    "The large and small pipelines are comparable in speed, but the large pipeline is more accurate with the dependency parser, while the small pipeline found the coreferences better."
   ]
  },
  {
   "cell_type": "markdown",
   "id": "9ab383c9-519b-4544-bc98-c9322e57f34a",
   "metadata": {},
   "source": [
    "## Continued Testing with `lg_nlp`"
   ]
  },
  {
   "cell_type": "code",
   "execution_count": 181,
   "id": "b8eccde4-7f40-46a4-bef3-424ecdc7d3d1",
   "metadata": {},
   "outputs": [
    {
     "name": "stdout",
     "output_type": "stream",
     "text": [
      "In practical terms, anarchy can refer to the curtailment or abolition of traditional forms of government and institutions. It can also designate a nation or any inhabited place that has no system of government or central rule. Anarchy is primarily advocated by individual anarchists who propose replacing government with voluntary institutions. These institutions or free associations are generally modeled on nature.\n",
      "\u001b[32mCluster 0 - anarchy - mention indices [4, 4] - subtree indices [4, 4]\u001b[0m\n",
      "\u001b[32manarchy - mention indices [4, 4] - subtree indices [4, 4]\u001b[0m\n",
      "\u001b[32mIt - mention indices [20, 20] - subtree indices [20, 20]\u001b[0m\n",
      "Elapsed Time: 46.814680099487305ms\n"
     ]
    }
   ],
   "source": [
    "predict_and_time(short_excerpt, lg_nlp)"
   ]
  },
  {
   "cell_type": "code",
   "execution_count": 182,
   "id": "72233a82-72da-463e-8909-e58fc6138aa5",
   "metadata": {},
   "outputs": [
    {
     "name": "stdout",
     "output_type": "stream",
     "text": [
      "Anarchy is a society without a government. It may also refer to a society or group of people that entirely rejects a set hierarchy. Anarchy was first used in English in 1539, meaning \"an absence of government\". Pierre-Joseph Proudhon adopted anarchy and anarchist in his 1840 treatise What Is Property? to refer to anarchism, a new political philosophy and social movement that advocates stateless societies based on free and voluntary associations. Anarchists seek a system based on the abolition of all coercive hierarchy, in particular the state, and many advocate for the creation of a system of direct democracy, worker cooperatives or privatization. In practical terms, anarchy can refer to the curtailment or abolition of traditional forms of government and institutions. It can also designate a nation or any inhabited place that has no system of government or central rule. Anarchy is primarily advocated by individual anarchists who propose replacing government with voluntary institutions. These institutions or free associations are generally modeled on nature since they can represent concepts such as community and economic self-reliance, interdependence, or individualism. Although anarchy is often negatively used as a synonym of chaos or societal collapse or anomie, this is not the meaning that anarchists attribute to anarchy, a society without hierarchies. Proudhon wrote that anarchy is \"Not the Daughter But the Mother of Order.\"\n",
      "\u001b[32mCluster 0 - Anarchy - mention indices [0, 0] - subtree indices [0, 0]\u001b[0m\n",
      "\u001b[32mAnarchy - mention indices [0, 0] - subtree indices [0, 0]\u001b[0m\n",
      "\u001b[32mIt - mention indices [8, 8] - subtree indices [8, 8]\u001b[0m\n",
      "\u001b[31mCluster 1 - Pierre-Joseph Proudhon - mention indices [46, 46] - subtree indices [43, 46]\u001b[0m\n",
      "\u001b[31mPierre-Joseph Proudhon - mention indices [46, 46] - subtree indices [43, 46]\u001b[0m\n",
      "\u001b[31mhis - mention indices [52, 52] - subtree indices [52, 52]\u001b[0m\n",
      "\u001b[33mCluster 2 - anarchy - mention indices [122, 122] - subtree indices [122, 122]\u001b[0m\n",
      "\u001b[33manarchy - mention indices [122, 122] - subtree indices [122, 122]\u001b[0m\n",
      "\u001b[33mIt - mention indices [138, 138] - subtree indices [138, 138]\u001b[0m\n",
      "\u001b[34mCluster 3 - institutions or free associations - mention indices [174, 177]\u001b[0m\n",
      "\u001b[34minstitutions or free associations - mention indices [174, 177]\u001b[0m\n",
      "\u001b[34mthey - mention indices [184, 184] - subtree indices [184, 184]\u001b[0m\n",
      "Elapsed Time: 141.26205444335938ms\n"
     ]
    }
   ],
   "source": [
    "predict_and_time(longer_article, lg_nlp)"
   ]
  },
  {
   "cell_type": "code",
   "execution_count": null,
   "id": "dfba3df5-3ef4-4d80-a1fb-16cfcf7e13d8",
   "metadata": {},
   "outputs": [],
   "source": []
  }
 ],
 "metadata": {
  "kernelspec": {
   "display_name": "spacy",
   "language": "python",
   "name": "spacy"
  },
  "language_info": {
   "codemirror_mode": {
    "name": "ipython",
    "version": 3
   },
   "file_extension": ".py",
   "mimetype": "text/x-python",
   "name": "python",
   "nbconvert_exporter": "python",
   "pygments_lexer": "ipython3",
   "version": "3.10.9"
  }
 },
 "nbformat": 4,
 "nbformat_minor": 5
}
