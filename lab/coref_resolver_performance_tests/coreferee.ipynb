{
 "cells": [
  {
   "cell_type": "markdown",
   "id": "6e8dbe9b-0eaa-4df4-97e5-6fb1b09c0eee",
   "metadata": {},
   "source": [
    "> Please run this in python310 and with a spacy kernel."
   ]
  },
  {
   "cell_type": "markdown",
   "id": "6773e04c-7d0b-4243-9004-21a27abad9f1",
   "metadata": {},
   "source": [
    "## Basic Usage"
   ]
  },
  {
   "cell_type": "code",
   "execution_count": 1,
   "id": "9c3437d4-d98a-4c3d-a083-90376238802f",
   "metadata": {},
   "outputs": [
    {
     "name": "stderr",
     "output_type": "stream",
     "text": [
      "C:\\Users\\tyler\\projects\\Atlas\\venv\\spacy\\lib\\site-packages\\tqdm\\auto.py:22: TqdmWarning: IProgress not found. Please update jupyter and ipywidgets. See https://ipywidgets.readthedocs.io/en/stable/user_install.html\n",
      "  from .autonotebook import tqdm as notebook_tqdm\n"
     ]
    }
   ],
   "source": [
    "import time\n",
    "from termcolor import colored\n",
    "import coreferee, spacy\n",
    "from spacy import displacy"
   ]
  },
  {
   "cell_type": "code",
   "execution_count": 2,
   "id": "708b538b-c303-45c9-80e8-17bcbe04cbb1",
   "metadata": {},
   "outputs": [
    {
     "data": {
      "text/plain": [
       "<coreferee.manager.CorefereeBroker at 0x19a012f7640>"
      ]
     },
     "execution_count": 2,
     "metadata": {},
     "output_type": "execute_result"
    }
   ],
   "source": [
    "trf_nlp = spacy.load('en_core_web_trf')\n",
    "sm_nlp = spacy.load('en_core_web_sm')\n",
    "lg_nlp = spacy.load('en_core_web_lg')\n",
    "trf_nlp.add_pipe('coreferee')\n",
    "sm_nlp.add_pipe('coreferee')\n",
    "lg_nlp.add_pipe('coreferee')"
   ]
  },
  {
   "cell_type": "code",
   "execution_count": 3,
   "id": "c845665c-383a-44e4-8cce-79beee8952a5",
   "metadata": {},
   "outputs": [
    {
     "name": "stdout",
     "output_type": "stream",
     "text": [
      "0: Harry(0), He(16)\n",
      "1: Sally(7), she(10)\n"
     ]
    }
   ],
   "source": [
    "doc = sm_nlp(\"Harry wanted to cook a meal for Sally. But she had to go home. He decided to go for a walk.\")\n",
    "doc._.coref_chains.print()"
   ]
  },
  {
   "cell_type": "code",
   "execution_count": 4,
   "id": "8e0e536a-7f33-44d9-b2ad-594a22a9ee1b",
   "metadata": {},
   "outputs": [
    {
     "name": "stdout",
     "output_type": "stream",
     "text": [
      "0: Harry(0), He(16)\n",
      "1: Sally(7), she(10)\n"
     ]
    }
   ],
   "source": [
    "doc_trf = trf_nlp(\"Harry wanted to cook a meal for Sally. But she had to go home. He decided to go for a walk.\")\n",
    "doc_trf._.coref_chains.print()"
   ]
  },
  {
   "cell_type": "markdown",
   "id": "d349b3bf-8fa5-4764-8a0b-524fe7e0b5d7",
   "metadata": {},
   "source": [
    "## Utility Functions"
   ]
  },
  {
   "cell_type": "code",
   "execution_count": 5,
   "id": "74f4b535-15b7-4f70-9a52-d1c77490e8a2",
   "metadata": {},
   "outputs": [],
   "source": [
    "COLORS = ['green', 'red', 'yellow', 'blue', 'magenta', 'cyan']\n",
    "\n",
    "def get_color(index):\n",
    "    return COLORS[index % len(COLORS)]\n",
    "\n",
    "def cprint(text, color, newline=True):\n",
    "    print(colored(text, color), end='\\n' if newline else ' ')\n",
    "    \n",
    "def get_repr_from_mention(mention, prediction):\n",
    "    if len(mention) > 1:\n",
    "        return f'{prediction[mention[0]:mention[1] + 1]} - [{mention[0]}, {mention[1]}]'\n",
    "    else:\n",
    "        return f'{prediction[mention[0]]} - [{mention[0]}, {mention[0]}]'\n",
    "    \n",
    "def render_clusters(prediction):\n",
    "    corefs = prediction._.coref_chains\n",
    "    for i, cluster in enumerate(corefs):\n",
    "        antecedent = get_repr_from_mention(cluster[cluster.most_specific_mention_index], prediction)\n",
    "        cprint(f'Cluster {i} - Antecedent: {antecedent}', get_color(i))\n",
    "        for mention in cluster:\n",
    "            phrase = get_repr_from_mention(mention, prediction)\n",
    "            cprint(phrase, get_color(i))\n",
    "            \n",
    "def predict_and_time(document, pipeline):\n",
    "    start = time.time()\n",
    "    prediction = pipeline(document)\n",
    "    end = time.time()\n",
    "    print(document)\n",
    "    render_clusters(prediction)\n",
    "    print(f\"Elapsed Time: {(end - start) * 1000}ms\");"
   ]
  },
  {
   "cell_type": "code",
   "execution_count": 6,
   "id": "a204f1db-2ac9-4021-818b-26552e2a7e69",
   "metadata": {},
   "outputs": [
    {
     "name": "stdout",
     "output_type": "stream",
     "text": [
      "Although he was very busy with his work, Peter had had enough of it. He and his wife decided they needed a holiday. They travelled to Spain because they loved the country very much.\n",
      "\u001b[32mCluster 0 - Antecedent: Peter - [9, 9]\u001b[0m\n",
      "\u001b[32mhe - [1, 1]\u001b[0m\n",
      "\u001b[32mhis - [6, 6]\u001b[0m\n",
      "\u001b[32mPeter - [9, 9]\u001b[0m\n",
      "\u001b[32mHe - [16, 16]\u001b[0m\n",
      "\u001b[32mhis - [18, 18]\u001b[0m\n",
      "\u001b[31mCluster 1 - Antecedent: work - [7, 7]\u001b[0m\n",
      "\u001b[31mwork - [7, 7]\u001b[0m\n",
      "\u001b[31mit - [14, 14]\u001b[0m\n",
      "\u001b[33mCluster 2 - Antecedent: He and his wife - [16, 19]\u001b[0m\n",
      "\u001b[33mHe and his wife - [16, 19]\u001b[0m\n",
      "\u001b[33mthey - [21, 21]\u001b[0m\n",
      "\u001b[33mThey - [26, 26]\u001b[0m\n",
      "\u001b[33mthey - [31, 31]\u001b[0m\n",
      "\u001b[34mCluster 3 - Antecedent: Spain - [29, 29]\u001b[0m\n",
      "\u001b[34mSpain - [29, 29]\u001b[0m\n",
      "\u001b[34mcountry - [34, 34]\u001b[0m\n",
      "Elapsed Time: 93.73927116394043ms\n"
     ]
    }
   ],
   "source": [
    "predict_and_time(\"Although he was very busy with his work, Peter had had enough of it. He and his wife decided they needed a holiday. They travelled to Spain because they loved the country very much.\", trf_nlp)"
   ]
  },
  {
   "cell_type": "markdown",
   "id": "23785e90-d0c7-4aeb-b5ec-7c7403c9e01d",
   "metadata": {},
   "source": [
    "> Already much quicker than AllenNLP"
   ]
  },
  {
   "cell_type": "markdown",
   "id": "a584caf9-6e61-4a8c-9f7a-939a7cb83cf2",
   "metadata": {},
   "source": [
    "## Excerpt Tests (`sm_nlp`)"
   ]
  },
  {
   "cell_type": "code",
   "execution_count": 7,
   "id": "aa801f58-09e1-44df-a5eb-dada0616d671",
   "metadata": {},
   "outputs": [],
   "source": [
    "short_excerpt = 'In practical terms, anarchy can refer to the curtailment or abolition of traditional forms of government and institutions. ' \\\n",
    "'It can also designate a nation or any inhabited place that has no system of government or central rule. ' \\\n",
    "'Anarchy is primarily advocated by individual anarchists who propose replacing government with voluntary institutions. ' \\\n",
    "'These institutions or free associations are generally modeled on nature.'"
   ]
  },
  {
   "cell_type": "code",
   "execution_count": 8,
   "id": "8dfae072-90e8-414a-a04a-5a985ec31208",
   "metadata": {},
   "outputs": [
    {
     "name": "stdout",
     "output_type": "stream",
     "text": [
      "In practical terms, anarchy can refer to the curtailment or abolition of traditional forms of government and institutions. It can also designate a nation or any inhabited place that has no system of government or central rule. Anarchy is primarily advocated by individual anarchists who propose replacing government with voluntary institutions. These institutions or free associations are generally modeled on nature.\n",
      "\u001b[32mCluster 0 - Antecedent: anarchy - [4, 4]\u001b[0m\n",
      "\u001b[32manarchy - [4, 4]\u001b[0m\n",
      "\u001b[32mIt - [20, 20]\u001b[0m\n",
      "Elapsed Time: 15.624523162841797ms\n"
     ]
    }
   ],
   "source": [
    "predict_and_time(short_excerpt, sm_nlp)"
   ]
  },
  {
   "cell_type": "code",
   "execution_count": 9,
   "id": "117c2a44-4fed-43b4-908f-ca43dbeded9d",
   "metadata": {},
   "outputs": [],
   "source": [
    "longer_article = 'Anarchy is a society without a government. It may also refer to a society or group of people that entirely rejects a set hierarchy. '\\\n",
    "'Anarchy was first used in English in 1539, meaning \"an absence of government\". Pierre-Joseph Proudhon adopted anarchy and anarchist in his 1840 treatise What Is Property? '\\\n",
    "'to refer to anarchism, a new political philosophy and social movement that advocates stateless societies based on free and voluntary associations. '\\\n",
    "'Anarchists seek a system based on the abolition of all coercive hierarchy, in particular the state, and many advocate for the creation of a system of direct democracy, '\\\n",
    "'worker cooperatives or privatization. In practical terms, anarchy can refer to the curtailment or abolition of traditional forms of government and institutions. '\\\n",
    "'It can also designate a nation or any inhabited place that has no system of government or central rule. Anarchy is primarily advocated by individual anarchists '\\\n",
    "'who propose replacing government with voluntary institutions. These institutions or free associations are generally modeled on nature since they can represent '\\\n",
    "'concepts such as community and economic self-reliance, interdependence, or individualism. Although anarchy is often negatively used as a synonym of chaos or '\\\n",
    "'societal collapse or anomie, this is not the meaning that anarchists attribute to anarchy, a society without hierarchies. '\\\n",
    "'Proudhon wrote that anarchy is \"Not the Daughter But the Mother of Order.\"'"
   ]
  },
  {
   "cell_type": "code",
   "execution_count": 10,
   "id": "6b3362d9-c48d-4866-b74f-7a06b29b56b8",
   "metadata": {},
   "outputs": [
    {
     "name": "stdout",
     "output_type": "stream",
     "text": [
      "Anarchy is a society without a government. It may also refer to a society or group of people that entirely rejects a set hierarchy. Anarchy was first used in English in 1539, meaning \"an absence of government\". Pierre-Joseph Proudhon adopted anarchy and anarchist in his 1840 treatise What Is Property? to refer to anarchism, a new political philosophy and social movement that advocates stateless societies based on free and voluntary associations. Anarchists seek a system based on the abolition of all coercive hierarchy, in particular the state, and many advocate for the creation of a system of direct democracy, worker cooperatives or privatization. In practical terms, anarchy can refer to the curtailment or abolition of traditional forms of government and institutions. It can also designate a nation or any inhabited place that has no system of government or central rule. Anarchy is primarily advocated by individual anarchists who propose replacing government with voluntary institutions. These institutions or free associations are generally modeled on nature since they can represent concepts such as community and economic self-reliance, interdependence, or individualism. Although anarchy is often negatively used as a synonym of chaos or societal collapse or anomie, this is not the meaning that anarchists attribute to anarchy, a society without hierarchies. Proudhon wrote that anarchy is \"Not the Daughter But the Mother of Order.\"\n",
      "\u001b[32mCluster 0 - Antecedent: Anarchy - [0, 0]\u001b[0m\n",
      "\u001b[32mAnarchy - [0, 0]\u001b[0m\n",
      "\u001b[32mIt - [8, 8]\u001b[0m\n",
      "\u001b[32mAnarchy - [26, 26]\u001b[0m\n",
      "\u001b[31mCluster 1 - Antecedent: Proudhon - [46, 46]\u001b[0m\n",
      "\u001b[31mProudhon - [46, 46]\u001b[0m\n",
      "\u001b[31mhis - [52, 52]\u001b[0m\n",
      "\u001b[33mCluster 2 - Antecedent: anarchy - [122, 122]\u001b[0m\n",
      "\u001b[33manarchy - [122, 122]\u001b[0m\n",
      "\u001b[33mIt - [138, 138]\u001b[0m\n",
      "\u001b[34mCluster 3 - Antecedent: institutions or free associations - [174, 177]\u001b[0m\n",
      "\u001b[34minstitutions or free associations - [174, 177]\u001b[0m\n",
      "\u001b[34mthey - [184, 184]\u001b[0m\n",
      "Elapsed Time: 172.29557037353516ms\n"
     ]
    }
   ],
   "source": [
    "predict_and_time(longer_article, sm_nlp)"
   ]
  },
  {
   "cell_type": "code",
   "execution_count": 11,
   "id": "5b2e9a97-e39c-4c8e-8982-7ecad5346e19",
   "metadata": {},
   "outputs": [],
   "source": [
    "very_long_article = 'Following the outbreak of the civil war in Somalia and the ensuing collapse of the central government, residents reverted to '\\\n",
    "'local forms of conflict resolution, either secular, traditional or Islamic law, with a provision for appeal of all sentences. '\\\n",
    "'The legal structure in the country was divided along three lines, namely civil law, religious law and customary law (xeer). '\\\n",
    "'While Somalia\\'s formal judicial system was largely destroyed after the fall of the Siad Barre regime, it was later gradually rebuilt and '\\\n",
    "'administered under different regional governments such as the autonomous Puntland and Somaliland macro-regions. '\\\n",
    "'In the case of the Transitional National Government and its successor the Transitional Federal Government, '\\\n",
    "'new interim judicial structures were formed through various international conferences. Despite some significant political differences between '\\\n",
    "'them, all of these administrations shared similar legal structures, much of which were predicated on the judicial systems of previous '\\\n",
    "'Somali administrations. These similarities in civil law included a charter which affirms the primacy of Muslim shari\\'a or religious law, '\\\n",
    "'although in practice shari\\'a is applied mainly to matters such as marriage, divorce, inheritance and civil issues. '\\\n",
    "'The charter assured the independence of the judiciary which in turn was protected by a judicial committee; a three-tier judicial system '\\\n",
    "'including a supreme court, a court of appeals and courts of first instance (either divided between district and regional courts, or a single court per region); '\\\n",
    "'and the laws of the civilian government which were in effect prior to the military coup d\\'état that saw the Barre regime into power remain '\\\n",
    "'in forced until the laws are amended. '\\\n",
    "'Economist Alex Tabarrok claimed that Somalia in its stateless period provided a \"unique test of the theory of anarchy\", in some aspects near of '\\\n",
    "'that espoused by anarcho-capitalists such as David D. Friedman and Murray Rothbard. Nonetheless, both anarchists and some anarcho-capitalists '\\\n",
    "'such as Walter Block argue that Somalia was not an anarchist society.'"
   ]
  },
  {
   "cell_type": "code",
   "execution_count": 12,
   "id": "12035ccc-547a-44d1-af25-5431009f7875",
   "metadata": {},
   "outputs": [
    {
     "name": "stdout",
     "output_type": "stream",
     "text": [
      "Following the outbreak of the civil war in Somalia and the ensuing collapse of the central government, residents reverted to local forms of conflict resolution, either secular, traditional or Islamic law, with a provision for appeal of all sentences. The legal structure in the country was divided along three lines, namely civil law, religious law and customary law (xeer). While Somalia's formal judicial system was largely destroyed after the fall of the Siad Barre regime, it was later gradually rebuilt and administered under different regional governments such as the autonomous Puntland and Somaliland macro-regions. In the case of the Transitional National Government and its successor the Transitional Federal Government, new interim judicial structures were formed through various international conferences. Despite some significant political differences between them, all of these administrations shared similar legal structures, much of which were predicated on the judicial systems of previous Somali administrations. These similarities in civil law included a charter which affirms the primacy of Muslim shari'a or religious law, although in practice shari'a is applied mainly to matters such as marriage, divorce, inheritance and civil issues. The charter assured the independence of the judiciary which in turn was protected by a judicial committee; a three-tier judicial system including a supreme court, a court of appeals and courts of first instance (either divided between district and regional courts, or a single court per region); and the laws of the civilian government which were in effect prior to the military coup d'état that saw the Barre regime into power remain in forced until the laws are amended. Economist Alex Tabarrok claimed that Somalia in its stateless period provided a \"unique test of the theory of anarchy\", in some aspects near of that espoused by anarcho-capitalists such as David D. Friedman and Murray Rothbard. Nonetheless, both anarchists and some anarcho-capitalists such as Walter Block argue that Somalia was not an anarchist society.\n",
      "\u001b[32mCluster 0 - Antecedent: Somalia - [8, 8]\u001b[0m\n",
      "\u001b[32mSomalia - [8, 8]\u001b[0m\n",
      "\u001b[32mcountry - [49, 49]\u001b[0m\n",
      "\u001b[32mSomalia - [70, 70]\u001b[0m\n",
      "\u001b[31mCluster 1 - Antecedent: macro - [105, 105]\u001b[0m\n",
      "\u001b[31mmacro - [105, 105]\u001b[0m\n",
      "\u001b[31mits - [118, 118]\u001b[0m\n",
      "\u001b[33mCluster 2 - Antecedent: structures - [128, 128]\u001b[0m\n",
      "\u001b[33mstructures - [128, 128]\u001b[0m\n",
      "\u001b[33mthem - [142, 142]\u001b[0m\n",
      "\u001b[34mCluster 3 - Antecedent: charter - [174, 174]\u001b[0m\n",
      "\u001b[34mcharter - [174, 174]\u001b[0m\n",
      "\u001b[34mcharter - [207, 207]\u001b[0m\n",
      "\u001b[35mCluster 4 - Antecedent: laws - [263, 263]\u001b[0m\n",
      "\u001b[35mlaws - [263, 263]\u001b[0m\n",
      "\u001b[35mlaws - [290, 290]\u001b[0m\n",
      "\u001b[36mCluster 5 - Antecedent: Somalia - [299, 299]\u001b[0m\n",
      "\u001b[36mSomalia - [299, 299]\u001b[0m\n",
      "\u001b[36mits - [301, 301]\u001b[0m\n",
      "\u001b[36mSomalia - [351, 351]\u001b[0m\n",
      "Elapsed Time: 282.18674659729004ms\n"
     ]
    }
   ],
   "source": [
    "predict_and_time(very_long_article, sm_nlp)"
   ]
  },
  {
   "cell_type": "markdown",
   "id": "8921eb2d-0a6b-4c95-b2ef-e1e9678c3a51",
   "metadata": {},
   "source": [
    "> Overall much faster than Allennlp, but there are some inconsistencies."
   ]
  },
  {
   "cell_type": "markdown",
   "id": "b968697e-23df-40e2-b37b-7b429ff9eea0",
   "metadata": {},
   "source": [
    "## Excerpt Tests (`trf_nlp`)"
   ]
  },
  {
   "cell_type": "code",
   "execution_count": 13,
   "id": "514cbbaf-eab3-4d40-978c-28b2f4589809",
   "metadata": {},
   "outputs": [
    {
     "name": "stdout",
     "output_type": "stream",
     "text": [
      "In practical terms, anarchy can refer to the curtailment or abolition of traditional forms of government and institutions. It can also designate a nation or any inhabited place that has no system of government or central rule. Anarchy is primarily advocated by individual anarchists who propose replacing government with voluntary institutions. These institutions or free associations are generally modeled on nature.\n",
      "\u001b[32mCluster 0 - Antecedent: anarchy - [4, 4]\u001b[0m\n",
      "\u001b[32manarchy - [4, 4]\u001b[0m\n",
      "\u001b[32mIt - [20, 20]\u001b[0m\n",
      "Elapsed Time: 125.84710121154785ms\n"
     ]
    }
   ],
   "source": [
    "predict_and_time(short_excerpt, trf_nlp)"
   ]
  },
  {
   "cell_type": "code",
   "execution_count": 14,
   "id": "4b2da44e-3bb1-4c12-88fb-b5ef44a34d72",
   "metadata": {},
   "outputs": [
    {
     "name": "stdout",
     "output_type": "stream",
     "text": [
      "Anarchy is a society without a government. It may also refer to a society or group of people that entirely rejects a set hierarchy. Anarchy was first used in English in 1539, meaning \"an absence of government\". Pierre-Joseph Proudhon adopted anarchy and anarchist in his 1840 treatise What Is Property? to refer to anarchism, a new political philosophy and social movement that advocates stateless societies based on free and voluntary associations. Anarchists seek a system based on the abolition of all coercive hierarchy, in particular the state, and many advocate for the creation of a system of direct democracy, worker cooperatives or privatization. In practical terms, anarchy can refer to the curtailment or abolition of traditional forms of government and institutions. It can also designate a nation or any inhabited place that has no system of government or central rule. Anarchy is primarily advocated by individual anarchists who propose replacing government with voluntary institutions. These institutions or free associations are generally modeled on nature since they can represent concepts such as community and economic self-reliance, interdependence, or individualism. Although anarchy is often negatively used as a synonym of chaos or societal collapse or anomie, this is not the meaning that anarchists attribute to anarchy, a society without hierarchies. Proudhon wrote that anarchy is \"Not the Daughter But the Mother of Order.\"\n",
      "\u001b[32mCluster 0 - Antecedent: Anarchy - [0, 0]\u001b[0m\n",
      "\u001b[32mAnarchy - [0, 0]\u001b[0m\n",
      "\u001b[32mIt - [8, 8]\u001b[0m\n",
      "\u001b[31mCluster 1 - Antecedent: Proudhon - [46, 46]\u001b[0m\n",
      "\u001b[31mProudhon - [46, 46]\u001b[0m\n",
      "\u001b[31mhis - [52, 52]\u001b[0m\n",
      "\u001b[33mCluster 2 - Antecedent: anarchy - [122, 122]\u001b[0m\n",
      "\u001b[33manarchy - [122, 122]\u001b[0m\n",
      "\u001b[33mIt - [138, 138]\u001b[0m\n",
      "\u001b[34mCluster 3 - Antecedent: institutions - [174, 174]\u001b[0m\n",
      "\u001b[34minstitutions - [174, 174]\u001b[0m\n",
      "\u001b[34mthey - [184, 184]\u001b[0m\n",
      "Elapsed Time: 769.7749137878418ms\n"
     ]
    }
   ],
   "source": [
    "predict_and_time(longer_article, trf_nlp)"
   ]
  },
  {
   "cell_type": "code",
   "execution_count": 15,
   "id": "d9afbfe2-0e66-4369-8cf2-73b9d6e6fbd0",
   "metadata": {},
   "outputs": [
    {
     "name": "stdout",
     "output_type": "stream",
     "text": [
      "Following the outbreak of the civil war in Somalia and the ensuing collapse of the central government, residents reverted to local forms of conflict resolution, either secular, traditional or Islamic law, with a provision for appeal of all sentences. The legal structure in the country was divided along three lines, namely civil law, religious law and customary law (xeer). While Somalia's formal judicial system was largely destroyed after the fall of the Siad Barre regime, it was later gradually rebuilt and administered under different regional governments such as the autonomous Puntland and Somaliland macro-regions. In the case of the Transitional National Government and its successor the Transitional Federal Government, new interim judicial structures were formed through various international conferences. Despite some significant political differences between them, all of these administrations shared similar legal structures, much of which were predicated on the judicial systems of previous Somali administrations. These similarities in civil law included a charter which affirms the primacy of Muslim shari'a or religious law, although in practice shari'a is applied mainly to matters such as marriage, divorce, inheritance and civil issues. The charter assured the independence of the judiciary which in turn was protected by a judicial committee; a three-tier judicial system including a supreme court, a court of appeals and courts of first instance (either divided between district and regional courts, or a single court per region); and the laws of the civilian government which were in effect prior to the military coup d'état that saw the Barre regime into power remain in forced until the laws are amended. Economist Alex Tabarrok claimed that Somalia in its stateless period provided a \"unique test of the theory of anarchy\", in some aspects near of that espoused by anarcho-capitalists such as David D. Friedman and Murray Rothbard. Nonetheless, both anarchists and some anarcho-capitalists such as Walter Block argue that Somalia was not an anarchist society.\n",
      "\u001b[32mCluster 0 - Antecedent: Somalia - [8, 8]\u001b[0m\n",
      "\u001b[32mSomalia - [8, 8]\u001b[0m\n",
      "\u001b[32mcountry - [49, 49]\u001b[0m\n",
      "\u001b[32mSomalia - [70, 70]\u001b[0m\n",
      "\u001b[31mCluster 1 - Antecedent: Somaliland - [104, 104]\u001b[0m\n",
      "\u001b[31mSomaliland - [104, 104]\u001b[0m\n",
      "\u001b[31mits - [118, 118]\u001b[0m\n",
      "\u001b[33mCluster 2 - Antecedent: structures - [128, 128]\u001b[0m\n",
      "\u001b[33mstructures - [128, 128]\u001b[0m\n",
      "\u001b[33mthem - [142, 142]\u001b[0m\n",
      "\u001b[34mCluster 3 - Antecedent: charter - [174, 174]\u001b[0m\n",
      "\u001b[34mcharter - [174, 174]\u001b[0m\n",
      "\u001b[34mcharter - [207, 207]\u001b[0m\n",
      "\u001b[35mCluster 4 - Antecedent: laws - [263, 263]\u001b[0m\n",
      "\u001b[35mlaws - [263, 263]\u001b[0m\n",
      "\u001b[35mlaws - [290, 290]\u001b[0m\n",
      "\u001b[36mCluster 5 - Antecedent: Somalia - [299, 299]\u001b[0m\n",
      "\u001b[36mSomalia - [299, 299]\u001b[0m\n",
      "\u001b[36mits - [301, 301]\u001b[0m\n",
      "\u001b[36mSomalia - [351, 351]\u001b[0m\n",
      "Elapsed Time: 1084.148645401001ms\n"
     ]
    }
   ],
   "source": [
    "predict_and_time(very_long_article, trf_nlp)"
   ]
  },
  {
   "cell_type": "markdown",
   "id": "7b964e5f-f0ff-4c33-8ec2-1309179a9f9b",
   "metadata": {},
   "source": [
    "> There are still some inaccuracies here, maybe even more than `sm_nlp`. However, coreferee only references the head. Get the whole subtree."
   ]
  },
  {
   "cell_type": "markdown",
   "id": "b584498d-53fd-4000-87d8-8c4d63806ddb",
   "metadata": {},
   "source": [
    "Taking an example from the long article above, using `charter [174, 174]`."
   ]
  },
  {
   "cell_type": "code",
   "execution_count": 16,
   "id": "d34a72b2-3f99-48c0-a7ef-e0606a1832a9",
   "metadata": {},
   "outputs": [],
   "source": [
    "prediction = sm_nlp(very_long_article)"
   ]
  },
  {
   "cell_type": "code",
   "execution_count": 17,
   "id": "248f526f-973c-4621-aed3-6f83cad5fa71",
   "metadata": {},
   "outputs": [
    {
     "data": {
      "text/plain": [
       "\"a charter which affirms the primacy of Muslim shari'a or religious law\""
      ]
     },
     "execution_count": 17,
     "metadata": {},
     "output_type": "execute_result"
    }
   ],
   "source": [
    "' '.join(map(str, prediction[174].subtree))"
   ]
  },
  {
   "cell_type": "markdown",
   "id": "d2470471-220a-4f1b-9d74-6255d8831294",
   "metadata": {},
   "source": [
    "Honestly seems like the small pipeline is more accurate."
   ]
  },
  {
   "cell_type": "markdown",
   "id": "6f4e2c82-a333-4a24-915a-1cd72358df08",
   "metadata": {},
   "source": [
    "## Utility Functions Revisited"
   ]
  },
  {
   "cell_type": "code",
   "execution_count": 18,
   "id": "bd4ed5f5-a361-4773-a1b4-afbb03ec02cb",
   "metadata": {},
   "outputs": [],
   "source": [
    "COLORS = ['green', 'red', 'yellow', 'blue', 'magenta', 'cyan']\n",
    "\n",
    "def get_color(index):\n",
    "    return COLORS[index % len(COLORS)]\n",
    "\n",
    "def cprint(text, color, newline=True):\n",
    "    print(colored(text, color), end='\\n' if newline else ' ')\n",
    "    \n",
    "def get_repr_from_mention(mention, prediction):\n",
    "    if len(mention) > 1:\n",
    "        return f'{prediction[mention[0]:mention[1] + 1]} - mention indices [{mention[0]}, {mention[1]}]'\n",
    "    else:\n",
    "        left = prediction[mention[0]].left_edge.i\n",
    "        right = prediction[mention[0]].right_edge.i\n",
    "        merged_phrase_subtree = str(prediction[left:right + 1])\n",
    "        return f'{merged_phrase_subtree} - mention indices [{mention[0]}, {mention[0]}] - subtree indices [{left}, {right}]'\n",
    "    \n",
    "def render_clusters(prediction):\n",
    "    corefs = prediction._.coref_chains\n",
    "    for i, cluster in enumerate(corefs):\n",
    "        antecedent = get_repr_from_mention(cluster[cluster.most_specific_mention_index], prediction)\n",
    "        cprint(f'Cluster {i} - {antecedent}', get_color(i))\n",
    "        for mention in cluster:\n",
    "            phrase = get_repr_from_mention(mention, prediction)\n",
    "            cprint(phrase, get_color(i))\n",
    "            \n",
    "def predict_and_time(document, pipeline):\n",
    "    start = time.time()\n",
    "    prediction = pipeline(document)\n",
    "    end = time.time()\n",
    "    print(document)\n",
    "    render_clusters(prediction)\n",
    "    print(f\"Elapsed Time: {(end - start) * 1000}ms\");"
   ]
  },
  {
   "cell_type": "markdown",
   "id": "f5b3f75d-470b-4aaf-9922-b107e9bc079b",
   "metadata": {},
   "source": [
    "## More Testing with Noun Phrases and `lg_nlp`"
   ]
  },
  {
   "cell_type": "code",
   "execution_count": 19,
   "id": "9f79f7e6-b050-4436-8dab-ea69c45509ed",
   "metadata": {},
   "outputs": [
    {
     "name": "stdout",
     "output_type": "stream",
     "text": [
      "Following the outbreak of the civil war in Somalia and the ensuing collapse of the central government, residents reverted to local forms of conflict resolution, either secular, traditional or Islamic law, with a provision for appeal of all sentences. The legal structure in the country was divided along three lines, namely civil law, religious law and customary law (xeer). While Somalia's formal judicial system was largely destroyed after the fall of the Siad Barre regime, it was later gradually rebuilt and administered under different regional governments such as the autonomous Puntland and Somaliland macro-regions. In the case of the Transitional National Government and its successor the Transitional Federal Government, new interim judicial structures were formed through various international conferences. Despite some significant political differences between them, all of these administrations shared similar legal structures, much of which were predicated on the judicial systems of previous Somali administrations. These similarities in civil law included a charter which affirms the primacy of Muslim shari'a or religious law, although in practice shari'a is applied mainly to matters such as marriage, divorce, inheritance and civil issues. The charter assured the independence of the judiciary which in turn was protected by a judicial committee; a three-tier judicial system including a supreme court, a court of appeals and courts of first instance (either divided between district and regional courts, or a single court per region); and the laws of the civilian government which were in effect prior to the military coup d'état that saw the Barre regime into power remain in forced until the laws are amended. Economist Alex Tabarrok claimed that Somalia in its stateless period provided a \"unique test of the theory of anarchy\", in some aspects near of that espoused by anarcho-capitalists such as David D. Friedman and Murray Rothbard. Nonetheless, both anarchists and some anarcho-capitalists such as Walter Block argue that Somalia was not an anarchist society.\n",
      "\u001b[32mCluster 0 - Somalia - mention indices [8, 8] - subtree indices [8, 8]\u001b[0m\n",
      "\u001b[32mSomalia - mention indices [8, 8] - subtree indices [8, 8]\u001b[0m\n",
      "\u001b[32mthe country - mention indices [49, 49] - subtree indices [48, 49]\u001b[0m\n",
      "\u001b[32mSomalia's - mention indices [70, 70] - subtree indices [70, 71]\u001b[0m\n",
      "\u001b[31mCluster 1 - the autonomous Puntland and Somaliland macro - mention indices [105, 105] - subtree indices [100, 105]\u001b[0m\n",
      "\u001b[31mthe autonomous Puntland and Somaliland macro - mention indices [105, 105] - subtree indices [100, 105]\u001b[0m\n",
      "\u001b[31mits - mention indices [118, 118] - subtree indices [118, 118]\u001b[0m\n",
      "\u001b[33mCluster 2 - various international conferences - mention indices [134, 134] - subtree indices [132, 134]\u001b[0m\n",
      "\u001b[33mvarious international conferences - mention indices [134, 134] - subtree indices [132, 134]\u001b[0m\n",
      "\u001b[33mthem - mention indices [142, 142] - subtree indices [142, 142]\u001b[0m\n",
      "\u001b[34mCluster 3 - a charter which affirms the primacy of Muslim shari'a or religious law - mention indices [174, 174] - subtree indices [173, 184]\u001b[0m\n",
      "\u001b[34ma charter which affirms the primacy of Muslim shari'a or religious law - mention indices [174, 174] - subtree indices [173, 184]\u001b[0m\n",
      "\u001b[34mThe charter - mention indices [207, 207] - subtree indices [206, 207]\u001b[0m\n",
      "\u001b[35mCluster 4 - the laws of the civilian government which were in effect prior to the military coup d'état that saw the Barre regime into power - mention indices [263, 263] - subtree indices [262, 284]\u001b[0m\n",
      "\u001b[35mthe laws of the civilian government which were in effect prior to the military coup d'état that saw the Barre regime into power - mention indices [263, 263] - subtree indices [262, 284]\u001b[0m\n",
      "\u001b[35mthe laws - mention indices [290, 290] - subtree indices [289, 290]\u001b[0m\n",
      "\u001b[36mCluster 5 - Somalia in its stateless period - mention indices [299, 299] - subtree indices [299, 303]\u001b[0m\n",
      "\u001b[36mSomalia in its stateless period - mention indices [299, 299] - subtree indices [299, 303]\u001b[0m\n",
      "\u001b[36mits - mention indices [301, 301] - subtree indices [301, 301]\u001b[0m\n",
      "\u001b[36mSomalia - mention indices [351, 351] - subtree indices [351, 351]\u001b[0m\n",
      "Elapsed Time: 297.99485206604004ms\n"
     ]
    }
   ],
   "source": [
    "predict_and_time(very_long_article, lg_nlp)"
   ]
  },
  {
   "cell_type": "code",
   "execution_count": 20,
   "id": "2403dab0-c695-40f1-bb16-0e1417f16b90",
   "metadata": {},
   "outputs": [
    {
     "name": "stdout",
     "output_type": "stream",
     "text": [
      "Following the outbreak of the civil war in Somalia and the ensuing collapse of the central government, residents reverted to local forms of conflict resolution, either secular, traditional or Islamic law, with a provision for appeal of all sentences. The legal structure in the country was divided along three lines, namely civil law, religious law and customary law (xeer). While Somalia's formal judicial system was largely destroyed after the fall of the Siad Barre regime, it was later gradually rebuilt and administered under different regional governments such as the autonomous Puntland and Somaliland macro-regions. In the case of the Transitional National Government and its successor the Transitional Federal Government, new interim judicial structures were formed through various international conferences. Despite some significant political differences between them, all of these administrations shared similar legal structures, much of which were predicated on the judicial systems of previous Somali administrations. These similarities in civil law included a charter which affirms the primacy of Muslim shari'a or religious law, although in practice shari'a is applied mainly to matters such as marriage, divorce, inheritance and civil issues. The charter assured the independence of the judiciary which in turn was protected by a judicial committee; a three-tier judicial system including a supreme court, a court of appeals and courts of first instance (either divided between district and regional courts, or a single court per region); and the laws of the civilian government which were in effect prior to the military coup d'état that saw the Barre regime into power remain in forced until the laws are amended. Economist Alex Tabarrok claimed that Somalia in its stateless period provided a \"unique test of the theory of anarchy\", in some aspects near of that espoused by anarcho-capitalists such as David D. Friedman and Murray Rothbard. Nonetheless, both anarchists and some anarcho-capitalists such as Walter Block argue that Somalia was not an anarchist society.\n",
      "\u001b[32mCluster 0 - Somalia and - mention indices [8, 8] - subtree indices [8, 9]\u001b[0m\n",
      "\u001b[32mSomalia and - mention indices [8, 8] - subtree indices [8, 9]\u001b[0m\n",
      "\u001b[32mthe country - mention indices [49, 49] - subtree indices [48, 49]\u001b[0m\n",
      "\u001b[32mSomalia's - mention indices [70, 70] - subtree indices [70, 71]\u001b[0m\n",
      "\u001b[31mCluster 1 - the autonomous Puntland and Somaliland macro - mention indices [105, 105] - subtree indices [100, 105]\u001b[0m\n",
      "\u001b[31mthe autonomous Puntland and Somaliland macro - mention indices [105, 105] - subtree indices [100, 105]\u001b[0m\n",
      "\u001b[31mits - mention indices [118, 118] - subtree indices [118, 118]\u001b[0m\n",
      "\u001b[33mCluster 2 - new interim judicial structures - mention indices [128, 128] - subtree indices [125, 128]\u001b[0m\n",
      "\u001b[33mnew interim judicial structures - mention indices [128, 128] - subtree indices [125, 128]\u001b[0m\n",
      "\u001b[33mthem - mention indices [142, 142] - subtree indices [142, 142]\u001b[0m\n",
      "\u001b[34mCluster 3 - a charter which affirms the primacy of Muslim shari'a or religious law - mention indices [174, 174] - subtree indices [173, 184]\u001b[0m\n",
      "\u001b[34ma charter which affirms the primacy of Muslim shari'a or religious law - mention indices [174, 174] - subtree indices [173, 184]\u001b[0m\n",
      "\u001b[34mThe charter - mention indices [207, 207] - subtree indices [206, 207]\u001b[0m\n",
      "\u001b[35mCluster 4 - the laws of the civilian government which were in effect prior to the military coup d'état that saw the Barre regime into power remain in forced until the laws are amended - mention indices [263, 263] - subtree indices [262, 292]\u001b[0m\n",
      "\u001b[35mthe laws of the civilian government which were in effect prior to the military coup d'état that saw the Barre regime into power remain in forced until the laws are amended - mention indices [263, 263] - subtree indices [262, 292]\u001b[0m\n",
      "\u001b[35mthe laws - mention indices [290, 290] - subtree indices [289, 290]\u001b[0m\n",
      "\u001b[36mCluster 5 - Somalia in its stateless period - mention indices [299, 299] - subtree indices [299, 303]\u001b[0m\n",
      "\u001b[36mSomalia in its stateless period - mention indices [299, 299] - subtree indices [299, 303]\u001b[0m\n",
      "\u001b[36mits - mention indices [301, 301] - subtree indices [301, 301]\u001b[0m\n",
      "\u001b[36mSomalia - mention indices [351, 351] - subtree indices [351, 351]\u001b[0m\n",
      "Elapsed Time: 267.09437370300293ms\n"
     ]
    }
   ],
   "source": [
    "predict_and_time(very_long_article, sm_nlp)"
   ]
  },
  {
   "cell_type": "markdown",
   "id": "53d36c84-8747-4c60-9caa-3e7aaa0d61d4",
   "metadata": {},
   "source": [
    "The large and small pipelines are comparable in speed, but the large pipeline is more accurate with the dependency parser, while the small pipeline found the coreferences better."
   ]
  },
  {
   "cell_type": "markdown",
   "id": "9ab383c9-519b-4544-bc98-c9322e57f34a",
   "metadata": {},
   "source": [
    "## Continued Testing with `lg_nlp`"
   ]
  },
  {
   "cell_type": "code",
   "execution_count": 21,
   "id": "b8eccde4-7f40-46a4-bef3-424ecdc7d3d1",
   "metadata": {},
   "outputs": [
    {
     "name": "stdout",
     "output_type": "stream",
     "text": [
      "In practical terms, anarchy can refer to the curtailment or abolition of traditional forms of government and institutions. It can also designate a nation or any inhabited place that has no system of government or central rule. Anarchy is primarily advocated by individual anarchists who propose replacing government with voluntary institutions. These institutions or free associations are generally modeled on nature.\n",
      "\u001b[32mCluster 0 - anarchy - mention indices [4, 4] - subtree indices [4, 4]\u001b[0m\n",
      "\u001b[32manarchy - mention indices [4, 4] - subtree indices [4, 4]\u001b[0m\n",
      "\u001b[32mIt - mention indices [20, 20] - subtree indices [20, 20]\u001b[0m\n",
      "Elapsed Time: 31.37993812561035ms\n"
     ]
    }
   ],
   "source": [
    "predict_and_time(short_excerpt, lg_nlp)"
   ]
  },
  {
   "cell_type": "code",
   "execution_count": 22,
   "id": "72233a82-72da-463e-8909-e58fc6138aa5",
   "metadata": {},
   "outputs": [
    {
     "name": "stdout",
     "output_type": "stream",
     "text": [
      "Anarchy is a society without a government. It may also refer to a society or group of people that entirely rejects a set hierarchy. Anarchy was first used in English in 1539, meaning \"an absence of government\". Pierre-Joseph Proudhon adopted anarchy and anarchist in his 1840 treatise What Is Property? to refer to anarchism, a new political philosophy and social movement that advocates stateless societies based on free and voluntary associations. Anarchists seek a system based on the abolition of all coercive hierarchy, in particular the state, and many advocate for the creation of a system of direct democracy, worker cooperatives or privatization. In practical terms, anarchy can refer to the curtailment or abolition of traditional forms of government and institutions. It can also designate a nation or any inhabited place that has no system of government or central rule. Anarchy is primarily advocated by individual anarchists who propose replacing government with voluntary institutions. These institutions or free associations are generally modeled on nature since they can represent concepts such as community and economic self-reliance, interdependence, or individualism. Although anarchy is often negatively used as a synonym of chaos or societal collapse or anomie, this is not the meaning that anarchists attribute to anarchy, a society without hierarchies. Proudhon wrote that anarchy is \"Not the Daughter But the Mother of Order.\"\n",
      "\u001b[32mCluster 0 - Anarchy - mention indices [0, 0] - subtree indices [0, 0]\u001b[0m\n",
      "\u001b[32mAnarchy - mention indices [0, 0] - subtree indices [0, 0]\u001b[0m\n",
      "\u001b[32mIt - mention indices [8, 8] - subtree indices [8, 8]\u001b[0m\n",
      "\u001b[31mCluster 1 - Pierre-Joseph Proudhon - mention indices [46, 46] - subtree indices [43, 46]\u001b[0m\n",
      "\u001b[31mPierre-Joseph Proudhon - mention indices [46, 46] - subtree indices [43, 46]\u001b[0m\n",
      "\u001b[31mhis - mention indices [52, 52] - subtree indices [52, 52]\u001b[0m\n",
      "\u001b[33mCluster 2 - anarchy - mention indices [122, 122] - subtree indices [122, 122]\u001b[0m\n",
      "\u001b[33manarchy - mention indices [122, 122] - subtree indices [122, 122]\u001b[0m\n",
      "\u001b[33mIt - mention indices [138, 138] - subtree indices [138, 138]\u001b[0m\n",
      "\u001b[34mCluster 3 - institutions or free associations - mention indices [174, 177]\u001b[0m\n",
      "\u001b[34minstitutions or free associations - mention indices [174, 177]\u001b[0m\n",
      "\u001b[34mthey - mention indices [184, 184] - subtree indices [184, 184]\u001b[0m\n",
      "Elapsed Time: 156.16774559020996ms\n"
     ]
    }
   ],
   "source": [
    "predict_and_time(longer_article, lg_nlp)"
   ]
  },
  {
   "cell_type": "markdown",
   "id": "5c3895af-c46d-43f8-a015-b97f93c68a2b",
   "metadata": {},
   "source": [
    "## Some other testing with different abstracts"
   ]
  },
  {
   "cell_type": "code",
   "execution_count": 23,
   "id": "a3237337-03e3-4fd0-989a-b3d967880c22",
   "metadata": {},
   "outputs": [],
   "source": [
    "angelfish_article = \"The queen angelfish, also known as the blue angelfish, \"\\\n",
    "\"golden angelfish, or yellow angelfish, is a species of marine angelfish found in the western Atlantic Ocean. \"\\\n",
    "\"It is a benthic warm-water species that lives in coral reefs. \"\\\n",
    "\"It is recognized by its blue and yellow coloration and a distinctive spot or 'crown' on its forehead. \"\\\n",
    "\"This crown distinguishes it from the closely related and similar-looking Bermuda \"\\\n",
    "\"blue angelfish, with which it overlaps in range and can interbreed. \"\\\n",
    "\"Adult queen angelfish are selective feeders and primarily eat sponges. Their social structure consists \"\\\n",
    "\"of harems which include one male and up to four females. \"\\\n",
    "\"They live within a territory where the females forage separately and are tended to by the male. \"\\\n",
    "\"Breeding in the species occurs near a full moon. The transparent eggs float in the water until they hatch. \"\\\n",
    "\"Juveniles of the species have different coloration than adults and act as cleaner fish.\"\\\n",
    "\"Adult queen angelfish are selective feeders and primarily eat sponges. \"\\\n",
    "\"Their social structure consists of harems which include one male and up to four females. \"\\\n",
    "\"They live within a territory where the females forage separately and are tended to by the male. \"\\\n",
    "\"Breeding in the species occurs near a full moon. The transparent eggs float in the water until they hatch. \"\\\n",
    "\"Juveniles of the species have different coloration than adults and act as cleaner fish. \"\\\n",
    "\"The queen angelfish is popular in the aquarium trade and has been a particularly common exported \"\\\n",
    "\"species from Brazil. In 2010, the queen angelfish was assessed as least concern by the International \"\\\n",
    "\"Union for Conservation of Nature as the wild population appeared to be stable.\" "
   ]
  },
  {
   "cell_type": "markdown",
   "id": "9a89dadd-d935-41cb-9026-9de113be19e1",
   "metadata": {},
   "source": [
    "### Large"
   ]
  },
  {
   "cell_type": "code",
   "execution_count": 24,
   "id": "f5f50b03-9771-47d8-b2ff-7a018097574c",
   "metadata": {},
   "outputs": [
    {
     "name": "stdout",
     "output_type": "stream",
     "text": [
      "The queen angelfish, also known as the blue angelfish, golden angelfish, or yellow angelfish, is a species of marine angelfish found in the western Atlantic Ocean. It is a benthic warm-water species that lives in coral reefs. It is recognized by its blue and yellow coloration and a distinctive spot or 'crown' on its forehead. This crown distinguishes it from the closely related and similar-looking Bermuda blue angelfish, with which it overlaps in range and can interbreed. Adult queen angelfish are selective feeders and primarily eat sponges. Their social structure consists of harems which include one male and up to four females. They live within a territory where the females forage separately and are tended to by the male. Breeding in the species occurs near a full moon. The transparent eggs float in the water until they hatch. Juveniles of the species have different coloration than adults and act as cleaner fish.Adult queen angelfish are selective feeders and primarily eat sponges. Their social structure consists of harems which include one male and up to four females. They live within a territory where the females forage separately and are tended to by the male. Breeding in the species occurs near a full moon. The transparent eggs float in the water until they hatch. Juveniles of the species have different coloration than adults and act as cleaner fish. The queen angelfish is popular in the aquarium trade and has been a particularly common exported species from Brazil. In 2010, the queen angelfish was assessed as least concern by the International Union for Conservation of Nature as the wild population appeared to be stable.\n",
      "\u001b[32mCluster 0 - marine angelfish found in the western Atlantic Ocean - mention indices [23, 23] - subtree indices [22, 29]\u001b[0m\n",
      "\u001b[32mmarine angelfish found in the western Atlantic Ocean - mention indices [23, 23] - subtree indices [22, 29]\u001b[0m\n",
      "\u001b[32mIt - mention indices [45, 45] - subtree indices [45, 45]\u001b[0m\n",
      "\u001b[32mits - mention indices [49, 49] - subtree indices [49, 49]\u001b[0m\n",
      "\u001b[32mits - mention indices [63, 63] - subtree indices [63, 63]\u001b[0m\n",
      "\u001b[32mit - mention indices [69, 69] - subtree indices [69, 69]\u001b[0m\n",
      "\u001b[32mit - mention indices [84, 84] - subtree indices [84, 84]\u001b[0m\n",
      "\u001b[31mCluster 1 - sponges - mention indices [101, 101] - subtree indices [101, 101]\u001b[0m\n",
      "\u001b[31msponges - mention indices [101, 101] - subtree indices [101, 101]\u001b[0m\n",
      "\u001b[31mTheir - mention indices [103, 103] - subtree indices [103, 103]\u001b[0m\n",
      "\u001b[31mThey - mention indices [119, 119] - subtree indices [119, 119]\u001b[0m\n",
      "\u001b[33mCluster 2 - the species - mention indices [140, 140] - subtree indices [139, 140]\u001b[0m\n",
      "\u001b[33mthe species - mention indices [140, 140] - subtree indices [139, 140]\u001b[0m\n",
      "\u001b[33mthe species - mention indices [161, 161] - subtree indices [160, 161]\u001b[0m\n",
      "\u001b[34mCluster 3 - The transparent eggs - mention indices [149, 149] - subtree indices [147, 149]\u001b[0m\n",
      "\u001b[34mThe transparent eggs - mention indices [149, 149] - subtree indices [147, 149]\u001b[0m\n",
      "\u001b[34mthey - mention indices [155, 155] - subtree indices [155, 155]\u001b[0m\n",
      "\u001b[35mCluster 4 - sponges - mention indices [182, 182] - subtree indices [182, 182]\u001b[0m\n",
      "\u001b[35msponges - mention indices [182, 182] - subtree indices [182, 182]\u001b[0m\n",
      "\u001b[35mTheir - mention indices [184, 184] - subtree indices [184, 184]\u001b[0m\n",
      "\u001b[35mThey - mention indices [200, 200] - subtree indices [200, 200]\u001b[0m\n",
      "\u001b[36mCluster 5 - the species - mention indices [221, 221] - subtree indices [220, 221]\u001b[0m\n",
      "\u001b[36mthe species - mention indices [221, 221] - subtree indices [220, 221]\u001b[0m\n",
      "\u001b[36mthe species - mention indices [242, 242] - subtree indices [241, 242]\u001b[0m\n",
      "\u001b[32mCluster 6 - The transparent eggs - mention indices [230, 230] - subtree indices [228, 230]\u001b[0m\n",
      "\u001b[32mThe transparent eggs - mention indices [230, 230] - subtree indices [228, 230]\u001b[0m\n",
      "\u001b[32mthey - mention indices [236, 236] - subtree indices [236, 236]\u001b[0m\n",
      "Elapsed Time: 188.25149536132812ms\n"
     ]
    }
   ],
   "source": [
    "predict_and_time(angelfish_article, lg_nlp)"
   ]
  },
  {
   "cell_type": "markdown",
   "id": "66cf7b75-53e7-44be-8514-721655daf765",
   "metadata": {},
   "source": [
    "### Small"
   ]
  },
  {
   "cell_type": "code",
   "execution_count": 25,
   "id": "fd765f94-cd4c-47b1-8c61-328608681212",
   "metadata": {},
   "outputs": [
    {
     "name": "stdout",
     "output_type": "stream",
     "text": [
      "The queen angelfish, also known as the blue angelfish, golden angelfish, or yellow angelfish, is a species of marine angelfish found in the western Atlantic Ocean. It is a benthic warm-water species that lives in coral reefs. It is recognized by its blue and yellow coloration and a distinctive spot or 'crown' on its forehead. This crown distinguishes it from the closely related and similar-looking Bermuda blue angelfish, with which it overlaps in range and can interbreed. Adult queen angelfish are selective feeders and primarily eat sponges. Their social structure consists of harems which include one male and up to four females. They live within a territory where the females forage separately and are tended to by the male. Breeding in the species occurs near a full moon. The transparent eggs float in the water until they hatch. Juveniles of the species have different coloration than adults and act as cleaner fish.Adult queen angelfish are selective feeders and primarily eat sponges. Their social structure consists of harems which include one male and up to four females. They live within a territory where the females forage separately and are tended to by the male. Breeding in the species occurs near a full moon. The transparent eggs float in the water until they hatch. Juveniles of the species have different coloration than adults and act as cleaner fish. The queen angelfish is popular in the aquarium trade and has been a particularly common exported species from Brazil. In 2010, the queen angelfish was assessed as least concern by the International Union for Conservation of Nature as the wild population appeared to be stable.\n",
      "\u001b[32mCluster 0 - The queen angelfish, also known as the blue angelfish, golden angelfish, or yellow angelfish, - mention indices [2, 2] - subtree indices [0, 17]\u001b[0m\n",
      "\u001b[32mThe queen angelfish, also known as the blue angelfish, golden angelfish, or yellow angelfish, - mention indices [2, 2] - subtree indices [0, 17]\u001b[0m\n",
      "\u001b[32mIt - mention indices [45, 45] - subtree indices [45, 45]\u001b[0m\n",
      "\u001b[32mits - mention indices [49, 49] - subtree indices [49, 49]\u001b[0m\n",
      "\u001b[32mits - mention indices [63, 63] - subtree indices [63, 63]\u001b[0m\n",
      "\u001b[32mit - mention indices [69, 69] - subtree indices [69, 69]\u001b[0m\n",
      "\u001b[32mit - mention indices [84, 84] - subtree indices [84, 84]\u001b[0m\n",
      "\u001b[31mCluster 1 - sponges - mention indices [101, 101] - subtree indices [101, 101]\u001b[0m\n",
      "\u001b[31msponges - mention indices [101, 101] - subtree indices [101, 101]\u001b[0m\n",
      "\u001b[31mTheir - mention indices [103, 103] - subtree indices [103, 103]\u001b[0m\n",
      "\u001b[31mThey - mention indices [119, 119] - subtree indices [119, 119]\u001b[0m\n",
      "\u001b[33mCluster 2 - the species - mention indices [140, 140] - subtree indices [139, 140]\u001b[0m\n",
      "\u001b[33mthe species - mention indices [140, 140] - subtree indices [139, 140]\u001b[0m\n",
      "\u001b[33mthe species - mention indices [161, 161] - subtree indices [160, 161]\u001b[0m\n",
      "\u001b[34mCluster 3 - The transparent eggs - mention indices [149, 149] - subtree indices [147, 149]\u001b[0m\n",
      "\u001b[34mThe transparent eggs - mention indices [149, 149] - subtree indices [147, 149]\u001b[0m\n",
      "\u001b[34mthey - mention indices [155, 155] - subtree indices [155, 155]\u001b[0m\n",
      "\u001b[35mCluster 4 - sponges - mention indices [182, 182] - subtree indices [182, 182]\u001b[0m\n",
      "\u001b[35msponges - mention indices [182, 182] - subtree indices [182, 182]\u001b[0m\n",
      "\u001b[35mTheir - mention indices [184, 184] - subtree indices [184, 184]\u001b[0m\n",
      "\u001b[35mThey - mention indices [200, 200] - subtree indices [200, 200]\u001b[0m\n",
      "\u001b[36mCluster 5 - the species - mention indices [221, 221] - subtree indices [220, 221]\u001b[0m\n",
      "\u001b[36mthe species - mention indices [221, 221] - subtree indices [220, 221]\u001b[0m\n",
      "\u001b[36mthe species - mention indices [242, 242] - subtree indices [241, 242]\u001b[0m\n",
      "\u001b[32mCluster 6 - The transparent eggs - mention indices [230, 230] - subtree indices [228, 230]\u001b[0m\n",
      "\u001b[32mThe transparent eggs - mention indices [230, 230] - subtree indices [228, 230]\u001b[0m\n",
      "\u001b[32mthey - mention indices [236, 236] - subtree indices [236, 236]\u001b[0m\n",
      "Elapsed Time: 201.51686668395996ms\n"
     ]
    }
   ],
   "source": [
    "predict_and_time(angelfish_article, sm_nlp)"
   ]
  },
  {
   "cell_type": "markdown",
   "id": "901b6cb9-2e84-4dd7-89db-e3754ac54401",
   "metadata": {},
   "source": [
    "### Trf"
   ]
  },
  {
   "cell_type": "code",
   "execution_count": 26,
   "id": "f59348a4-a6c8-4633-9b7f-779c665c8e13",
   "metadata": {},
   "outputs": [
    {
     "name": "stdout",
     "output_type": "stream",
     "text": [
      "The queen angelfish, also known as the blue angelfish, golden angelfish, or yellow angelfish, is a species of marine angelfish found in the western Atlantic Ocean. It is a benthic warm-water species that lives in coral reefs. It is recognized by its blue and yellow coloration and a distinctive spot or 'crown' on its forehead. This crown distinguishes it from the closely related and similar-looking Bermuda blue angelfish, with which it overlaps in range and can interbreed. Adult queen angelfish are selective feeders and primarily eat sponges. Their social structure consists of harems which include one male and up to four females. They live within a territory where the females forage separately and are tended to by the male. Breeding in the species occurs near a full moon. The transparent eggs float in the water until they hatch. Juveniles of the species have different coloration than adults and act as cleaner fish.Adult queen angelfish are selective feeders and primarily eat sponges. Their social structure consists of harems which include one male and up to four females. They live within a territory where the females forage separately and are tended to by the male. Breeding in the species occurs near a full moon. The transparent eggs float in the water until they hatch. Juveniles of the species have different coloration than adults and act as cleaner fish. The queen angelfish is popular in the aquarium trade and has been a particularly common exported species from Brazil. In 2010, the queen angelfish was assessed as least concern by the International Union for Conservation of Nature as the wild population appeared to be stable.\n",
      "\u001b[32mCluster 0 - a benthic warm-water species that lives in coral reefs - mention indices [38, 38] - subtree indices [33, 43]\u001b[0m\n",
      "\u001b[32ma benthic warm-water species that lives in coral reefs - mention indices [38, 38] - subtree indices [33, 43]\u001b[0m\n",
      "\u001b[32mIt - mention indices [45, 45] - subtree indices [45, 45]\u001b[0m\n",
      "\u001b[32mits - mention indices [49, 49] - subtree indices [49, 49]\u001b[0m\n",
      "\u001b[32mits - mention indices [63, 63] - subtree indices [63, 63]\u001b[0m\n",
      "\u001b[32mit - mention indices [69, 69] - subtree indices [69, 69]\u001b[0m\n",
      "\u001b[32mit - mention indices [84, 84] - subtree indices [84, 84]\u001b[0m\n",
      "\u001b[31mCluster 1 - sponges - mention indices [101, 101] - subtree indices [101, 101]\u001b[0m\n",
      "\u001b[31msponges - mention indices [101, 101] - subtree indices [101, 101]\u001b[0m\n",
      "\u001b[31mTheir - mention indices [103, 103] - subtree indices [103, 103]\u001b[0m\n",
      "\u001b[31mThey - mention indices [119, 119] - subtree indices [119, 119]\u001b[0m\n",
      "\u001b[33mCluster 2 - The transparent eggs - mention indices [149, 149] - subtree indices [147, 149]\u001b[0m\n",
      "\u001b[33mThe transparent eggs - mention indices [149, 149] - subtree indices [147, 149]\u001b[0m\n",
      "\u001b[33mthey - mention indices [155, 155] - subtree indices [155, 155]\u001b[0m\n",
      "\u001b[34mCluster 3 - Adult queen angelfish - mention indices [175, 175] - subtree indices [173, 175]\u001b[0m\n",
      "\u001b[34mAdult queen angelfish - mention indices [175, 175] - subtree indices [173, 175]\u001b[0m\n",
      "\u001b[34mTheir - mention indices [184, 184] - subtree indices [184, 184]\u001b[0m\n",
      "\u001b[34mThey - mention indices [200, 200] - subtree indices [200, 200]\u001b[0m\n",
      "\u001b[35mCluster 4 - The transparent eggs - mention indices [230, 230] - subtree indices [228, 230]\u001b[0m\n",
      "\u001b[35mThe transparent eggs - mention indices [230, 230] - subtree indices [228, 230]\u001b[0m\n",
      "\u001b[35mthey - mention indices [236, 236] - subtree indices [236, 236]\u001b[0m\n",
      "Elapsed Time: 879.3461322784424ms\n"
     ]
    }
   ],
   "source": [
    "predict_and_time(angelfish_article, trf_nlp)"
   ]
  },
  {
   "cell_type": "markdown",
   "id": "fc563967-0add-4f9f-b08f-19b5173eb137",
   "metadata": {},
   "source": [
    "## Longer Article Test"
   ]
  },
  {
   "cell_type": "code",
   "execution_count": 27,
   "id": "891ee9c7-2991-400e-afad-51f74aa3723a",
   "metadata": {},
   "outputs": [],
   "source": [
    "angelfish_article = \"The queen angelfish, also known as the blue angelfish, \"\\\n",
    "\"golden angelfish, or yellow angelfish, is a species of marine angelfish found in the western Atlantic Ocean. \"\\\n",
    "\"It is a benthic warm-water species that lives in coral reefs. \"\\\n",
    "\"It is recognized by its blue and yellow coloration and a distinctive spot or 'crown' on its forehead. \"\\\n",
    "\"This crown distinguishes it from the closely related and similar-looking Bermuda \"\\\n",
    "\"blue angelfish, with which it overlaps in range and can interbreed. \"\\\n",
    "\"Adult queen angelfish are selective feeders and primarily eat sponges. Their social structure consists \"\\\n",
    "\"of harems which include one male and up to four females. \"\\\n",
    "\"They live within a territory where the females forage separately and are tended to by the male. \"\\\n",
    "\"Breeding in the species occurs near a full moon. The transparent eggs float in the water until they hatch. \"\\\n",
    "\"Juveniles of the species have different coloration than adults and act as cleaner fish.\"\\\n",
    "\"Adult queen angelfish are selective feeders and primarily eat sponges. \"\\\n",
    "\"Their social structure consists of harems which include one male and up to four females. \"\\\n",
    "\"They live within a territory where the females forage separately and are tended to by the male. \"\\\n",
    "\"Breeding in the species occurs near a full moon. The transparent eggs float in the water until they hatch. \"\\\n",
    "\"Juveniles of the species have different coloration than adults and act as cleaner fish. \"\\\n",
    "\"The queen angelfish is popular in the aquarium trade and has been a particularly common exported \"\\\n",
    "\"species from Brazil. In 2010, the queen angelfish was assessed as least concern by the International \"\\\n",
    "\"Union for Conservation of Nature as the wild population appeared to be stable. \" \\\n",
    "\"The queen angelfish was first described as Chaetodon ciliaris in 1758 by Carl Linnaeus in the 10th edition \"\\\n",
    "\"of his Systema Naturae, with the type locality given as the 'Western Atlantic/Caribbean'. \"\\\n",
    "\"In 1802 it was moved by French naturalist Bernard Germain de Lacépède to the genus Holacanthus, \"\\\n",
    "\"the name of which is derived from the Ancient Greek words 'holos' and 'akantha'. \"\\\n",
    "\"Its specific name ciliaris means 'fringed', a reference to its squamis ciliatis. \"\\\n",
    "\"Other common names for the species include 'blue angelfish', 'golden angelfish' and 'yellow angelfish'. \"\\\n",
    "\"Marine angelfish of the genus Holacanthus likely emerged between 10.2 and 7.6 million years ago. \"\\\n",
    "\"The most basal species is the Guinean angelfish off the coast of West Africa, \"\\\n",
    "\"indicating that the lineage colonized the Atlantic from the Indian Ocean. \"\\\n",
    "\"The closure of the Isthmus of Panama 3.5–3.1 mya led to the splitting off of the Tropical Eastern \"\\\n",
    "\"Pacific species. The closest relative and sister species of the queen angelfish is the sympatric \"\\\n",
    "\"and similar Bermuda blue angelfish, from which it split around 1.5 mya. \"\\\n",
    "\"They are known to interbreed, producing a hybrid known as the Townsend angelfish which has \"\\\n",
    "\"features similar to both parent species. The Townsend angelfish is fertile, and individuals \"\\\n",
    "\"can breed both with each other and with the two parent species.\""
   ]
  },
  {
   "cell_type": "code",
   "execution_count": 28,
   "id": "e8102413-4188-4964-8fdd-c8b23a2dfaa8",
   "metadata": {},
   "outputs": [
    {
     "name": "stdout",
     "output_type": "stream",
     "text": [
      "The queen angelfish, also known as the blue angelfish, golden angelfish, or yellow angelfish, is a species of marine angelfish found in the western Atlantic Ocean. It is a benthic warm-water species that lives in coral reefs. It is recognized by its blue and yellow coloration and a distinctive spot or 'crown' on its forehead. This crown distinguishes it from the closely related and similar-looking Bermuda blue angelfish, with which it overlaps in range and can interbreed. Adult queen angelfish are selective feeders and primarily eat sponges. Their social structure consists of harems which include one male and up to four females. They live within a territory where the females forage separately and are tended to by the male. Breeding in the species occurs near a full moon. The transparent eggs float in the water until they hatch. Juveniles of the species have different coloration than adults and act as cleaner fish.Adult queen angelfish are selective feeders and primarily eat sponges. Their social structure consists of harems which include one male and up to four females. They live within a territory where the females forage separately and are tended to by the male. Breeding in the species occurs near a full moon. The transparent eggs float in the water until they hatch. Juveniles of the species have different coloration than adults and act as cleaner fish. The queen angelfish is popular in the aquarium trade and has been a particularly common exported species from Brazil. In 2010, the queen angelfish was assessed as least concern by the International Union for Conservation of Nature as the wild population appeared to be stable. The queen angelfish was first described as Chaetodon ciliaris in 1758 by Carl Linnaeus in the 10th edition of his Systema Naturae, with the type locality given as the 'Western Atlantic/Caribbean'. In 1802 it was moved by French naturalist Bernard Germain de Lacépède to the genus Holacanthus, the name of which is derived from the Ancient Greek words 'holos' and 'akantha'. Its specific name ciliaris means 'fringed', a reference to its squamis ciliatis. Other common names for the species include 'blue angelfish', 'golden angelfish' and 'yellow angelfish'. Marine angelfish of the genus Holacanthus likely emerged between 10.2 and 7.6 million years ago. The most basal species is the Guinean angelfish off the coast of West Africa, indicating that the lineage colonized the Atlantic from the Indian Ocean. The closure of the Isthmus of Panama 3.5–3.1 mya led to the splitting off of the Tropical Eastern Pacific species. The closest relative and sister species of the queen angelfish is the sympatric and similar Bermuda blue angelfish, from which it split around 1.5 mya. They are known to interbreed, producing a hybrid known as the Townsend angelfish which has features similar to both parent species. The Townsend angelfish is fertile, and individuals can breed both with each other and with the two parent species.\n",
      "\u001b[32mCluster 0 - The queen angelfish, also known as the blue angelfish, golden angelfish, or yellow angelfish, - mention indices [2, 2] - subtree indices [0, 17]\u001b[0m\n",
      "\u001b[32mThe queen angelfish, also known as the blue angelfish, golden angelfish, or yellow angelfish, - mention indices [2, 2] - subtree indices [0, 17]\u001b[0m\n",
      "\u001b[32mIt - mention indices [45, 45] - subtree indices [45, 45]\u001b[0m\n",
      "\u001b[32mits - mention indices [49, 49] - subtree indices [49, 49]\u001b[0m\n",
      "\u001b[32mits - mention indices [63, 63] - subtree indices [63, 63]\u001b[0m\n",
      "\u001b[32mit - mention indices [69, 69] - subtree indices [69, 69]\u001b[0m\n",
      "\u001b[32mit - mention indices [84, 84] - subtree indices [84, 84]\u001b[0m\n",
      "\u001b[31mCluster 1 - sponges - mention indices [101, 101] - subtree indices [101, 101]\u001b[0m\n",
      "\u001b[31msponges - mention indices [101, 101] - subtree indices [101, 101]\u001b[0m\n",
      "\u001b[31mTheir - mention indices [103, 103] - subtree indices [103, 103]\u001b[0m\n",
      "\u001b[31mThey - mention indices [119, 119] - subtree indices [119, 119]\u001b[0m\n",
      "\u001b[33mCluster 2 - the species - mention indices [140, 140] - subtree indices [139, 140]\u001b[0m\n",
      "\u001b[33mthe species - mention indices [140, 140] - subtree indices [139, 140]\u001b[0m\n",
      "\u001b[33mthe species - mention indices [161, 161] - subtree indices [160, 161]\u001b[0m\n",
      "\u001b[34mCluster 3 - The transparent eggs - mention indices [149, 149] - subtree indices [147, 149]\u001b[0m\n",
      "\u001b[34mThe transparent eggs - mention indices [149, 149] - subtree indices [147, 149]\u001b[0m\n",
      "\u001b[34mthey - mention indices [155, 155] - subtree indices [155, 155]\u001b[0m\n",
      "\u001b[35mCluster 4 - sponges - mention indices [182, 182] - subtree indices [182, 182]\u001b[0m\n",
      "\u001b[35msponges - mention indices [182, 182] - subtree indices [182, 182]\u001b[0m\n",
      "\u001b[35mTheir - mention indices [184, 184] - subtree indices [184, 184]\u001b[0m\n",
      "\u001b[35mThey - mention indices [200, 200] - subtree indices [200, 200]\u001b[0m\n",
      "\u001b[36mCluster 5 - the species - mention indices [221, 221] - subtree indices [220, 221]\u001b[0m\n",
      "\u001b[36mthe species - mention indices [221, 221] - subtree indices [220, 221]\u001b[0m\n",
      "\u001b[36mthe species - mention indices [242, 242] - subtree indices [241, 242]\u001b[0m\n",
      "\u001b[32mCluster 6 - The transparent eggs - mention indices [230, 230] - subtree indices [228, 230]\u001b[0m\n",
      "\u001b[32mThe transparent eggs - mention indices [230, 230] - subtree indices [228, 230]\u001b[0m\n",
      "\u001b[32mthey - mention indices [236, 236] - subtree indices [236, 236]\u001b[0m\n",
      "\u001b[31mCluster 7 - The queen angelfish - mention indices [304, 304] - subtree indices [302, 304]\u001b[0m\n",
      "\u001b[31mThe queen angelfish - mention indices [304, 304] - subtree indices [302, 304]\u001b[0m\n",
      "\u001b[31mhis - mention indices [321, 321] - subtree indices [321, 321]\u001b[0m\n",
      "\u001b[33mCluster 8 - the type locality given as the 'Western Atlantic/Caribbean - mention indices [328, 328] - subtree indices [326, 336]\u001b[0m\n",
      "\u001b[33mthe type locality given as the 'Western Atlantic/Caribbean - mention indices [328, 328] - subtree indices [326, 336]\u001b[0m\n",
      "\u001b[33mit - mention indices [341, 341] - subtree indices [341, 341]\u001b[0m\n",
      "\u001b[33mIts - mention indices [375, 375] - subtree indices [375, 375]\u001b[0m\n",
      "\u001b[33mits - mention indices [387, 387] - subtree indices [387, 387]\u001b[0m\n",
      "\u001b[34mCluster 9 - The closest relative and sister species of the queen angelfish - mention indices [483, 483] - subtree indices [478, 487]\u001b[0m\n",
      "\u001b[34mThe closest relative and sister species of the queen angelfish - mention indices [483, 483] - subtree indices [478, 487]\u001b[0m\n",
      "\u001b[34mThey - mention indices [505, 505] - subtree indices [505, 505]\u001b[0m\n",
      "\u001b[35mCluster 10 - the sympatric and similar Bermuda blue angelfish, from which it split around 1.5 mya - mention indices [495, 495] - subtree indices [489, 503]\u001b[0m\n",
      "\u001b[35mthe sympatric and similar Bermuda blue angelfish, from which it split around 1.5 mya - mention indices [495, 495] - subtree indices [489, 503]\u001b[0m\n",
      "\u001b[35mit - mention indices [499, 499] - subtree indices [499, 499]\u001b[0m\n",
      "Elapsed Time: 392.2770023345947ms\n"
     ]
    }
   ],
   "source": [
    "predict_and_time(angelfish_article, sm_nlp)"
   ]
  },
  {
   "cell_type": "code",
   "execution_count": 29,
   "id": "4f70aab1-c909-4f0a-acbc-5db732ca1b05",
   "metadata": {},
   "outputs": [
    {
     "name": "stdout",
     "output_type": "stream",
     "text": [
      "The queen angelfish, also known as the blue angelfish, golden angelfish, or yellow angelfish, is a species of marine angelfish found in the western Atlantic Ocean. It is a benthic warm-water species that lives in coral reefs. It is recognized by its blue and yellow coloration and a distinctive spot or 'crown' on its forehead. This crown distinguishes it from the closely related and similar-looking Bermuda blue angelfish, with which it overlaps in range and can interbreed. Adult queen angelfish are selective feeders and primarily eat sponges. Their social structure consists of harems which include one male and up to four females. They live within a territory where the females forage separately and are tended to by the male. Breeding in the species occurs near a full moon. The transparent eggs float in the water until they hatch. Juveniles of the species have different coloration than adults and act as cleaner fish.Adult queen angelfish are selective feeders and primarily eat sponges. Their social structure consists of harems which include one male and up to four females. They live within a territory where the females forage separately and are tended to by the male. Breeding in the species occurs near a full moon. The transparent eggs float in the water until they hatch. Juveniles of the species have different coloration than adults and act as cleaner fish. The queen angelfish is popular in the aquarium trade and has been a particularly common exported species from Brazil. In 2010, the queen angelfish was assessed as least concern by the International Union for Conservation of Nature as the wild population appeared to be stable. The queen angelfish was first described as Chaetodon ciliaris in 1758 by Carl Linnaeus in the 10th edition of his Systema Naturae, with the type locality given as the 'Western Atlantic/Caribbean'. In 1802 it was moved by French naturalist Bernard Germain de Lacépède to the genus Holacanthus, the name of which is derived from the Ancient Greek words 'holos' and 'akantha'. Its specific name ciliaris means 'fringed', a reference to its squamis ciliatis. Other common names for the species include 'blue angelfish', 'golden angelfish' and 'yellow angelfish'. Marine angelfish of the genus Holacanthus likely emerged between 10.2 and 7.6 million years ago. The most basal species is the Guinean angelfish off the coast of West Africa, indicating that the lineage colonized the Atlantic from the Indian Ocean. The closure of the Isthmus of Panama 3.5–3.1 mya led to the splitting off of the Tropical Eastern Pacific species. The closest relative and sister species of the queen angelfish is the sympatric and similar Bermuda blue angelfish, from which it split around 1.5 mya. They are known to interbreed, producing a hybrid known as the Townsend angelfish which has features similar to both parent species. The Townsend angelfish is fertile, and individuals can breed both with each other and with the two parent species.\n",
      "\u001b[32mCluster 0 - marine angelfish found in the western Atlantic Ocean - mention indices [23, 23] - subtree indices [22, 29]\u001b[0m\n",
      "\u001b[32mmarine angelfish found in the western Atlantic Ocean - mention indices [23, 23] - subtree indices [22, 29]\u001b[0m\n",
      "\u001b[32mIt - mention indices [45, 45] - subtree indices [45, 45]\u001b[0m\n",
      "\u001b[32mits - mention indices [49, 49] - subtree indices [49, 49]\u001b[0m\n",
      "\u001b[32mits - mention indices [63, 63] - subtree indices [63, 63]\u001b[0m\n",
      "\u001b[32mit - mention indices [69, 69] - subtree indices [69, 69]\u001b[0m\n",
      "\u001b[32mit - mention indices [84, 84] - subtree indices [84, 84]\u001b[0m\n",
      "\u001b[31mCluster 1 - sponges - mention indices [101, 101] - subtree indices [101, 101]\u001b[0m\n",
      "\u001b[31msponges - mention indices [101, 101] - subtree indices [101, 101]\u001b[0m\n",
      "\u001b[31mTheir - mention indices [103, 103] - subtree indices [103, 103]\u001b[0m\n",
      "\u001b[31mThey - mention indices [119, 119] - subtree indices [119, 119]\u001b[0m\n",
      "\u001b[33mCluster 2 - the species - mention indices [140, 140] - subtree indices [139, 140]\u001b[0m\n",
      "\u001b[33mthe species - mention indices [140, 140] - subtree indices [139, 140]\u001b[0m\n",
      "\u001b[33mthe species - mention indices [161, 161] - subtree indices [160, 161]\u001b[0m\n",
      "\u001b[34mCluster 3 - The transparent eggs - mention indices [149, 149] - subtree indices [147, 149]\u001b[0m\n",
      "\u001b[34mThe transparent eggs - mention indices [149, 149] - subtree indices [147, 149]\u001b[0m\n",
      "\u001b[34mthey - mention indices [155, 155] - subtree indices [155, 155]\u001b[0m\n",
      "\u001b[35mCluster 4 - sponges - mention indices [182, 182] - subtree indices [182, 182]\u001b[0m\n",
      "\u001b[35msponges - mention indices [182, 182] - subtree indices [182, 182]\u001b[0m\n",
      "\u001b[35mTheir - mention indices [184, 184] - subtree indices [184, 184]\u001b[0m\n",
      "\u001b[35mThey - mention indices [200, 200] - subtree indices [200, 200]\u001b[0m\n",
      "\u001b[36mCluster 5 - the species - mention indices [221, 221] - subtree indices [220, 221]\u001b[0m\n",
      "\u001b[36mthe species - mention indices [221, 221] - subtree indices [220, 221]\u001b[0m\n",
      "\u001b[36mthe species - mention indices [242, 242] - subtree indices [241, 242]\u001b[0m\n",
      "\u001b[32mCluster 6 - The transparent eggs - mention indices [230, 230] - subtree indices [228, 230]\u001b[0m\n",
      "\u001b[32mThe transparent eggs - mention indices [230, 230] - subtree indices [228, 230]\u001b[0m\n",
      "\u001b[32mthey - mention indices [236, 236] - subtree indices [236, 236]\u001b[0m\n",
      "\u001b[31mCluster 7 - The queen angelfish - mention indices [304, 304] - subtree indices [302, 304]\u001b[0m\n",
      "\u001b[31mThe queen angelfish - mention indices [304, 304] - subtree indices [302, 304]\u001b[0m\n",
      "\u001b[31mhis - mention indices [321, 321] - subtree indices [321, 321]\u001b[0m\n",
      "\u001b[33mCluster 8 - Chaetodon ciliaris - mention indices [310, 310] - subtree indices [309, 310]\u001b[0m\n",
      "\u001b[33mChaetodon ciliaris - mention indices [310, 310] - subtree indices [309, 310]\u001b[0m\n",
      "\u001b[33mIts specific name ciliaris - mention indices [378, 378] - subtree indices [375, 378]\u001b[0m\n",
      "\u001b[34mCluster 9 - his Systema Naturae - mention indices [323, 323] - subtree indices [321, 323]\u001b[0m\n",
      "\u001b[34mhis Systema Naturae - mention indices [323, 323] - subtree indices [321, 323]\u001b[0m\n",
      "\u001b[34mit - mention indices [341, 341] - subtree indices [341, 341]\u001b[0m\n",
      "\u001b[35mCluster 10 - akantha - mention indices [372, 372] - subtree indices [372, 372]\u001b[0m\n",
      "\u001b[35makantha - mention indices [372, 372] - subtree indices [372, 372]\u001b[0m\n",
      "\u001b[35mIts - mention indices [375, 375] - subtree indices [375, 375]\u001b[0m\n",
      "\u001b[35mits - mention indices [387, 387] - subtree indices [387, 387]\u001b[0m\n",
      "\u001b[36mCluster 11 - The closest relative and sister species of the queen angelfish - mention indices [483, 483] - subtree indices [478, 487]\u001b[0m\n",
      "\u001b[36mThe closest relative and sister species of the queen angelfish - mention indices [483, 483] - subtree indices [478, 487]\u001b[0m\n",
      "\u001b[36mThey - mention indices [505, 505] - subtree indices [505, 505]\u001b[0m\n",
      "\u001b[32mCluster 12 - the queen angelfish - mention indices [487, 487] - subtree indices [485, 487]\u001b[0m\n",
      "\u001b[32mthe queen angelfish - mention indices [487, 487] - subtree indices [485, 487]\u001b[0m\n",
      "\u001b[32mit - mention indices [499, 499] - subtree indices [499, 499]\u001b[0m\n",
      "Elapsed Time: 407.75465965270996ms\n"
     ]
    }
   ],
   "source": [
    "predict_and_time(angelfish_article, lg_nlp)"
   ]
  },
  {
   "cell_type": "code",
   "execution_count": 30,
   "id": "a38b7905-d8f1-451d-9550-6771a5a52580",
   "metadata": {},
   "outputs": [
    {
     "name": "stdout",
     "output_type": "stream",
     "text": [
      "The queen angelfish, also known as the blue angelfish, golden angelfish, or yellow angelfish, is a species of marine angelfish found in the western Atlantic Ocean. It is a benthic warm-water species that lives in coral reefs. It is recognized by its blue and yellow coloration and a distinctive spot or 'crown' on its forehead. This crown distinguishes it from the closely related and similar-looking Bermuda blue angelfish, with which it overlaps in range and can interbreed. Adult queen angelfish are selective feeders and primarily eat sponges. Their social structure consists of harems which include one male and up to four females. They live within a territory where the females forage separately and are tended to by the male. Breeding in the species occurs near a full moon. The transparent eggs float in the water until they hatch. Juveniles of the species have different coloration than adults and act as cleaner fish.Adult queen angelfish are selective feeders and primarily eat sponges. Their social structure consists of harems which include one male and up to four females. They live within a territory where the females forage separately and are tended to by the male. Breeding in the species occurs near a full moon. The transparent eggs float in the water until they hatch. Juveniles of the species have different coloration than adults and act as cleaner fish. The queen angelfish is popular in the aquarium trade and has been a particularly common exported species from Brazil. In 2010, the queen angelfish was assessed as least concern by the International Union for Conservation of Nature as the wild population appeared to be stable. The queen angelfish was first described as Chaetodon ciliaris in 1758 by Carl Linnaeus in the 10th edition of his Systema Naturae, with the type locality given as the 'Western Atlantic/Caribbean'. In 1802 it was moved by French naturalist Bernard Germain de Lacépède to the genus Holacanthus, the name of which is derived from the Ancient Greek words 'holos' and 'akantha'. Its specific name ciliaris means 'fringed', a reference to its squamis ciliatis. Other common names for the species include 'blue angelfish', 'golden angelfish' and 'yellow angelfish'. Marine angelfish of the genus Holacanthus likely emerged between 10.2 and 7.6 million years ago. The most basal species is the Guinean angelfish off the coast of West Africa, indicating that the lineage colonized the Atlantic from the Indian Ocean. The closure of the Isthmus of Panama 3.5–3.1 mya led to the splitting off of the Tropical Eastern Pacific species. The closest relative and sister species of the queen angelfish is the sympatric and similar Bermuda blue angelfish, from which it split around 1.5 mya. They are known to interbreed, producing a hybrid known as the Townsend angelfish which has features similar to both parent species. The Townsend angelfish is fertile, and individuals can breed both with each other and with the two parent species.\n",
      "\u001b[32mCluster 0 - a benthic warm-water species that lives in coral reefs - mention indices [38, 38] - subtree indices [33, 43]\u001b[0m\n",
      "\u001b[32ma benthic warm-water species that lives in coral reefs - mention indices [38, 38] - subtree indices [33, 43]\u001b[0m\n",
      "\u001b[32mIt - mention indices [45, 45] - subtree indices [45, 45]\u001b[0m\n",
      "\u001b[32mits - mention indices [49, 49] - subtree indices [49, 49]\u001b[0m\n",
      "\u001b[32mits - mention indices [63, 63] - subtree indices [63, 63]\u001b[0m\n",
      "\u001b[32mit - mention indices [69, 69] - subtree indices [69, 69]\u001b[0m\n",
      "\u001b[32mit - mention indices [84, 84] - subtree indices [84, 84]\u001b[0m\n",
      "\u001b[31mCluster 1 - sponges - mention indices [101, 101] - subtree indices [101, 101]\u001b[0m\n",
      "\u001b[31msponges - mention indices [101, 101] - subtree indices [101, 101]\u001b[0m\n",
      "\u001b[31mTheir - mention indices [103, 103] - subtree indices [103, 103]\u001b[0m\n",
      "\u001b[31mThey - mention indices [119, 119] - subtree indices [119, 119]\u001b[0m\n",
      "\u001b[33mCluster 2 - The transparent eggs - mention indices [149, 149] - subtree indices [147, 149]\u001b[0m\n",
      "\u001b[33mThe transparent eggs - mention indices [149, 149] - subtree indices [147, 149]\u001b[0m\n",
      "\u001b[33mthey - mention indices [155, 155] - subtree indices [155, 155]\u001b[0m\n",
      "\u001b[34mCluster 3 - Adult queen angelfish - mention indices [175, 175] - subtree indices [173, 175]\u001b[0m\n",
      "\u001b[34mAdult queen angelfish - mention indices [175, 175] - subtree indices [173, 175]\u001b[0m\n",
      "\u001b[34mTheir - mention indices [184, 184] - subtree indices [184, 184]\u001b[0m\n",
      "\u001b[34mThey - mention indices [200, 200] - subtree indices [200, 200]\u001b[0m\n",
      "\u001b[35mCluster 4 - The transparent eggs - mention indices [230, 230] - subtree indices [228, 230]\u001b[0m\n",
      "\u001b[35mThe transparent eggs - mention indices [230, 230] - subtree indices [228, 230]\u001b[0m\n",
      "\u001b[35mthey - mention indices [236, 236] - subtree indices [236, 236]\u001b[0m\n",
      "\u001b[36mCluster 5 - The queen angelfish - mention indices [304, 304] - subtree indices [302, 304]\u001b[0m\n",
      "\u001b[36mThe queen angelfish - mention indices [304, 304] - subtree indices [302, 304]\u001b[0m\n",
      "\u001b[36mhis - mention indices [321, 321] - subtree indices [321, 321]\u001b[0m\n",
      "\u001b[32mCluster 6 - Chaetodon ciliaris - mention indices [310, 310] - subtree indices [309, 310]\u001b[0m\n",
      "\u001b[32mChaetodon ciliaris - mention indices [310, 310] - subtree indices [309, 310]\u001b[0m\n",
      "\u001b[32mciliaris - mention indices [378, 378] - subtree indices [378, 378]\u001b[0m\n",
      "\u001b[31mCluster 7 - the type locality - mention indices [328, 328] - subtree indices [326, 328]\u001b[0m\n",
      "\u001b[31mthe type locality - mention indices [328, 328] - subtree indices [326, 328]\u001b[0m\n",
      "\u001b[31mit - mention indices [341, 341] - subtree indices [341, 341]\u001b[0m\n",
      "\u001b[31mIts - mention indices [375, 375] - subtree indices [375, 375]\u001b[0m\n",
      "\u001b[31mits - mention indices [387, 387] - subtree indices [387, 387]\u001b[0m\n",
      "\u001b[33mCluster 8 - angelfish', 'golden angelfish - mention indices [400, 405]\u001b[0m\n",
      "\u001b[33mangelfish', 'golden angelfish - mention indices [400, 405]\u001b[0m\n",
      "\u001b[33mThey - mention indices [505, 505] - subtree indices [505, 505]\u001b[0m\n",
      "\u001b[34mCluster 9 - the sympatric and similar Bermuda blue angelfish, from which it split around 1.5 mya - mention indices [495, 495] - subtree indices [489, 503]\u001b[0m\n",
      "\u001b[34mthe sympatric and similar Bermuda blue angelfish, from which it split around 1.5 mya - mention indices [495, 495] - subtree indices [489, 503]\u001b[0m\n",
      "\u001b[34mit - mention indices [499, 499] - subtree indices [499, 499]\u001b[0m\n",
      "Elapsed Time: 1774.629831314087ms\n"
     ]
    }
   ],
   "source": [
    "predict_and_time(angelfish_article, trf_nlp)"
   ]
  },
  {
   "cell_type": "markdown",
   "id": "5c7867ea-008d-44ea-a964-e4bfd3a5a9ca",
   "metadata": {},
   "source": [
    "## Conclusion"
   ]
  },
  {
   "cell_type": "markdown",
   "id": "c9213c12-144d-42b6-aeb1-73aeaeb6f9e7",
   "metadata": {},
   "source": [
    "It definitely feels like `sm_nlp` performs the best both in accuracy and performance, but requires some text cleaning. "
   ]
  },
  {
   "cell_type": "markdown",
   "id": "a72d1452-536c-4d22-851a-2c61831a15cd",
   "metadata": {},
   "source": [
    "### Text Cleaning\n",
    "\n",
    "* Remove parens, brackets, braces"
   ]
  },
  {
   "cell_type": "code",
   "execution_count": null,
   "id": "69c0e890-3779-4d35-b5bb-d99f6718716c",
   "metadata": {},
   "outputs": [],
   "source": []
  }
 ],
 "metadata": {
  "kernelspec": {
   "display_name": "spacy",
   "language": "python",
   "name": "python3"
  },
  "language_info": {
   "codemirror_mode": {
    "name": "ipython",
    "version": 3
   },
   "file_extension": ".py",
   "mimetype": "text/x-python",
   "name": "python",
   "nbconvert_exporter": "python",
   "pygments_lexer": "ipython3",
   "version": "3.10.9"
  }
 },
 "nbformat": 4,
 "nbformat_minor": 5
}
