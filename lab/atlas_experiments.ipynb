{
 "cells": [
  {
   "cell_type": "code",
   "execution_count": 1,
   "metadata": {},
   "outputs": [],
   "source": [
    "import spacy\n",
    "import coreferee"
   ]
  },
  {
   "cell_type": "code",
   "execution_count": 2,
   "metadata": {},
   "outputs": [
    {
     "data": {
      "text/plain": [
       "<coreferee.manager.CorefereeBroker at 0x1c1c0963610>"
      ]
     },
     "execution_count": 2,
     "metadata": {},
     "output_type": "execute_result"
    }
   ],
   "source": [
    "nlp = spacy.load('en_core_web_sm')\n",
    "nlp.add_pipe('coreferee')"
   ]
  },
  {
   "cell_type": "markdown",
   "metadata": {},
   "source": [
    "## Sample Text Tests"
   ]
  },
  {
   "cell_type": "code",
   "execution_count": 3,
   "metadata": {},
   "outputs": [],
   "source": [
    "document = \"John ate his meal. He was very happy. He and his wife Marie decided that they wanted to eat the same meal later together. They are very happy together.\"\n",
    "nlp_doc = nlp(document)"
   ]
  },
  {
   "cell_type": "code",
   "execution_count": 4,
   "metadata": {},
   "outputs": [
    {
     "name": "stdout",
     "output_type": "stream",
     "text": [
      "0: John(0), his(2), He(5), He(10), his(12)\n",
      "1: [He(10); wife(13); Marie(14)], they(17), They(27)\n"
     ]
    }
   ],
   "source": [
    "nlp_doc._.coref_chains.print()"
   ]
  },
  {
   "cell_type": "code",
   "execution_count": 5,
   "metadata": {},
   "outputs": [
    {
     "name": "stdout",
     "output_type": "stream",
     "text": [
      "{'root_index': 0, 'token_indexes': [0], 'pretty_representation': 'John(0)'}\n",
      "{'root_index': 10, 'token_indexes': [10, 13, 14], 'pretty_representation': '[He(10); wife(13); Marie(14)]'}\n"
     ]
    }
   ],
   "source": [
    "print(nlp_doc._.coref_chains[0][nlp_doc._.coref_chains[0].most_specific_mention_index].__dict__)\n",
    "print(nlp_doc._.coref_chains[1][nlp_doc._.coref_chains[1].most_specific_mention_index].__dict__)"
   ]
  },
  {
   "cell_type": "code",
   "execution_count": 6,
   "metadata": {},
   "outputs": [
    {
     "name": "stdout",
     "output_type": "stream",
     "text": [
      "{'chains': [0: [0], [2], [5], [10], [12], 1: [10, 13, 14], [17], [27]]}\n"
     ]
    }
   ],
   "source": [
    "print(nlp_doc._.coref_chains.__dict__)"
   ]
  },
  {
   "cell_type": "code",
   "execution_count": 18,
   "metadata": {},
   "outputs": [
    {
     "name": "stdout",
     "output_type": "stream",
     "text": [
      "{'root_index': 10, 'token_indexes': [10, 13, 14], 'pretty_representation': '[He(10); wife(13); Marie(14)]'}\n"
     ]
    }
   ],
   "source": [
    "print(nlp_doc._.coref_chains[1][0].__dict__)"
   ]
  },
  {
   "cell_type": "markdown",
   "metadata": {},
   "source": [
    "## With Extracted Tokens"
   ]
  },
  {
   "cell_type": "code",
   "execution_count": 19,
   "metadata": {},
   "outputs": [],
   "source": [
    "document = \\\n",
    "'''\n",
    "[TEXT] - 1049 Fifth Avenue is a 23-floor luxury condominium apartment building located in the\n",
    "[INTERLINK] - /wiki/Upper_East_Side - Upper East Side\n",
    "[TEXT] - ,\n",
    "[INTERLINK] - /wiki/New_York_City - New York City\n",
    "[TEXT] - . Built in 1928 as the Adams Hotel , the building underwent extensive renovation in its conversion to\n",
    "[INTERLINK] - /wiki/Residential_condominium - residential condominiums\n",
    "[TEXT] - during the years 1990-1993. When the apartments were first offered for sale in 1991, they were the highest-priced residential apartments ever listed in New York City. Their sale prices set city records in 1993 and 1994.\n",
    "[SECTION] - History\n",
    "[TEXT] - 1049 Fifth Avenue was built in 1928 as the Adams Hotel . A 23-story beige brick\n",
    "[INTERLINK] - /wiki/Pre-war_(architecture) - pre-war\n",
    "[INTERLINK] - /wiki/Functionalism_(architecture) - Functionalist\n",
    "[TEXT] - -style structure, its architecture has never been considered particularly distinguished. The Adams Hotel was the last residence of\n",
    "[INTERLINK] - /wiki/Hector_Guimard - Hector Guimard\n",
    "[TEXT] - , the main representative of\n",
    "[INTERLINK] - /wiki/Art_Nouveau - Art Nouveau\n",
    "[TEXT] - in France. He died in this building May 20, 1942. The building, still known as the Adams Hotel, was sold in March 1957 for $1.4 million (equivalent to $14,587,000 in 2022). The buyer was developer Marvin S. Winter, who then leased the building to Leo Kossove. The hotel had 350 units at that time. Soon after, in November 1957, Winter sold the building to a consortium led by Philip I. Nemiroff and Jack Waltzer. A co-op conversion plan was offered to tenants at that time. The co-op conversion was declared effective in 1964 after at least 15% of units had been bought. The building is situated on the\n",
    "[INTERLINK] - /wiki/Upper_East_Side - Upper East Side\n",
    "[TEXT] - , in the area of New York City known as\n",
    "[INTERLINK] - /wiki/Museum_Mile,_New_York_City - Museum Mile\n",
    "[TEXT] - . It occupies the block bounded by\n",
    "[INTERLINK] - /wiki/Madison_Avenue - Madison\n",
    "[TEXT] - and\n",
    "[INTERLINK] - /wiki/Fifth_Avenue - Fifth\n",
    "[TEXT] - Avenues and\n",
    "[INTERLINK] - /wiki/86th_Street_(Manhattan) - 86th\n",
    "[TEXT] - and\n",
    "[INTERLINK] - /wiki/85th_Street_(Manhattan) - 85th\n",
    "[TEXT] - Streets. It is adjacent to and relates architecturally with the former Croyden Hotel , now rental apartments, that shares the remainder of the block to Madison Avenue. In 1990, 1049 Fifth Avenue was purchased by Jack C. Heller of Heller Macaulay Equities, Inc. and converted into 54 luxury condominiums averaging 3,000 square feet (280 m ) each. This was subsequently reduced to 45 units.\n",
    "[SECTION] - Address change\n",
    "[TEXT] - Despite its official address on\n",
    "[INTERLINK] - /wiki/Fifth_Avenue - Fifth Avenue\n",
    "[TEXT] - , the building is actually located a short distance east on\n",
    "[INTERLINK] - /wiki/86th_Street_(Manhattan) - 86th Street\n",
    "[TEXT] - , offset from Fifth Avenue by the\n",
    "[INTERLINK] - /wiki/William_Starr_Miller_House - William Starr Miller House\n",
    "[TEXT] - , which abuts its western facade. When originally constructed, the address of the building was 2 East 86th Street. During its renovation, the building owners applied to the Manhattan\n",
    "[INTERLINK] - /wiki/Borough_President - Borough President\n",
    "[TEXT] - 's office for an address change, citing the fact that all floors above the seventh provide an unobstructed view of\n",
    "[INTERLINK] - /wiki/Central_Park - Central Park\n",
    "[TEXT] - . This was for marketing purposes, due to the additional value that accrues to real estate with a Fifth Avenue address. Such changes are unusual but not unheard of, and are granted if deemed justified. The address change was approved and implemented in the spring of 1991.\n",
    "[SECTION] - Conversion\n",
    "[TEXT] - After serious financial problems on the part of its owner, 1049 Fifth Avenue was renovated and converted into luxury condominium apartments starting in 1990. Amid a perilous market for\n",
    "[INTERLINK] - /wiki/Luxury_real_estate - luxury real estate\n",
    "[TEXT] - , the condominiums were put on the market starting in 1991 at $1,200 to $1,500 per square-foot, making them the then-highest-priced residential apartments ever offered for sale in New York City.\n",
    "[SECTION] - Gerald Guterman\n",
    "[TEXT] - In the mid-1980s, 1049 Fifth Avenue was purchased by New York condominium developer\n",
    "[INTERLINK] - /wiki/Gerald_Guterman - Gerald Guterman\n",
    "[TEXT] - , who then began renovations on the building and started purchasing the apartments of long-term tenants. Later, Guterman suffered substantial financial setbacks due to the\n",
    "[INTERLINK] - /wiki/Tax_Reform_Act_of_1986 - Tax Reform Act of 1986\n",
    "[TEXT] - , which significantly reduced the value of his real estate holdings, and also the\n",
    "[INTERLINK] - /wiki/Black_Monday_(1987) - 1987 stock market crash\n",
    "[TEXT] - . Renovations to the building were halted, and Guterman was forced to declare bankruptcy. Despite an intensive legal struggle by Guterman to retain ownership of the building, it was placed in\n",
    "[INTERLINK] - /wiki/Receivership - receivership\n",
    "[TEXT] - and ordered sold.\n",
    "[SECTION] - Jack C. Heller\n",
    "[TEXT] - On January 19, 1990, 1049 Fifth Avenue was purchased by Jack C. Heller, partner in the New York real estate development company Heller Macaulay Equities, Inc. The sale price was $38 million, with financing provided by\n",
    "[INTERLINK] - /wiki/Investcorp - Investcorp\n",
    "[TEXT] - . An additional bid by Heller failed to purchase the adjoining former\n",
    "[INTERLINK] - /wiki/William_Starr_Miller_House - William Starr Miller House\n",
    "[TEXT] - , a\n",
    "[INTERLINK] - /wiki/Louis_XIII_of_France - Louis XIII\n",
    "[TEXT] - /\n",
    "[INTERLINK] - /wiki/Beaux-Arts_architecture - Beaux-Arts structure\n",
    "[TEXT] - located on the corner of Fifth Avenue. Heller, a 1978\n",
    "[INTERLINK] - /wiki/Boston_University - Boston University\n",
    "[TEXT] - graduate, was heir to the capital of the Foreston Group, a family-owned conglomerate founded in 1906 that was the largest independent coal mining and distribution operation in the US, then valued at $150 million. In 1985, reviving the remnants of his family's real estate subdivision, Heller began developing residential real estate. During the years 1985-1990, he built some 1,500 apartments, including Le Chambord , a 23-story luxury condominium building at 350\n",
    "[INTERLINK] - /wiki/72nd_Street_(Manhattan) - East 72nd Street\n",
    "[TEXT] - . Heller expressed admiration for the architecture of the iconic apartment houses of\n",
    "[INTERLINK] - /wiki/Rosario_Candela - Rosario Candela\n",
    "[TEXT] - . He founded Heller Macaulay Equities in 1989 with partner Duncan Macaulay. Of 1049 Fifth Avenue, Heller said, \"Never again in my lifetime do I expect to see the chance to build a great building on or within a few steps of Fifth Avenue\".\n",
    "[SECTION] - Renovation\n",
    "[TEXT] - Heller divided 1049 Fifth Avenue into 54 apartments (later reduced to 45) with an average of 3,000 square feet (280 m ) of floor space per apartment, including four penthouses with up to 4,600 square feet (430 m ). He then spent $47 million on building renovations, almost $1 million per apartment. Designed by\n",
    "[INTERLINK] - /wiki/Costas_Kondylis - Costas Kondylis\n",
    "[TEXT] - Architects and appointed by the up-market interior design firm Cullman & Kravis, the apartments were accommodated with extensive luxury features, including separate heating and cooling for each room, 12-inch-thick (300 mm) concrete floors, large\n",
    "[INTERLINK] - /wiki/Window#Picture - picture windows\n",
    "[TEXT] - , and a\n",
    "[INTERLINK] - /wiki/Butler%27s_pantry - butler's pantry\n",
    "[TEXT] - in most apartments. Only four of the resulting apartments have fewer than two bedrooms. All apartments on the west side of the building above the seventh floor overlook\n",
    "[INTERLINK] - /wiki/Central_Park - Central Park\n",
    "[TEXT] - and the\n",
    "[INTERLINK] - /wiki/Jacqueline_Kennedy_Onassis_Reservoir - Reservoir\n",
    "[TEXT] - , over the top of the adjacent\n",
    "[INTERLINK] - /wiki/William_Starr_Miller_House - William Starr Miller House\n",
    "[TEXT] - . This is a highly desirable feature for a condominium in the city and one which fetches a substantial premium. This side of the structure was extensively reworked, with large windows and balconies on some apartments. Other luxury features of the property include refrigerator storage for deliveries, storage lockers, and a bicycle room, but no pool or garage. All of the apartments have their own laundry facilities and some have fireplaces. In addition, the building employs elevator operators. Upscale grocer\n",
    "[INTERLINK] - /wiki/Dean_%26_DeLuca - Dean & DeLuca\n",
    "[TEXT] - maintains a storefront on the northwest corner of Madison Avenue and 85th Street. Renovation began after purchase of the building in 1990 and was completed in 1993. In addition to the condominiums, staff apartments were offered for sale on a first-come-first-served basis for $100,000 each.\n",
    "[SECTION] - Economic climate\n",
    "[TEXT] - The renovation of 1049 Fifth Avenue was undertaken during a dismal economic climate for luxury real estate. The same economic circumstances that overtook Gerald Guterman had not yet subsided, and many top real estate development companies were failing. One of the prestige luxury addresses in Manhattan,\n",
    "[INTERLINK] - /wiki/Trump_Palace_Condominiums - Trump Palace\n",
    "[TEXT] - , was struggling, and several recently constructed residential high-rises sat empty. Prices for New York condominiums had fallen at least 25 percent since 1989, and plummeted a whopping 4.6 percent just in the second quarter of 1991. Worse, the malaise extended well beyond New York. The world was in the midst of a severe economic downturn, the\n",
    "[INTERLINK] - /wiki/Early_1990s_recession - recession of 1991\n",
    "[TEXT] - . About Heller's ultra-luxury condominium development at 1049 Fifth Avenue,\n",
    "[INTERLINK] - /wiki/New_York_(magazine) - New York Magazine\n",
    "[TEXT] - asked, was the project \"Folly on the 'Fifth'?\" Real estate expert James Austrian, of Austrian, Roth and Partners, was scathing: \"I think Jack Heller is crazy, but I wish him well\". Amidst these perilous economic circumstances and skeptical criticism from industry experts, Heller appeared supremely confident, almost ebullient. He expressed confidence that his luxury project would command high prices despite the general depression of real estate values, and he predicted that he would not be able to live in the building because every apartment would be sold.\n",
    "[SECTION] - Sales success\n",
    "[TEXT] - The condominiums at 1049 Fifth Avenue were opened for sale during the first week of October 1991, with initial prices at $1,200 to $1,500 per square-foot. These prices made them the highest-priced residential apartments ever offered for sale in New York City. By 1993, Heller had sold sixteen of the apartments for prices ranging from $800 to $950 per square foot. That year he recorded the two highest condominium sale prices in Manhattan: $3.5 million and $3.8 million. On June 22, 1994,\n",
    "[INTERLINK] - /wiki/Entrepreneur_Media,_Inc. - Entrepreneur Magazine\n",
    "[TEXT] - reported the spectacular sale of a 4,661-square-foot (433.0 m ) penthouse for $5.5 million, or $1,100 per square-foot, the record for that year. The apartment featured 4 bedrooms, 6.5 marble baths, a living room with a wood-burning fireplace, media room, library, formal dining room, granite kitchen, and a maid's room. It also featured 4 terraces and 360-degree views. Heller took the opportunity of this sale to again express confidence in his project and New York real estate in general, saying that it proved \"that the condominium market in New York City is again thriving and getting stronger every day.\" As a result of his high-profile success with 1049 Fifth Avenue, Heller was named one of the \"40 Under 40\" business luminaries by\n",
    "[INTERLINK] - /wiki/Crain_Communications - Crain's New York Business\n",
    "[TEXT] - in 1993.\n",
    "[SECTION] - Rush Limbaugh\n",
    "[TEXT] - American radio personality\n",
    "[INTERLINK] - /wiki/Rush_Limbaugh - Rush Limbaugh\n",
    "[TEXT] - began his national broadcasting career in Manhattan in 1988. In 1992, he earned $3.5 million, and he was on his way to making a fortune. Limbaugh purchased a 10-room penthouse at 1049 Fifth Avenue, with a fireplace and four terraces, for \"just under\" $5 million in 1994. After moving his broadcast operation to\n",
    "[INTERLINK] - /wiki/Palm_Beach,_Florida - Palm Beach, Florida\n",
    "[TEXT] - in the late 1990s, Limbaugh railed on his program about high state income tax rates in\n",
    "[INTERLINK] - /wiki/New_York_(state) - New York\n",
    "[TEXT] - . In the spring of 2009, New York State adopted a temporary income tax surcharge on wealthy individuals, at which time Limbaugh threatened to sell his condominium and leave the city forever. A transcript of the show on Limbaugh's website was titled, \"El Rushbo to New York: Drop Dead.\" New York Governor\n",
    "[INTERLINK] - /wiki/David_Paterson - David Paterson\n",
    "[TEXT] - made light of Limbaugh's criticism, saying, “If I knew that would be the result, I would’ve thought about the taxes earlier.” Limbaugh made good on his promise to sell his apartment, and the condominium went into contract on July 8, 2010, for \"a bit under\" $12.95 million.\n",
    "[SECTION] - See also\n",
    "[LIST (UnorderedList)]\n",
    "[LIST ITEM]\n",
    "[INTERLINK] - /wiki/William_Starr_Miller_House - William Starr Miller House\n",
    "[LIST ITEM]\n",
    "[INTERLINK] - /wiki/Carnegie_Hill - Carnegie Hill\n",
    "[LIST ITEM]\n",
    "[INTERLINK] - /wiki/Upper_East_Side - Upper East Side\n",
    "[LIST ITEM]\n",
    "[INTERLINK] - /wiki/Museum_Mile,_New_York_City - Museum Mile, New York City\n",
    "[LIST ITEM]\n",
    "[INTERLINK] - /wiki/Central_Park - Central Park\n",
    "[LIST ITEM]\n",
    "[INTERLINK] - /wiki/Madison_Avenue - Madison Avenue\n",
    "[LIST ITEM]\n",
    "[INTERLINK] - /wiki/Fifth_Avenue - Fifth Avenue\n",
    "[LIST ITEM]\n",
    "[INTERLINK] - /wiki/86th_Street_(Manhattan) - 86th Street (Manhattan)\n",
    "[LIST ITEM]\n",
    "[INTERLINK] - /wiki/85th_Street_(Manhattan) - 85th Street (Manhattan)\n",
    "[LIST ITEM]\n",
    "[INTERLINK] - /wiki/Gerald_Guterman - Gerald Guterman\n",
    "[LIST ITEM]\n",
    "[INTERLINK] - /wiki/Costas_Kondylis - Costas Kondylis\n",
    "[SECTION] - References\n",
    "[LINK] - https://geohack.toolforge.org/geohack.php?pagename=1049_Fifth_Avenue&params=40.781184_N_73.959864_W_ - 40°46′52″N 73°57′36″W﻿ / ﻿40.781184°N 73.959864°W﻿ / 40.781184; -73.959864\n",
    "'''"
   ]
  },
  {
   "cell_type": "markdown",
   "metadata": {},
   "source": [
    "We need to process this token tree so that we can find out which tokens are corefences that refer to some antecedent."
   ]
  },
  {
   "cell_type": "markdown",
   "metadata": {},
   "source": [
    "Some considerations:\n",
    "* Do we want to process it in a way that text is replaced directly?\n",
    "* Do we want to process it in a way that references are returned and we replace given the result?"
   ]
  },
  {
   "cell_type": "markdown",
   "metadata": {},
   "source": [
    "Approach 1 seems easier. Approach 2 seems more controlled and composable. But do we really need that level of composability? \n",
    "If we use approach 1:\n",
    "* we just return a string. It's easy.\n",
    "If we use approach 2:\n",
    "* we return a list of `CorefClusters`.\n",
    "* `CorefCluster` will contain an antecedent, and all referring mentions.\n",
    "* For example, with the previous example:\n",
    "```\n",
    "0: John(0), his(2), He(5), He(10), his(12)\n",
    "1: [He(10); wife(13); Marie(14)], they(17), They(27)\n",
    "```\n",
    "* There will be 2 `CorefCluster`s. \n",
    "* `CorefCluster` 1 -> \n",
    "    * Antecedent = `John`\n",
    "    * Mentions = `[John(0), his(2), He(5), He(10), his(12)]`\n",
    "* `CorefCluster` 2 ->\n",
    "    * Antecedent = `[He(10), wife(13), Marie(14)]`\n",
    "    * Mentions = `[He(10); wife(13); Marie(14)], they(17), They(27)`\n",
    "\n",
    "This looks okay. But we also need to know which token it is in."
   ]
  },
  {
   "cell_type": "markdown",
   "metadata": {},
   "source": []
  }
 ],
 "metadata": {
  "kernelspec": {
   "display_name": "atlas",
   "language": "python",
   "name": "python3"
  },
  "language_info": {
   "codemirror_mode": {
    "name": "ipython",
    "version": 3
   },
   "file_extension": ".py",
   "mimetype": "text/x-python",
   "name": "python",
   "nbconvert_exporter": "python",
   "pygments_lexer": "ipython3",
   "version": "3.10.9"
  }
 },
 "nbformat": 4,
 "nbformat_minor": 2
}
